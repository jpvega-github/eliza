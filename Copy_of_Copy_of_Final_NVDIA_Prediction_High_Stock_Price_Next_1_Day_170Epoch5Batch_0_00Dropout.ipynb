{
  "nbformat": 4,
  "nbformat_minor": 0,
  "metadata": {
    "colab": {
      "name": "Copy of Copy of Final_NVDIA Prediction High Stock Price Next 1 Day_170Epoch5Batch_0.00Dropout.ipynb",
      "provenance": [],
      "collapsed_sections": [
        "FWQtArXVvs1e",
        "gbh-uw5A5T3I"
      ],
      "include_colab_link": true
    },
    "kernelspec": {
      "display_name": "Python 3",
      "name": "python3"
    },
    "language_info": {
      "name": "python"
    }
  },
  "cells": [
    {
      "cell_type": "markdown",
      "metadata": {
        "id": "view-in-github",
        "colab_type": "text"
      },
      "source": [
        "<a href=\"https://colab.research.google.com/github/jpvega-github/eliza/blob/master/Copy_of_Copy_of_Final_NVDIA_Prediction_High_Stock_Price_Next_1_Day_170Epoch5Batch_0_00Dropout.ipynb\" target=\"_parent\"><img src=\"https://colab.research.google.com/assets/colab-badge.svg\" alt=\"Open In Colab\"/></a>"
      ]
    },
    {
      "cell_type": "markdown",
      "metadata": {
        "id": "FWQtArXVvs1e"
      },
      "source": [
        "# NVIDIA Stock Highest Price Prediction for the next 1 day\n",
        "* Purpose\n",
        "  * Code for predicting the next 1 day of Nvidia's stock price\n",
        "* Model\n",
        "  * The model is trained on data from `2016-10-03` to `insert`\n",
        "  * The model is trained and tested on `High` stock prices since we are trying to ensure our covered calls are safe from being executed\n",
        "  * The model is tested on data from `insert` to `insert`\n",
        "  * The model is then tested to see how well it performs on the next 1 day of unknown stock price for `given date`\n",
        "* The model is fit as follows:\n",
        "\n",
        "    `model.fit(features, labels, epochs = 170, batch_size = 5, verbose = 1)`\n",
        "\n",
        "* Model build is as follows:\n",
        "```\n",
        "model = tf.keras.models.Sequential([\n",
        "    tf.keras.layers.LSTM(units = 50, return_sequences = True, input_shape = (features.shape[1], 1)),\n",
        "    #tf.keras.layers.Dropout(0.01),\n",
        "    #tf.keras.layers.LSTM(units = 50, return_sequences = True),\n",
        "    #tf.keras.layers.Dropout(0.01),\n",
        "    tf.keras.layers.LSTM(units = 50, return_sequences = True),\n",
        "    #tf.keras.layers.Dropout(0.01),\n",
        "    tf.keras.layers.LSTM(units = 50),\n",
        "    #tf.keras.layers.Dropout(0.01),\n",
        "    tf.keras.layers.Dense(units = 1)\n",
        "])\n",
        "```\n",
        "\n",
        "###**Let’s make this concrete with a small example**\n",
        "\n",
        "Assume you have a dataset with 200 samples (rows of data) (FYI: my dataset has 202 samples) and you choose a batch size of 5 and 1,000 epochs.\n",
        "\n",
        "* **This means that the dataset will be divided into 40 batches (`200/5 = 40`), each with five samples. The model weights will be updated after each batch of five samples.**\n",
        "\n",
        "* **This also means that ONE EPOCH...** will involve 40 batches or 40 updates to the model.\n",
        "\n",
        "**With 1,000 epochs,..** the model will be exposed to or pass through the whole dataset 1,000 times. That is a total of 40,000 batches during the entire training process.\n",
        "\n",
        "See: https://machinelearningmastery.com/difference-between-a-batch-and-an-epoch/"
      ]
    },
    {
      "cell_type": "markdown",
      "metadata": {
        "id": "V_IFhRpZJiW3"
      },
      "source": [
        "# Intro to LSTMs\n",
        "\n",
        "We will predict stock prices with Long short-term memory (LSTM).\n",
        "\n",
        "LSTMs are very powerful in sequence prediction problems. They can store past information.\n",
        "\n",
        "LSTM models predict time series data. Stock market data is a great choice for this because it's quite regular and widely available via the Internet.\n"
      ]
    },
    {
      "cell_type": "code",
      "metadata": {
        "id": "vYfvhz8hStDK",
        "colab": {
          "base_uri": "https://localhost:8080/"
        },
        "outputId": "dd8063b3-04f0-4156-af82-77f4ff126deb"
      },
      "source": [
        "# Let's mount our google drive\n",
        "from google.colab import drive\n",
        "drive.mount('/content/drive')"
      ],
      "execution_count": 86,
      "outputs": [
        {
          "output_type": "stream",
          "name": "stdout",
          "text": [
            "Drive already mounted at /content/drive; to attempt to forcibly remount, call drive.mount(\"/content/drive\", force_remount=True).\n"
          ]
        }
      ]
    },
    {
      "cell_type": "code",
      "metadata": {
        "colab": {
          "base_uri": "https://localhost:8080/"
        },
        "id": "olzZ1ffwSMMy",
        "outputId": "ef597bac-93f9-41c6-9ae4-99b80e952aec"
      },
      "source": [
        "# Let's install tensorflow\n",
        "# TensorFlow is a free and open-source software library for machine learning. \n",
        "# It can be used across a range of tasks but has a particular focus on training and inference of deep neural networks.\n",
        "# Tensorflow is a symbolic math library based on dataflow and differentiable programming\n",
        "\n",
        "!pip install tensorflow"
      ],
      "execution_count": 87,
      "outputs": [
        {
          "output_type": "stream",
          "name": "stdout",
          "text": [
            "Requirement already satisfied: tensorflow in /usr/local/lib/python3.7/dist-packages (2.6.0)\n",
            "Requirement already satisfied: keras~=2.6 in /usr/local/lib/python3.7/dist-packages (from tensorflow) (2.6.0)\n",
            "Requirement already satisfied: clang~=5.0 in /usr/local/lib/python3.7/dist-packages (from tensorflow) (5.0)\n",
            "Requirement already satisfied: termcolor~=1.1.0 in /usr/local/lib/python3.7/dist-packages (from tensorflow) (1.1.0)\n",
            "Requirement already satisfied: tensorflow-estimator~=2.6 in /usr/local/lib/python3.7/dist-packages (from tensorflow) (2.6.0)\n",
            "Requirement already satisfied: h5py~=3.1.0 in /usr/local/lib/python3.7/dist-packages (from tensorflow) (3.1.0)\n",
            "Requirement already satisfied: tensorboard~=2.6 in /usr/local/lib/python3.7/dist-packages (from tensorflow) (2.6.0)\n",
            "Requirement already satisfied: numpy~=1.19.2 in /usr/local/lib/python3.7/dist-packages (from tensorflow) (1.19.5)\n",
            "Requirement already satisfied: google-pasta~=0.2 in /usr/local/lib/python3.7/dist-packages (from tensorflow) (0.2.0)\n",
            "Requirement already satisfied: gast==0.4.0 in /usr/local/lib/python3.7/dist-packages (from tensorflow) (0.4.0)\n",
            "Requirement already satisfied: wrapt~=1.12.1 in /usr/local/lib/python3.7/dist-packages (from tensorflow) (1.12.1)\n",
            "Requirement already satisfied: keras-preprocessing~=1.1.2 in /usr/local/lib/python3.7/dist-packages (from tensorflow) (1.1.2)\n",
            "Requirement already satisfied: flatbuffers~=1.12.0 in /usr/local/lib/python3.7/dist-packages (from tensorflow) (1.12)\n",
            "Requirement already satisfied: protobuf>=3.9.2 in /usr/local/lib/python3.7/dist-packages (from tensorflow) (3.17.3)\n",
            "Requirement already satisfied: wheel~=0.35 in /usr/local/lib/python3.7/dist-packages (from tensorflow) (0.37.0)\n",
            "Requirement already satisfied: grpcio<2.0,>=1.37.0 in /usr/local/lib/python3.7/dist-packages (from tensorflow) (1.41.0)\n",
            "Requirement already satisfied: typing-extensions~=3.7.4 in /usr/local/lib/python3.7/dist-packages (from tensorflow) (3.7.4.3)\n",
            "Requirement already satisfied: opt-einsum~=3.3.0 in /usr/local/lib/python3.7/dist-packages (from tensorflow) (3.3.0)\n",
            "Requirement already satisfied: astunparse~=1.6.3 in /usr/local/lib/python3.7/dist-packages (from tensorflow) (1.6.3)\n",
            "Requirement already satisfied: absl-py~=0.10 in /usr/local/lib/python3.7/dist-packages (from tensorflow) (0.12.0)\n",
            "Requirement already satisfied: six~=1.15.0 in /usr/local/lib/python3.7/dist-packages (from tensorflow) (1.15.0)\n",
            "Requirement already satisfied: cached-property in /usr/local/lib/python3.7/dist-packages (from h5py~=3.1.0->tensorflow) (1.5.2)\n",
            "Requirement already satisfied: werkzeug>=0.11.15 in /usr/local/lib/python3.7/dist-packages (from tensorboard~=2.6->tensorflow) (1.0.1)\n",
            "Requirement already satisfied: requests<3,>=2.21.0 in /usr/local/lib/python3.7/dist-packages (from tensorboard~=2.6->tensorflow) (2.23.0)\n",
            "Requirement already satisfied: google-auth-oauthlib<0.5,>=0.4.1 in /usr/local/lib/python3.7/dist-packages (from tensorboard~=2.6->tensorflow) (0.4.6)\n",
            "Requirement already satisfied: tensorboard-data-server<0.7.0,>=0.6.0 in /usr/local/lib/python3.7/dist-packages (from tensorboard~=2.6->tensorflow) (0.6.1)\n",
            "Requirement already satisfied: google-auth<2,>=1.6.3 in /usr/local/lib/python3.7/dist-packages (from tensorboard~=2.6->tensorflow) (1.35.0)\n",
            "Requirement already satisfied: markdown>=2.6.8 in /usr/local/lib/python3.7/dist-packages (from tensorboard~=2.6->tensorflow) (3.3.4)\n",
            "Requirement already satisfied: setuptools>=41.0.0 in /usr/local/lib/python3.7/dist-packages (from tensorboard~=2.6->tensorflow) (57.4.0)\n",
            "Requirement already satisfied: tensorboard-plugin-wit>=1.6.0 in /usr/local/lib/python3.7/dist-packages (from tensorboard~=2.6->tensorflow) (1.8.0)\n",
            "Requirement already satisfied: cachetools<5.0,>=2.0.0 in /usr/local/lib/python3.7/dist-packages (from google-auth<2,>=1.6.3->tensorboard~=2.6->tensorflow) (4.2.4)\n",
            "Requirement already satisfied: rsa<5,>=3.1.4 in /usr/local/lib/python3.7/dist-packages (from google-auth<2,>=1.6.3->tensorboard~=2.6->tensorflow) (4.7.2)\n",
            "Requirement already satisfied: pyasn1-modules>=0.2.1 in /usr/local/lib/python3.7/dist-packages (from google-auth<2,>=1.6.3->tensorboard~=2.6->tensorflow) (0.2.8)\n",
            "Requirement already satisfied: requests-oauthlib>=0.7.0 in /usr/local/lib/python3.7/dist-packages (from google-auth-oauthlib<0.5,>=0.4.1->tensorboard~=2.6->tensorflow) (1.3.0)\n",
            "Requirement already satisfied: importlib-metadata in /usr/local/lib/python3.7/dist-packages (from markdown>=2.6.8->tensorboard~=2.6->tensorflow) (4.8.1)\n",
            "Requirement already satisfied: pyasn1<0.5.0,>=0.4.6 in /usr/local/lib/python3.7/dist-packages (from pyasn1-modules>=0.2.1->google-auth<2,>=1.6.3->tensorboard~=2.6->tensorflow) (0.4.8)\n",
            "Requirement already satisfied: certifi>=2017.4.17 in /usr/local/lib/python3.7/dist-packages (from requests<3,>=2.21.0->tensorboard~=2.6->tensorflow) (2021.5.30)\n",
            "Requirement already satisfied: urllib3!=1.25.0,!=1.25.1,<1.26,>=1.21.1 in /usr/local/lib/python3.7/dist-packages (from requests<3,>=2.21.0->tensorboard~=2.6->tensorflow) (1.24.3)\n",
            "Requirement already satisfied: idna<3,>=2.5 in /usr/local/lib/python3.7/dist-packages (from requests<3,>=2.21.0->tensorboard~=2.6->tensorflow) (2.10)\n",
            "Requirement already satisfied: chardet<4,>=3.0.2 in /usr/local/lib/python3.7/dist-packages (from requests<3,>=2.21.0->tensorboard~=2.6->tensorflow) (3.0.4)\n",
            "Requirement already satisfied: oauthlib>=3.0.0 in /usr/local/lib/python3.7/dist-packages (from requests-oauthlib>=0.7.0->google-auth-oauthlib<0.5,>=0.4.1->tensorboard~=2.6->tensorflow) (3.1.1)\n",
            "Requirement already satisfied: zipp>=0.5 in /usr/local/lib/python3.7/dist-packages (from importlib-metadata->markdown>=2.6.8->tensorboard~=2.6->tensorflow) (3.6.0)\n"
          ]
        }
      ]
    },
    {
      "cell_type": "code",
      "metadata": {
        "colab": {
          "base_uri": "https://localhost:8080/"
        },
        "id": "kdBTMVSpSQw0",
        "outputId": "0657b4a6-ec3c-426e-c2f2-f06785653b9c"
      },
      "source": [
        "# matplotlib-venn: The package provides four main functions: venn2, venn2_circles, venn3 and venn3_circles.\n",
        "# The functions venn2 and venn2_circles accept as their only required argument a 3-element list (Ab, aB, AB) of subset sizes, e.g.:\n",
        "# venn2(subsets = (3, 2, 1))\n",
        "\n",
        "# Let's install this package\n",
        "!pip install matplotlib-venn"
      ],
      "execution_count": 3,
      "outputs": [
        {
          "output_type": "stream",
          "name": "stdout",
          "text": [
            "Requirement already satisfied: matplotlib-venn in /usr/local/lib/python3.7/dist-packages (0.11.6)\n",
            "Requirement already satisfied: matplotlib in /usr/local/lib/python3.7/dist-packages (from matplotlib-venn) (3.2.2)\n",
            "Requirement already satisfied: numpy in /usr/local/lib/python3.7/dist-packages (from matplotlib-venn) (1.19.5)\n",
            "Requirement already satisfied: scipy in /usr/local/lib/python3.7/dist-packages (from matplotlib-venn) (1.4.1)\n",
            "Requirement already satisfied: python-dateutil>=2.1 in /usr/local/lib/python3.7/dist-packages (from matplotlib->matplotlib-venn) (2.8.2)\n",
            "Requirement already satisfied: pyparsing!=2.0.4,!=2.1.2,!=2.1.6,>=2.0.1 in /usr/local/lib/python3.7/dist-packages (from matplotlib->matplotlib-venn) (2.4.7)\n",
            "Requirement already satisfied: cycler>=0.10 in /usr/local/lib/python3.7/dist-packages (from matplotlib->matplotlib-venn) (0.10.0)\n",
            "Requirement already satisfied: kiwisolver>=1.0.1 in /usr/local/lib/python3.7/dist-packages (from matplotlib->matplotlib-venn) (1.3.2)\n",
            "Requirement already satisfied: six in /usr/local/lib/python3.7/dist-packages (from cycler>=0.10->matplotlib->matplotlib-venn) (1.15.0)\n"
          ]
        }
      ]
    },
    {
      "cell_type": "code",
      "metadata": {
        "id": "kamfaxf6STyE"
      },
      "source": [
        "!apt-get -qq install -y libfluidsynth1"
      ],
      "execution_count": 88,
      "outputs": []
    },
    {
      "cell_type": "code",
      "metadata": {
        "colab": {
          "base_uri": "https://localhost:8080/"
        },
        "id": "DIz_RDsMSWYA",
        "outputId": "113ffebe-64f6-4534-9c45-8bbfb0296076"
      },
      "source": [
        "# libarchive-dev: a multi-format archive and compression library (development files).\n",
        "# The libarchive library provides a flexible interface for reading and writing archives \n",
        "# in various formats such as tar and cpio. \n",
        "# libarchive also supports reading and writing archives compressed using various \n",
        "# compression filters such as gzip and bzip2. \n",
        "# The library is inherently stream-oriented; \n",
        "# readers serially iterate through the archive, writers serially add things to the archive.\n",
        "#  Archive formats supported are:\n",
        "#   * tar (read and write, including GNU extensions)\n",
        "#   * pax (read and write, including GNU and star extensions)\n",
        "#   * cpio (read and write, including odc and newc variants)\n",
        "#   * iso9660 (read and write, including Joliet and Rockridge extensions, with some limitations)\n",
        "#   * zip (read only, with some limitations, uses zlib)\n",
        "!apt-get -qq install -y libarchive-dev && pip install -U libarchive\n",
        "import libarchive"
      ],
      "execution_count": 89,
      "outputs": [
        {
          "output_type": "stream",
          "name": "stdout",
          "text": [
            "Requirement already satisfied: libarchive in /usr/local/lib/python3.7/dist-packages (0.4.7)\n",
            "Requirement already satisfied: nose in /usr/local/lib/python3.7/dist-packages (from libarchive) (1.3.7)\n"
          ]
        }
      ]
    },
    {
      "cell_type": "code",
      "metadata": {
        "colab": {
          "base_uri": "https://localhost:8080/"
        },
        "id": "D2PV92amSZ4F",
        "outputId": "e367820a-a813-49aa-e8b6-42195b79b4a6"
      },
      "source": [
        "# pandas-datareader: Up-to-date remote data access for pandas. Works for multiple versions of pandas.\n",
        "!pip install pandas-datareader"
      ],
      "execution_count": 90,
      "outputs": [
        {
          "output_type": "stream",
          "name": "stdout",
          "text": [
            "Requirement already satisfied: pandas-datareader in /usr/local/lib/python3.7/dist-packages (0.9.0)\n",
            "Requirement already satisfied: pandas>=0.23 in /usr/local/lib/python3.7/dist-packages (from pandas-datareader) (1.1.5)\n",
            "Requirement already satisfied: requests>=2.19.0 in /usr/local/lib/python3.7/dist-packages (from pandas-datareader) (2.23.0)\n",
            "Requirement already satisfied: lxml in /usr/local/lib/python3.7/dist-packages (from pandas-datareader) (4.6.3)\n",
            "Requirement already satisfied: numpy>=1.15.4 in /usr/local/lib/python3.7/dist-packages (from pandas>=0.23->pandas-datareader) (1.19.5)\n",
            "Requirement already satisfied: pytz>=2017.2 in /usr/local/lib/python3.7/dist-packages (from pandas>=0.23->pandas-datareader) (2018.9)\n",
            "Requirement already satisfied: python-dateutil>=2.7.3 in /usr/local/lib/python3.7/dist-packages (from pandas>=0.23->pandas-datareader) (2.8.2)\n",
            "Requirement already satisfied: six>=1.5 in /usr/local/lib/python3.7/dist-packages (from python-dateutil>=2.7.3->pandas>=0.23->pandas-datareader) (1.15.0)\n",
            "Requirement already satisfied: idna<3,>=2.5 in /usr/local/lib/python3.7/dist-packages (from requests>=2.19.0->pandas-datareader) (2.10)\n",
            "Requirement already satisfied: urllib3!=1.25.0,!=1.25.1,<1.26,>=1.21.1 in /usr/local/lib/python3.7/dist-packages (from requests>=2.19.0->pandas-datareader) (1.24.3)\n",
            "Requirement already satisfied: chardet<4,>=3.0.2 in /usr/local/lib/python3.7/dist-packages (from requests>=2.19.0->pandas-datareader) (3.0.4)\n",
            "Requirement already satisfied: certifi>=2017.4.17 in /usr/local/lib/python3.7/dist-packages (from requests>=2.19.0->pandas-datareader) (2021.5.30)\n"
          ]
        }
      ]
    },
    {
      "cell_type": "code",
      "metadata": {
        "colab": {
          "base_uri": "https://localhost:8080/"
        },
        "id": "oRx40vsWScux",
        "outputId": "c31e3a0b-9ef8-42aa-f0b4-951cdf5b423e"
      },
      "source": [
        "# Graphviz is open source graph visualization software. \n",
        "# Graph visualization is a way of representing structural information as \n",
        "# diagrams of abstract graphs and networks. It has important applications \n",
        "# in networking, bioinformatics, software engineering, database and web design, \n",
        "# machine learning, and in visual interfaces for other technical domains.\n",
        "# =====================================================================================\n",
        "# pydot: is an interface to Graphviz\n",
        "# It can parse and dump into the DOT language used by GraphViz, is written in pure Python,\n",
        "# and networkx can convert its graphs to pydot.\n",
        "\n",
        "!apt-get -qq install -y graphviz && pip install pydot\n",
        "import pydot"
      ],
      "execution_count": 91,
      "outputs": [
        {
          "output_type": "stream",
          "name": "stdout",
          "text": [
            "Requirement already satisfied: pydot in /usr/local/lib/python3.7/dist-packages (1.3.0)\n",
            "Requirement already satisfied: pyparsing>=2.1.4 in /usr/local/lib/python3.7/dist-packages (from pydot) (2.4.7)\n"
          ]
        }
      ]
    },
    {
      "cell_type": "code",
      "metadata": {
        "colab": {
          "base_uri": "https://localhost:8080/"
        },
        "id": "BwC4vOPUSjrR",
        "outputId": "397b4e2c-0a0b-4f09-9556-7df24c677dbf"
      },
      "source": [
        "# Let's install yfinance\n",
        "# yfinance is a library, see https://pypi.org/project/yfinance/ and https://aroussi.com/post/python-yahoo-finance\n",
        "# yfinance offers a reliable, threaded, and Pythonic way to download historical market data from Yahoo! finance.\n",
        "# The Ticker module, which allows you to access ticker data in a more Pythonic way.\n",
        "\n",
        "!pip install yfinance"
      ],
      "execution_count": 92,
      "outputs": [
        {
          "output_type": "stream",
          "name": "stdout",
          "text": [
            "Requirement already satisfied: yfinance in /usr/local/lib/python3.7/dist-packages (0.1.64)\n",
            "Requirement already satisfied: numpy>=1.15 in /usr/local/lib/python3.7/dist-packages (from yfinance) (1.19.5)\n",
            "Requirement already satisfied: requests>=2.20 in /usr/local/lib/python3.7/dist-packages (from yfinance) (2.23.0)\n",
            "Requirement already satisfied: pandas>=0.24 in /usr/local/lib/python3.7/dist-packages (from yfinance) (1.1.5)\n",
            "Requirement already satisfied: lxml>=4.5.1 in /usr/local/lib/python3.7/dist-packages (from yfinance) (4.6.3)\n",
            "Requirement already satisfied: multitasking>=0.0.7 in /usr/local/lib/python3.7/dist-packages (from yfinance) (0.0.9)\n",
            "Requirement already satisfied: pytz>=2017.2 in /usr/local/lib/python3.7/dist-packages (from pandas>=0.24->yfinance) (2018.9)\n",
            "Requirement already satisfied: python-dateutil>=2.7.3 in /usr/local/lib/python3.7/dist-packages (from pandas>=0.24->yfinance) (2.8.2)\n",
            "Requirement already satisfied: six>=1.5 in /usr/local/lib/python3.7/dist-packages (from python-dateutil>=2.7.3->pandas>=0.24->yfinance) (1.15.0)\n",
            "Requirement already satisfied: certifi>=2017.4.17 in /usr/local/lib/python3.7/dist-packages (from requests>=2.20->yfinance) (2021.5.30)\n",
            "Requirement already satisfied: idna<3,>=2.5 in /usr/local/lib/python3.7/dist-packages (from requests>=2.20->yfinance) (2.10)\n",
            "Requirement already satisfied: urllib3!=1.25.0,!=1.25.1,<1.26,>=1.21.1 in /usr/local/lib/python3.7/dist-packages (from requests>=2.20->yfinance) (1.24.3)\n",
            "Requirement already satisfied: chardet<4,>=3.0.2 in /usr/local/lib/python3.7/dist-packages (from requests>=2.20->yfinance) (3.0.4)\n"
          ]
        }
      ]
    },
    {
      "cell_type": "code",
      "metadata": {
        "id": "72ME5X7mSnGZ"
      },
      "source": [
        "import numpy as np\n",
        "import matplotlib.pyplot as plt\n",
        "import pandas as pd\n",
        "from pandas_datareader import data"
      ],
      "execution_count": 93,
      "outputs": []
    },
    {
      "cell_type": "code",
      "metadata": {
        "id": "cb-6q5AySpKH"
      },
      "source": [
        "# Let's import yfinance\n",
        "import yfinance as yf"
      ],
      "execution_count": 94,
      "outputs": []
    },
    {
      "cell_type": "markdown",
      "metadata": {
        "id": "4Dfwqbup5Asx"
      },
      "source": [
        "# Let's get our training data\n",
        "\n",
        "Here, I use pandas-datareader to get the historical stock prices from Yahoo! finance. I only get the historical data until the date I want to use to train my model.\n",
        "\n",
        "I will train my model using Nvidia's historical stock data between (2016-10-03) to (whatever date)"
      ]
    },
    {
      "cell_type": "code",
      "metadata": {
        "id": "LaAL8TjJS0Wm"
      },
      "source": [
        "# Let's get Nvidia's stock price history\n",
        "nvidia_stock_prices = yf.Ticker('Nvda')\n",
        "\n",
        "# nvidia started trading on '1999-01-23'.\n",
        "# seems like getting rid of the start numbers where it was flat was good decision; \n",
        "start_date = '2016-10-03' # keeper date \n",
        "end_date = '2021-10-23'\n",
        "\n",
        "# stock_data = data.get_data_yahoo(tickers, start_date, end_date)\n",
        "stock_data = nvidia_stock_prices.history(start= start_date, end=end_date)"
      ],
      "execution_count": 214,
      "outputs": []
    },
    {
      "cell_type": "code",
      "metadata": {
        "colab": {
          "base_uri": "https://localhost:8080/",
          "height": 454
        },
        "id": "IBoaUkWjqoco",
        "outputId": "c1218ac0-30c0-444a-a7d9-6811251090df"
      },
      "source": [
        "stock_data"
      ],
      "execution_count": 64,
      "outputs": [
        {
          "output_type": "execute_result",
          "data": {
            "text/html": [
              "<div>\n",
              "<style scoped>\n",
              "    .dataframe tbody tr th:only-of-type {\n",
              "        vertical-align: middle;\n",
              "    }\n",
              "\n",
              "    .dataframe tbody tr th {\n",
              "        vertical-align: top;\n",
              "    }\n",
              "\n",
              "    .dataframe thead th {\n",
              "        text-align: right;\n",
              "    }\n",
              "</style>\n",
              "<table border=\"1\" class=\"dataframe\">\n",
              "  <thead>\n",
              "    <tr style=\"text-align: right;\">\n",
              "      <th></th>\n",
              "      <th>Open</th>\n",
              "      <th>High</th>\n",
              "      <th>Low</th>\n",
              "      <th>Close</th>\n",
              "      <th>Volume</th>\n",
              "      <th>Dividends</th>\n",
              "      <th>Stock Splits</th>\n",
              "    </tr>\n",
              "    <tr>\n",
              "      <th>Date</th>\n",
              "      <th></th>\n",
              "      <th></th>\n",
              "      <th></th>\n",
              "      <th></th>\n",
              "      <th></th>\n",
              "      <th></th>\n",
              "      <th></th>\n",
              "    </tr>\n",
              "  </thead>\n",
              "  <tbody>\n",
              "    <tr>\n",
              "      <th>2016-10-03</th>\n",
              "      <td>16.883944</td>\n",
              "      <td>17.127890</td>\n",
              "      <td>16.837128</td>\n",
              "      <td>16.866695</td>\n",
              "      <td>24259600</td>\n",
              "      <td>0.0</td>\n",
              "      <td>0.0</td>\n",
              "    </tr>\n",
              "    <tr>\n",
              "      <th>2016-10-04</th>\n",
              "      <td>16.891339</td>\n",
              "      <td>17.174708</td>\n",
              "      <td>16.704068</td>\n",
              "      <td>16.829737</td>\n",
              "      <td>28162400</td>\n",
              "      <td>0.0</td>\n",
              "      <td>0.0</td>\n",
              "    </tr>\n",
              "    <tr>\n",
              "      <th>2016-10-05</th>\n",
              "      <td>16.972649</td>\n",
              "      <td>17.145136</td>\n",
              "      <td>16.760737</td>\n",
              "      <td>16.812485</td>\n",
              "      <td>30544000</td>\n",
              "      <td>0.0</td>\n",
              "      <td>0.0</td>\n",
              "    </tr>\n",
              "    <tr>\n",
              "      <th>2016-10-06</th>\n",
              "      <td>16.610432</td>\n",
              "      <td>16.713923</td>\n",
              "      <td>16.327061</td>\n",
              "      <td>16.593182</td>\n",
              "      <td>36021200</td>\n",
              "      <td>0.0</td>\n",
              "      <td>0.0</td>\n",
              "    </tr>\n",
              "    <tr>\n",
              "      <th>2016-10-07</th>\n",
              "      <td>16.704066</td>\n",
              "      <td>16.748419</td>\n",
              "      <td>16.425624</td>\n",
              "      <td>16.472441</td>\n",
              "      <td>28626000</td>\n",
              "      <td>0.0</td>\n",
              "      <td>0.0</td>\n",
              "    </tr>\n",
              "    <tr>\n",
              "      <th>...</th>\n",
              "      <td>...</td>\n",
              "      <td>...</td>\n",
              "      <td>...</td>\n",
              "      <td>...</td>\n",
              "      <td>...</td>\n",
              "      <td>...</td>\n",
              "      <td>...</td>\n",
              "    </tr>\n",
              "    <tr>\n",
              "      <th>2021-10-18</th>\n",
              "      <td>217.490005</td>\n",
              "      <td>222.910004</td>\n",
              "      <td>216.440002</td>\n",
              "      <td>222.220001</td>\n",
              "      <td>18949400</td>\n",
              "      <td>0.0</td>\n",
              "      <td>0.0</td>\n",
              "    </tr>\n",
              "    <tr>\n",
              "      <th>2021-10-19</th>\n",
              "      <td>222.759995</td>\n",
              "      <td>223.789993</td>\n",
              "      <td>220.369995</td>\n",
              "      <td>222.899994</td>\n",
              "      <td>16147300</td>\n",
              "      <td>0.0</td>\n",
              "      <td>0.0</td>\n",
              "    </tr>\n",
              "    <tr>\n",
              "      <th>2021-10-20</th>\n",
              "      <td>223.050003</td>\n",
              "      <td>224.330002</td>\n",
              "      <td>219.820007</td>\n",
              "      <td>221.029999</td>\n",
              "      <td>14627600</td>\n",
              "      <td>0.0</td>\n",
              "      <td>0.0</td>\n",
              "    </tr>\n",
              "    <tr>\n",
              "      <th>2021-10-21</th>\n",
              "      <td>220.970001</td>\n",
              "      <td>227.110001</td>\n",
              "      <td>220.830002</td>\n",
              "      <td>226.919998</td>\n",
              "      <td>18759000</td>\n",
              "      <td>0.0</td>\n",
              "      <td>0.0</td>\n",
              "    </tr>\n",
              "    <tr>\n",
              "      <th>2021-10-22</th>\n",
              "      <td>228.229996</td>\n",
              "      <td>231.300003</td>\n",
              "      <td>225.610001</td>\n",
              "      <td>227.259995</td>\n",
              "      <td>24893400</td>\n",
              "      <td>0.0</td>\n",
              "      <td>0.0</td>\n",
              "    </tr>\n",
              "  </tbody>\n",
              "</table>\n",
              "<p>1274 rows × 7 columns</p>\n",
              "</div>"
            ],
            "text/plain": [
              "                  Open        High  ...  Dividends  Stock Splits\n",
              "Date                                ...                         \n",
              "2016-10-03   16.883944   17.127890  ...        0.0           0.0\n",
              "2016-10-04   16.891339   17.174708  ...        0.0           0.0\n",
              "2016-10-05   16.972649   17.145136  ...        0.0           0.0\n",
              "2016-10-06   16.610432   16.713923  ...        0.0           0.0\n",
              "2016-10-07   16.704066   16.748419  ...        0.0           0.0\n",
              "...                ...         ...  ...        ...           ...\n",
              "2021-10-18  217.490005  222.910004  ...        0.0           0.0\n",
              "2021-10-19  222.759995  223.789993  ...        0.0           0.0\n",
              "2021-10-20  223.050003  224.330002  ...        0.0           0.0\n",
              "2021-10-21  220.970001  227.110001  ...        0.0           0.0\n",
              "2021-10-22  228.229996  231.300003  ...        0.0           0.0\n",
              "\n",
              "[1274 rows x 7 columns]"
            ]
          },
          "metadata": {},
          "execution_count": 64
        }
      ]
    },
    {
      "cell_type": "code",
      "metadata": {
        "colab": {
          "base_uri": "https://localhost:8080/",
          "height": 236
        },
        "id": "v-mrE-GCTDp0",
        "outputId": "e0b77a54-77ff-4890-ea49-74a948da0498"
      },
      "source": [
        "# Let's see the tail of our data\n",
        "stock_data.tail()"
      ],
      "execution_count": 215,
      "outputs": [
        {
          "output_type": "execute_result",
          "data": {
            "text/html": [
              "<div>\n",
              "<style scoped>\n",
              "    .dataframe tbody tr th:only-of-type {\n",
              "        vertical-align: middle;\n",
              "    }\n",
              "\n",
              "    .dataframe tbody tr th {\n",
              "        vertical-align: top;\n",
              "    }\n",
              "\n",
              "    .dataframe thead th {\n",
              "        text-align: right;\n",
              "    }\n",
              "</style>\n",
              "<table border=\"1\" class=\"dataframe\">\n",
              "  <thead>\n",
              "    <tr style=\"text-align: right;\">\n",
              "      <th></th>\n",
              "      <th>Open</th>\n",
              "      <th>High</th>\n",
              "      <th>Low</th>\n",
              "      <th>Close</th>\n",
              "      <th>Volume</th>\n",
              "      <th>Dividends</th>\n",
              "      <th>Stock Splits</th>\n",
              "    </tr>\n",
              "    <tr>\n",
              "      <th>Date</th>\n",
              "      <th></th>\n",
              "      <th></th>\n",
              "      <th></th>\n",
              "      <th></th>\n",
              "      <th></th>\n",
              "      <th></th>\n",
              "      <th></th>\n",
              "    </tr>\n",
              "  </thead>\n",
              "  <tbody>\n",
              "    <tr>\n",
              "      <th>2021-10-18</th>\n",
              "      <td>217.490005</td>\n",
              "      <td>222.910004</td>\n",
              "      <td>216.440002</td>\n",
              "      <td>222.220001</td>\n",
              "      <td>18949400</td>\n",
              "      <td>0.0</td>\n",
              "      <td>0.0</td>\n",
              "    </tr>\n",
              "    <tr>\n",
              "      <th>2021-10-19</th>\n",
              "      <td>222.759995</td>\n",
              "      <td>223.789993</td>\n",
              "      <td>220.369995</td>\n",
              "      <td>222.899994</td>\n",
              "      <td>16147300</td>\n",
              "      <td>0.0</td>\n",
              "      <td>0.0</td>\n",
              "    </tr>\n",
              "    <tr>\n",
              "      <th>2021-10-20</th>\n",
              "      <td>223.050003</td>\n",
              "      <td>224.330002</td>\n",
              "      <td>219.820007</td>\n",
              "      <td>221.029999</td>\n",
              "      <td>14627600</td>\n",
              "      <td>0.0</td>\n",
              "      <td>0.0</td>\n",
              "    </tr>\n",
              "    <tr>\n",
              "      <th>2021-10-21</th>\n",
              "      <td>220.970001</td>\n",
              "      <td>227.110001</td>\n",
              "      <td>220.830002</td>\n",
              "      <td>226.919998</td>\n",
              "      <td>18759000</td>\n",
              "      <td>0.0</td>\n",
              "      <td>0.0</td>\n",
              "    </tr>\n",
              "    <tr>\n",
              "      <th>2021-10-22</th>\n",
              "      <td>228.229996</td>\n",
              "      <td>231.300003</td>\n",
              "      <td>225.610001</td>\n",
              "      <td>227.259995</td>\n",
              "      <td>24893400</td>\n",
              "      <td>0.0</td>\n",
              "      <td>0.0</td>\n",
              "    </tr>\n",
              "  </tbody>\n",
              "</table>\n",
              "</div>"
            ],
            "text/plain": [
              "                  Open        High  ...  Dividends  Stock Splits\n",
              "Date                                ...                         \n",
              "2021-10-18  217.490005  222.910004  ...        0.0           0.0\n",
              "2021-10-19  222.759995  223.789993  ...        0.0           0.0\n",
              "2021-10-20  223.050003  224.330002  ...        0.0           0.0\n",
              "2021-10-21  220.970001  227.110001  ...        0.0           0.0\n",
              "2021-10-22  228.229996  231.300003  ...        0.0           0.0\n",
              "\n",
              "[5 rows x 7 columns]"
            ]
          },
          "metadata": {},
          "execution_count": 215
        }
      ]
    },
    {
      "cell_type": "code",
      "metadata": {
        "id": "NE49mUQCH0Gi"
      },
      "source": [
        "# Let's see Nvidia's Option Chain\n",
        "#nvidia_stock_prices.option_chain()"
      ],
      "execution_count": null,
      "outputs": []
    },
    {
      "cell_type": "code",
      "metadata": {
        "colab": {
          "base_uri": "https://localhost:8080/"
        },
        "id": "GBpDmbThS7p0",
        "outputId": "d47d6417-b520-447b-b798-445e963fa926"
      },
      "source": [
        "# Let's see how many records we have\n",
        "stock_data_len = stock_data['High'].count()\n",
        "print(stock_data_len)"
      ],
      "execution_count": 216,
      "outputs": [
        {
          "output_type": "stream",
          "name": "stdout",
          "text": [
            "1274\n"
          ]
        }
      ]
    },
    {
      "cell_type": "code",
      "metadata": {
        "colab": {
          "base_uri": "https://localhost:8080/",
          "height": 382
        },
        "id": "z0yShNgSV7oB",
        "outputId": "129b6243-3eef-440a-b227-06d60bb26a65"
      },
      "source": [
        "# Let's plot our training data\n",
        "\n",
        "# Creating a column as date\n",
        "stock_data['TradeDate']=stock_data.index\n",
        " \n",
        "# Plotting the stock prices\n",
        "%matplotlib inline\n",
        "stock_data.plot(x='TradeDate', y='Close', kind='line', figsize=(20,6), rot=20)"
      ],
      "execution_count": 217,
      "outputs": [
        {
          "output_type": "execute_result",
          "data": {
            "text/plain": [
              "<matplotlib.axes._subplots.AxesSubplot at 0x7fd4c8b15e50>"
            ]
          },
          "metadata": {},
          "execution_count": 217
        },
        {
          "output_type": "display_data",
          "data": {
            "image/png": "[encoded data removed]",
            "text/plain": [
              "<Figure size 1440x432 with 1 Axes>"
            ]
          },
          "metadata": {
            "needs_background": "light"
          }
        }
      ]
    },
    {
      "cell_type": "markdown",
      "metadata": {
        "id": "xrQtPISNojL8"
      },
      "source": [
        "# Intro to iloc[ ]\n",
        "see: https://www.shanelynn.ie/pandas-iloc-loc-select-rows-and-columns-dataframe/\n",
        "\n",
        "#### **Multiple row and column selections using iloc and DataFrame**\n",
        "```\n",
        "data.iloc[0:5] # first five rows of dataframe\n",
        "data.iloc[:, 0:2] # first two columns of data frame with all rows\n",
        "data.iloc[[0,3,6,24], [0,5,6]] # 1st, 4th, 7th, 25th row + 1st 6th 7th columns.\n",
        "data.iloc[0:5, 5:8] # first 5 rows and 5th, 6th, 7th columns of data frame\n",
        "```\n",
        " \n",
        "#### **Single selections using iloc and DataFrame**\n",
        "#### **Rows:**\n",
        "```\n",
        "data.iloc[0] # first row of data frame - Note a Series data type output.\n",
        "data.iloc[1] # second row of data frame \n",
        "data.iloc[-1] # last row of data frame \n",
        "```\n",
        "#### **Columns:**\n",
        "```\n",
        "data.iloc[:,0] # first column of data frame \n",
        "data.iloc[:,1] # second column of data frame \n",
        "data.iloc[:,-1] # last column of data frame\n",
        "```"
      ]
    },
    {
      "cell_type": "markdown",
      "metadata": {
        "id": "eI-uOK3tpQqy"
      },
      "source": [
        "# Let's get the high prices"
      ]
    },
    {
      "cell_type": "code",
      "metadata": {
        "colab": {
          "base_uri": "https://localhost:8080/"
        },
        "id": "-nL5v6HroE96",
        "outputId": "93d03f79-c8d6-4c6e-d19b-caee3a41c647"
      },
      "source": [
        "# Let's get the high prices only which is in column 1\n",
        "# [:, 1:2] === means we get all rows, column 1 inclusive, column 2 exclusive \n",
        "# we are taking a slice of the columns and all rows.\n",
        "# we take all rows and the first column which is our high price\n",
        "# note: column 0 = open price\n",
        "# note: column 1 = high price\n",
        "high_prices = stock_data.iloc[:, 1:2].values\n",
        "\n",
        "# Let's print our high prices\n",
        "print(high_prices)"
      ],
      "execution_count": 218,
      "outputs": [
        {
          "output_type": "stream",
          "name": "stdout",
          "text": [
            "[[ 17.12789797]\n",
            " [ 17.17470978]\n",
            " [ 17.14513647]\n",
            " ...\n",
            " [224.33000183]\n",
            " [227.11000061]\n",
            " [231.30000305]]\n"
          ]
        }
      ]
    },
    {
      "cell_type": "code",
      "metadata": {
        "id": "K2GYm5wjS-jw"
      },
      "source": [
        "# Use this instead if you want to train the model on closing prices instead of the high price\n",
        "#close_prices = stock_data.iloc[:, 3:4].values\n",
        "#print(close_prices)\n",
        "\n"
      ],
      "execution_count": null,
      "outputs": []
    },
    {
      "cell_type": "markdown",
      "metadata": {
        "id": "XgO6BXgUTS1b"
      },
      "source": [
        "# Handling missing prices on weekdays that are Holidays (non-trading days)\n",
        "There will be some weekdays that may occur on public holidays, so they will be non-trading days, thus, no price will be available. \n",
        "\n",
        "I will handle this occurance by filling the missing prices with the latest available prices.\n",
        "\n",
        "Below are some example for frequency parameter:\n",
        "```\n",
        "Alias Description\n",
        "\n",
        "B business day frequency\n",
        "\n",
        "C custom business day frequency\n",
        "\n",
        "D calendar day frequency\n",
        "\n",
        "W weekly frequency\n",
        "\n",
        "M month end frequency\n",
        "\n",
        "```\n",
        "##### See https://pandas.pydata.org/pandas-docs/stable/user_guide/timeseries.html#timeseries-offset-aliases"
      ]
    },
    {
      "cell_type": "code",
      "metadata": {
        "colab": {
          "base_uri": "https://localhost:8080/"
        },
        "id": "snGwC6sMTQsq",
        "outputId": "08e2368b-24ff-4c0a-c3e6-fd634cef59df"
      },
      "source": [
        "all_bussinessdays = pd.date_range(start=start_date, end=end_date, freq='B')\n",
        "print(all_bussinessdays)"
      ],
      "execution_count": 219,
      "outputs": [
        {
          "output_type": "stream",
          "name": "stdout",
          "text": [
            "DatetimeIndex(['2016-10-03', '2016-10-04', '2016-10-05', '2016-10-06',\n",
            "               '2016-10-07', '2016-10-10', '2016-10-11', '2016-10-12',\n",
            "               '2016-10-13', '2016-10-14',\n",
            "               ...\n",
            "               '2021-10-11', '2021-10-12', '2021-10-13', '2021-10-14',\n",
            "               '2021-10-15', '2021-10-18', '2021-10-19', '2021-10-20',\n",
            "               '2021-10-21', '2021-10-22'],\n",
            "              dtype='datetime64[ns]', length=1320, freq='B')\n"
          ]
        }
      ]
    },
    {
      "cell_type": "code",
      "metadata": {
        "id": "REEw9mNno390"
      },
      "source": [
        "# Let's reindex\n",
        "# reindex(): Conform Series/DataFrame to new index with optional filling logic.\n",
        "# filling logic used is ffill: propagates last valid observation forward to next valid\n",
        "high_prices = stock_data.reindex(all_bussinessdays)\n",
        "high_prices = stock_data.fillna(method='ffill')"
      ],
      "execution_count": 220,
      "outputs": []
    },
    {
      "cell_type": "code",
      "metadata": {
        "id": "42c7XxEnTUm2"
      },
      "source": [
        "# use this for closing prices instead of high price\n",
        "#close_prices = stock_data.reindex(all_bussinessdays)\n",
        "#close_prices = stock_data.fillna(method='ffill')"
      ],
      "execution_count": null,
      "outputs": []
    },
    {
      "cell_type": "markdown",
      "metadata": {
        "id": "iZ6on02_LTAr"
      },
      "source": [
        "# Let's store the 'high price' as training_set\n",
        "\n",
        "Pre-Process the data = Feature scaling\n",
        "\n",
        "We need to preprocess the data to prepare it for the LSTM model."
      ]
    },
    {
      "cell_type": "code",
      "metadata": {
        "id": "VvOVChzipCwi"
      },
      "source": [
        "# I'm ready to store the 'high price' in an array called 'training_set' which I will use to train my model\n",
        "training_set = high_prices.iloc[:, 1:2].values"
      ],
      "execution_count": 221,
      "outputs": []
    },
    {
      "cell_type": "code",
      "metadata": {
        "colab": {
          "base_uri": "https://localhost:8080/"
        },
        "id": "TphM7d3HqVWc",
        "outputId": "bdb743ac-f1c9-4852-9a74-ae843437b5bd"
      },
      "source": [
        "# Let's print the training set\n",
        "training_set"
      ],
      "execution_count": 186,
      "outputs": [
        {
          "output_type": "execute_result",
          "data": {
            "text/plain": [
              "array([[ 17.12789216],\n",
              "       [ 17.17470783],\n",
              "       [ 17.14514036],\n",
              "       ...,\n",
              "       [224.33000183],\n",
              "       [227.11000061],\n",
              "       [231.30000305]])"
            ]
          },
          "metadata": {},
          "execution_count": 186
        }
      ]
    },
    {
      "cell_type": "code",
      "metadata": {
        "id": "VYuu2Lj7TcB8"
      },
      "source": [
        "# use this for closing prices instead of high price\n",
        "#training_set = close_prices.iloc[:, 3:4].values"
      ],
      "execution_count": null,
      "outputs": []
    },
    {
      "cell_type": "markdown",
      "metadata": {
        "id": "gbh-uw5A5T3I"
      },
      "source": [
        "# Let's now normalize our training data\n",
        "\n",
        "Normalize data:\n",
        "\n",
        "* Most of the times data is noisy. \n",
        "* Data comes in mixed scale and range. \n",
        "* Normalization helps to change the range and scale of data thereby bring uniformity to data.\n",
        "\n",
        "Purpose of Normalization\n",
        "\n",
        "* a key component in Data science for data pre-processing. \n",
        "* Most of the times data from multiple sources will be merged before the start of analysis. \n",
        "* example: \n",
        "  * Data has 'baggage' as one feature. \n",
        "  * The values can be either be in lbs or kgs (units of measurement). \n",
        "  * It is important to bring to the same scale before considering this feature for analysis otherwise it will end up giving in wrong signals.\n",
        "  * Normalization helps in bringing to the same scale.\n",
        "\n",
        "see: https://medium.com/transparent-deep-learning/normalization-in-machine-learning-and-deep-learning-56eb33eb0165\n",
        "\n",
        "\n",
        "# Here is how we Normalized our data\n",
        "#####**MinMaxScaler(feature_range = (0, 1))**\n",
        "```\n",
        "Syntax: def __init__(feature_range=(0, 1), copy=True)\n",
        "\n",
        "Transform features by scaling each feature to a given range.\n",
        "```\n",
        "This estimator scales and translates each feature individually such\n",
        "that it is in the given range on the training set, e.g. between\n",
        "zero and one.\n",
        "\n",
        "*The transformation is given by:*\n",
        "\n",
        "`\n",
        "X_std = (X - X.min(axis=0)) / (X.max(axis=0) - X.min(axis=0))\n",
        "X_scaled = X_std * (max - min) + min\n",
        "where min, max = feature_range.\n",
        "`\n",
        "\n",
        "*The transformation is calculated as:*\n",
        "\n",
        "`\n",
        "X_scaled = scale * X + min - X.min(axis=0) * scale\n",
        "where scale = (max - min) / (X.max(axis=0) - X.min(axis=0))\n",
        "`\n",
        "\n",
        "This transformation is often used as an alternative to zero mean.\n",
        "\n",
        "\n",
        "##### **training_set_scaled = sc.fit_transform(training_set)**\n",
        "\n",
        "```\n",
        "Syntax: def fit_transform(X, y=None, **fit_params)\n",
        "\n",
        "Fit to data, then transform it.\n",
        "```\n",
        "\n",
        "Fits transformer to X and y with optional parameters fit_params\n",
        "and returns a transformed version of X."
      ]
    },
    {
      "cell_type": "markdown",
      "metadata": {
        "id": "IHGrv3ONObPq"
      },
      "source": [
        "# **Importance of Data Scaling**\n",
        "see: https://machinelearningmastery.com/how-to-transform-target-variables-for-regression-with-scikit-learn/\n",
        "\n",
        "see: https://machinelearningmastery.com/standardscaler-and-minmaxscaler-transforms-in-python/\n",
        "\n",
        "It is common to have data where the scale of values differs from variable to variable.\n",
        "\n",
        "For example, one variable may be in feet, another in meters, and so on.\n",
        "\n",
        "Some machine learning algorithms perform much better if all of the variables are scaled to the same range, such as scaling all variables to values between 0 and 1, called **normalization**.\n",
        "\n",
        "The two most popular techniques for scaling numerical data prior to modeling are **normalization** and **standardization**. \n",
        "* Normalization scales each input variable separately to the range 0-1, which is the range for floating-point values where we have the most precision. \n",
        "* Standardization scales each input variable separately by subtracting the mean (called centering) and dividing by the standard deviation to shift the distribution to have a mean of zero and a standard deviation of one.\n",
        "\n",
        "Scaling input and output variables is a critical step in using neural network models.\n",
        "\n",
        "**Data Normalization**\n",
        "\n",
        "Normalization is a rescaling of the data from the original range so that all values are within the new range of 0 and 1.\n",
        "\n",
        "Normalization requires that you know or are able to accurately estimate the minimum and maximum observable values. You may be able to estimate these values from your available data.\n",
        "\n",
        "A value is normalized as follows:\n",
        "\n",
        "`y = (x – min) / (max – min)`\n",
        "\n",
        "* Where the minimum and maximum values pertain to the value x being normalized.\n",
        "\n",
        "* For example, for a dataset, we could guesstimate the min and max observable values as 30 and -10. We can then normalize any value, like 18.8, as follows:\n",
        "```\n",
        "y = (x – min) / (max – min)\n",
        "y = (18.8 – (-10)) / (30 – (-10))\n",
        "y = 28.8 / 40\n",
        "y = 0.72\n",
        "```\n",
        "\n",
        "You can normalize your dataset using the **scikit-learn object MinMaxScaler**.\n",
        "\n",
        "* **Fit the scaler using available training data**. For normalization, this means the training data will be used to estimate the minimum and maximum observable values. This is done by calling the fit() function.\n",
        "* **Apply the scale to training data**. This means you can use the normalized data to train your model. This is done by calling the transform() function.\n",
        "* **Apply the scale to data going forward**. This means you can prepare new data in the future on which you want to make predictions."
      ]
    },
    {
      "cell_type": "code",
      "metadata": {
        "colab": {
          "base_uri": "https://localhost:8080/"
        },
        "id": "BKx8HrhxTgKb",
        "outputId": "588e5b3d-4ab8-4820-d0e8-bfeec6a54530"
      },
      "source": [
        "from sklearn.preprocessing import MinMaxScaler\n",
        "sc = MinMaxScaler(feature_range = (0, 1))\n",
        "training_set_scaled = sc.fit_transform(training_set)\n",
        "print(training_set_scaled.shape)"
      ],
      "execution_count": 222,
      "outputs": [
        {
          "output_type": "stream",
          "name": "stdout",
          "text": [
            "(1274, 1)\n"
          ]
        }
      ]
    },
    {
      "cell_type": "code",
      "metadata": {
        "colab": {
          "base_uri": "https://localhost:8080/"
        },
        "id": "5T47hhewTGTI",
        "outputId": "922bbda9-b95b-41a7-c51d-a15e6e4054bc"
      },
      "source": [
        "# For review, let's see the original training set\n",
        "training_set"
      ],
      "execution_count": 223,
      "outputs": [
        {
          "output_type": "execute_result",
          "data": {
            "text/plain": [
              "array([[ 17.12789797],\n",
              "       [ 17.17470978],\n",
              "       [ 17.14513647],\n",
              "       ...,\n",
              "       [224.33000183],\n",
              "       [227.11000061],\n",
              "       [231.30000305]])"
            ]
          },
          "metadata": {},
          "execution_count": 223
        }
      ]
    },
    {
      "cell_type": "code",
      "metadata": {
        "colab": {
          "base_uri": "https://localhost:8080/"
        },
        "id": "FCzO2xmOTIfq",
        "outputId": "0c0bfef2-3dd1-46a3-d2c5-d9b456ab7e84"
      },
      "source": [
        "# Let's see the training set after tranformation to a range between 0-1\n",
        "training_set_scaled"
      ],
      "execution_count": 136,
      "outputs": [
        {
          "output_type": "execute_result",
          "data": {
            "text/plain": [
              "array([[0.00425029],\n",
              "       [0.00446794],\n",
              "       [0.00433048],\n",
              "       ...,\n",
              "       [0.9675944 ],\n",
              "       [0.98051944],\n",
              "       [1.        ]])"
            ]
          },
          "metadata": {},
          "execution_count": 136
        }
      ]
    },
    {
      "cell_type": "code",
      "metadata": {
        "colab": {
          "base_uri": "https://localhost:8080/"
        },
        "id": "UmTkWZkpWLxo",
        "outputId": "0e8aa52d-41ec-41fc-c627-d2070486b4fe"
      },
      "source": [
        "# Let's see the length of the training set post-scaling\n",
        "len(training_set_scaled)"
      ],
      "execution_count": 137,
      "outputs": [
        {
          "output_type": "execute_result",
          "data": {
            "text/plain": [
              "1274"
            ]
          },
          "metadata": {},
          "execution_count": 137
        }
      ]
    },
    {
      "cell_type": "code",
      "metadata": {
        "colab": {
          "base_uri": "https://localhost:8080/"
        },
        "id": "yohKUBoIWIz6",
        "outputId": "0428a18c-6f22-4963-9dd3-27c387aa6be9"
      },
      "source": [
        "# Let's see the length of the stock data (pre-scaled)\n",
        "# notice, it matches the scaled training set\n",
        "len(stock_data)"
      ],
      "execution_count": 24,
      "outputs": [
        {
          "output_type": "execute_result",
          "data": {
            "text/plain": [
              "1269"
            ]
          },
          "metadata": {},
          "execution_count": 24
        }
      ]
    },
    {
      "cell_type": "markdown",
      "metadata": {
        "id": "4nKY6Y-vPj-s"
      },
      "source": [
        "# Creating Data with Timesteps\n",
        "\n",
        "**LSTMs** expect the data in a specific format, usually a 3D tensor. \n",
        "\n",
        "* I start by creating data with 60 days and \n",
        "* converting it into an array using NumPy. \n",
        "* then, I convert the data into a 3D array with\n",
        "  * feature_set samples, \n",
        "  * 60 days and \n",
        "  * 1 feature at each step"
      ]
    },
    {
      "cell_type": "markdown",
      "metadata": {
        "id": "9uFDFb12Tiys"
      },
      "source": [
        "#**THIS IS WHAT IS DIFFERENT**"
      ]
    },
    {
      "cell_type": "code",
      "metadata": {
        "id": "hSpogcmTTkt_"
      },
      "source": [
        "# We will make our training set into groups of 60 and we will call the 'high prices' features(=inputs)\n",
        "features = [] # this is our inputs(= true high prices = training data)\n",
        "labels = [] # this is our outputs(= predicted high prices)\n",
        "\n",
        "#for i in range(13, len(stock_data)):\n",
        "    #features.append(training_set_scaled[i-13:i, 0])\n",
        "    #labels.append(training_set_scaled[i, 0])\n",
        "\n",
        "FutureTimeSteps=5  \n",
        "TimeSteps=13 \n",
        "for i in range(TimeSteps, (len(stock_data)-FutureTimeSteps)):\n",
        "    features.append(training_set_scaled[i-TimeSteps: i, 0])\n",
        "    labels.append(training_set_scaled[i: i+FutureTimeSteps])\n",
        "\n",
        "# Note: this was recommend instead of the above code\n",
        "# https://thinkingneuron.com/predicting-stock-prices-using-deep-learning-lstm-model-in-python/\n",
        "# I found this to reduce my accuracy, but I keep it in case I find a use for it\n",
        "#FutureTimeSteps = 5 \n",
        "#for i in range(60, stock_data_len-FutureTimeSteps, 1):\n",
        "#    features.append(training_set_scaled[i-60: i])\n",
        "#    labels.append(training_set_scaled[i: i+FutureTimeSteps])\n",
        "\n",
        "# Let's convert the features and labels to arrays\n",
        "features = np.array(features)\n",
        "labels = np.array(labels)"
      ],
      "execution_count": 224,
      "outputs": []
    },
    {
      "cell_type": "code",
      "metadata": {
        "id": "JeP3O2fxRU18"
      },
      "source": [
        "# Let's see the training data before reshaping it\n",
        "#features"
      ],
      "execution_count": 28,
      "outputs": []
    },
    {
      "cell_type": "code",
      "metadata": {
        "id": "xgI0kD1GMiku"
      },
      "source": [
        "# Let's see the training data length\n",
        "#len(features)"
      ],
      "execution_count": null,
      "outputs": []
    },
    {
      "cell_type": "code",
      "metadata": {
        "id": "pe9S7eOuevPg"
      },
      "source": [
        "#Let's see the training data current 2D shapeness\n",
        "#features.shape"
      ],
      "execution_count": null,
      "outputs": []
    },
    {
      "cell_type": "markdown",
      "metadata": {
        "id": "ZBGY5FqHaJAX"
      },
      "source": [
        "#### **Reshaping our 2D Tensor to a 3D tensor**\n",
        "At this point in the program, `features.shape =(14812, 60)` is 2D tensor.\n",
        "\n",
        "But we need a 3D tensor for tensorflow!\n",
        "\n",
        "We can reshape like so: \n",
        "\n",
        "  * `reshape(array to be reshaped, new shape)`\n",
        "\n",
        "    * `The array to be reshaped is our 2D array (14812,60)`\n",
        "    * The new shape will use these parameters: \n",
        "      * `features.shape[0]= 14812`\n",
        "      * `features.shape[1] = 60`\n",
        "\n",
        "Thus, features.shape is now a 3d tensor = `(14812, 60, 1)`\n"
      ]
    },
    {
      "cell_type": "markdown",
      "metadata": {
        "id": "2f00xjjukpRZ"
      },
      "source": [
        "#**Intro to reshape(-1,1)**\n",
        "```\n",
        "import numpy as np\n",
        "a = np.array([[1,2,3],[4,5,6]]) #is two rows and three columns of data, two-dimensional\n",
        "b = np.array([1,2]) #is one-dimensional data\n",
        "c = b.reshape(-1,1) #c has become two-dimensional data, it has become two rows and one column\n",
        "d = b.reshape(1,-1) #d becomes a row and two columns of data,\n",
        "print('b.shape is {0}'.format(b.shape))\n",
        "print(b)\n",
        "print('c.shape is {0}'.format(c.shape))\n",
        "print(c)\n",
        "\n",
        "#OutPut\n",
        "b.shape is (2,)\n",
        "[1 2]\n",
        "c.shape is (2, 1)\n",
        "[[1]\n",
        " [2]]\n",
        "```\n"
      ]
    },
    {
      "cell_type": "code",
      "metadata": {
        "id": "r1Yo_JPOVqkE"
      },
      "source": [
        "# Let's reshape our feature to a 3D tensor\n",
        "features = np.reshape(features, (features.shape[0], features.shape[1], 1))"
      ],
      "execution_count": 225,
      "outputs": []
    },
    {
      "cell_type": "code",
      "metadata": {
        "id": "lm4iPg8YSBSk"
      },
      "source": [
        "# Let's see the training data's new 3D tensor shape\n",
        "# the training data is broken into 60 groups of 1 column\n",
        "#features.shape"
      ],
      "execution_count": null,
      "outputs": []
    },
    {
      "cell_type": "code",
      "metadata": {
        "colab": {
          "base_uri": "https://localhost:8080/"
        },
        "id": "mC2-Iu0-RNUb",
        "outputId": "a799468b-a2ed-4074-8aa4-6e86ca09f13b"
      },
      "source": [
        "# Let's see the newly reshaped training data\n",
        "features"
      ],
      "execution_count": 191,
      "outputs": [
        {
          "output_type": "execute_result",
          "data": {
            "text/plain": [
              "array([[[4.25027596e-03],\n",
              "        [4.46793591e-03],\n",
              "        [4.33046797e-03],\n",
              "        ...,\n",
              "        [9.16493344e-04],\n",
              "        [1.36327627e-03],\n",
              "        [1.12269906e-03]],\n",
              "\n",
              "       [[4.46793591e-03],\n",
              "        [4.33046797e-03],\n",
              "        [2.32563899e-03],\n",
              "        ...,\n",
              "        [1.36327627e-03],\n",
              "        [1.12269906e-03],\n",
              "        [2.46309335e-03]],\n",
              "\n",
              "       [[4.33046797e-03],\n",
              "        [2.32563899e-03],\n",
              "        [2.48602180e-03],\n",
              "        ...,\n",
              "        [1.12269906e-03],\n",
              "        [2.46309335e-03],\n",
              "        [2.13088009e-03]],\n",
              "\n",
              "       ...,\n",
              "\n",
              "       [[9.54390409e-01],\n",
              "        [9.38117870e-01],\n",
              "        [9.20450528e-01],\n",
              "        ...,\n",
              "        [9.10547503e-01],\n",
              "        [9.03899042e-01],\n",
              "        [9.03620096e-01]],\n",
              "\n",
              "       [[9.38117870e-01],\n",
              "        [9.20450528e-01],\n",
              "        [9.01760335e-01],\n",
              "        ...,\n",
              "        [9.03899042e-01],\n",
              "        [9.03620096e-01],\n",
              "        [9.00505004e-01]],\n",
              "\n",
              "       [[9.20450528e-01],\n",
              "        [9.01760335e-01],\n",
              "        [9.04038516e-01],\n",
              "        ...,\n",
              "        [9.03620096e-01],\n",
              "        [9.00505004e-01],\n",
              "        [9.36072168e-01]]])"
            ]
          },
          "metadata": {},
          "execution_count": 191
        }
      ]
    },
    {
      "cell_type": "markdown",
      "metadata": {
        "id": "ssB-h7y45dgf"
      },
      "source": [
        "#**Let's build our model / Create the LSTM network**\n",
        "Let's create a sequenced LSTM network with 50 units. Also the net includes some dropout layers with 0.20 which means that 20% of the neurons will be dropped.\n",
        "\n",
        "####**Sequential:** \n",
        "for initializing the neural network with all the layers\n",
        "\n",
        "* **LSTM:** for adding the Long Short-Term Memory layer\n",
        "\n",
        "* **Dropout:** for adding dropout layers that prevent overfitting\n",
        "\n",
        "* **Dense:** for adding a densely connected neural network layer\n",
        "\n",
        "\n",
        "\n",
        "---\n",
        "**Intuition:**\n",
        "* add the LSTM layer with the following arguments:\n",
        "  * 50 units = the dimensionality of the output space\n",
        "  * return_sequences=True \n",
        "  * determines whether to return the last output in the output sequence, or the full sequence\n",
        "  * input_shape = the shape of our training set\n",
        "* add a few Dropout layers to prevent overfitting\n",
        "  * In defining the Dropout layers, we specify 0.2, meaning that 20% of the layers will be dropped. \n",
        "* add the Dense layer that specifies the output of 1 unit. \n",
        "* compile our model using the `adam` optimizer and set the loss as the `mean_squarred_error`. \n",
        "  * This will compute the mean of the squared errors. \n",
        "* fit the model to run on `20 epochs` with a `batch size of 32`. "
      ]
    },
    {
      "cell_type": "markdown",
      "metadata": {
        "id": "af2JhGn1Ffgc"
      },
      "source": [
        "#**Overfitting and Dropout on RNN, GRU, LSTM Models**\n",
        "\n",
        "Overfitting is a serious sin in machine learning. When you train a model on your training data and apply to the test data, the accuracy of the test data usually is less than that of the training data. We know this is because the model has fitted the training data too well, including the noises in the training data. However, if overfitting just makes your prediction for the test data less effective, what’s the big deal? Why does academia and practitioners devoted decades of work to prevent overfitting?\n",
        "\n",
        "The real issue is that overfitting not only makes your model inefficient, it could make your prediction very wrong. Suppose your final model has ten variables, eight of which capturing the real patterns and the other two variables, noises. In other words, the two variables overfit noises and are useless. Suppose you are going to predict new data with your ten-variable model, and suppose the new values for the two variables are large. Guess what will happen? Your prediction will be very wrong due to the two variables and the large values in the new data. So overfitting does not just make your model ineffective, they can make your prediction very wrong.\n",
        "\n",
        "**Deep learning uses the dropout technique to control overfitting.** The dropout technique randomly drops or deactivates some neurons for a layer during each iteration. It is like some weights are set to zero. So in each iteration the model looks at a slightly different structure of itself to optimize the model. See [“Explaining Deep Learning in a Regression-Friendly Way”](https://levelup.gitconnected.com/a-tutorial-to-build-from-regression-to-deep-learning-b7354240d2d5) for more detail.\n",
        "\n",
        "Handling dropout in RNN/LSTM/GRU is also a research topic. In a feedforward neural network, dropping neurons is easier because there is no connectivity between neurons of the same layer. However, in RNN/LSTM/GRU, dropping time steps harms the ability to carry informative signals across time. What are the remedies? Pham et al. (2013) suggest applying dropout only between layers in deep-RNNs and not between sequence positions. Gal and Ghahramani (2015) suggests applying dropout to all the components of the RNN (both recurrent and non-recurrent), but retain the same dropout mask across time steps. [This paper provides a good review.](https://arxiv.org/pdf/1409.2329.pdf)\n",
        "\n",
        "Source: https://medium.com/swlh/a-technical-guide-on-rnn-lstm-gru-for-stock-price-prediction-bce2f7f30346"
      ]
    },
    {
      "cell_type": "code",
      "metadata": {
        "id": "7f4iuRVoTs7l"
      },
      "source": [
        "# Let's now import tensor for so we can build our model\n",
        "%tensorflow_version 2.x\n",
        "import tensorflow as tf"
      ],
      "execution_count": 226,
      "outputs": []
    },
    {
      "cell_type": "code",
      "metadata": {
        "id": "2X6QXPNEptrN"
      },
      "source": [
        "from tensorflow import keras"
      ],
      "execution_count": 227,
      "outputs": []
    },
    {
      "cell_type": "code",
      "metadata": {
        "id": "MghNBNNYTwcO"
      },
      "source": [
        "# Let's build our model\n",
        "model = tf.keras.models.Sequential([\n",
        "    tf.keras.layers.LSTM(units = 50, return_sequences = True, input_shape = (features.shape[1], 1)), #activation = 'relu',\n",
        "    tf.keras.layers.LSTM(units = 50, return_sequences = True), #activation = 'relu'\n",
        "    tf.keras.layers.LSTM(units = 50, return_sequences = True), #activation = 'relu'\n",
        "    #tf.keras.layers.LSTM(units = 50, return_sequences = True), #activation = 'relu'\n",
        "    tf.keras.layers.LSTM(units = 50), #activation = 'relu'\n",
        "    tf.keras.layers.Dropout(0.02),\n",
        "    tf.keras.layers.Dense(units = FutureTimeSteps)\n",
        "])"
      ],
      "execution_count": 228,
      "outputs": []
    },
    {
      "cell_type": "code",
      "metadata": {
        "colab": {
          "base_uri": "https://localhost:8080/"
        },
        "id": "N-1CXwQzUZZn",
        "outputId": "d88c59ba-0546-43b1-996d-5a7164730bcb"
      },
      "source": [
        "#Let's see a summary of our model\n",
        "model.summary()"
      ],
      "execution_count": null,
      "outputs": [
        {
          "output_type": "stream",
          "name": "stdout",
          "text": [
            "Model: \"sequential_2\"\n",
            "_________________________________________________________________\n",
            "Layer (type)                 Output Shape              Param #   \n",
            "=================================================================\n",
            "lstm_8 (LSTM)                (None, 13, 50)            10400     \n",
            "_________________________________________________________________\n",
            "lstm_9 (LSTM)                (None, 13, 50)            20200     \n",
            "_________________________________________________________________\n",
            "lstm_10 (LSTM)               (None, 13, 50)            20200     \n",
            "_________________________________________________________________\n",
            "lstm_11 (LSTM)               (None, 50)                20200     \n",
            "_________________________________________________________________\n",
            "dropout_2 (Dropout)          (None, 50)                0         \n",
            "_________________________________________________________________\n",
            "dense_2 (Dense)              (None, 1)                 51        \n",
            "=================================================================\n",
            "Total params: 71,051\n",
            "Trainable params: 71,051\n",
            "Non-trainable params: 0\n",
            "_________________________________________________________________\n"
          ]
        }
      ]
    },
    {
      "cell_type": "code",
      "metadata": {
        "id": "dVDGzn7YUowW"
      },
      "source": [
        "# Let's plot our model\n",
        "#tf.keras.utils.plot_model(model, to_file='my_model.png')"
      ],
      "execution_count": null,
      "outputs": []
    },
    {
      "cell_type": "markdown",
      "metadata": {
        "id": "cdKUfyFS5gL6"
      },
      "source": [
        "# Let's compile our model\n",
        "\n",
        "The compilation is the final step in creating a model. Once the compilation is done, we can move on to training phase.\n",
        "\n",
        "The model will be compiled and optimized by the **adam optimizer** and set the **loss function as mean_squarred_error**\n",
        "\n",
        "see: https://www.tutorialspoint.com/keras/keras_model_compilation.htm\n",
        "\n",
        "Keras model provides a method, compile() to compile the model. The argument and default value of the compile() method is as follows:\n",
        "\n",
        "\n",
        "```\n",
        "compile(\n",
        "   optimizer, \n",
        "   loss = None, \n",
        "   metrics = None, \n",
        "   loss_weights = None, \n",
        "   sample_weight_mode = None, \n",
        "   weighted_metrics = None, \n",
        "   target_tensors = None\n",
        ")\n",
        "```\n",
        "\n",
        "The important arguments are as follows −\n",
        "```\n",
        "loss function, Optimizer, metrics\n",
        "```\n",
        "#### Example\n",
        "```\n",
        "from keras import losses \n",
        "from keras import optimizers \n",
        "from keras import metrics \n",
        "\n",
        "model.compile(loss = 'mean_squared_error',  \n",
        "   optimizer = 'sgd', metrics = [metrics.categorical_accuracy])\n",
        "```"
      ]
    },
    {
      "cell_type": "markdown",
      "metadata": {
        "id": "YpuZlQCVVR1_"
      },
      "source": [
        "In machine learning, Loss function is used to find error or deviation in the learning process. Keras requires loss function during model compilation process.\n",
        "\n",
        "Keras provides quite a few loss function in the losses module and they are as follows −\n",
        "\n",
        "* mean_squared_error\n",
        "* mean_absolute_error\n",
        "* mean_absolute_percentage_error\n",
        "* mean_squared_logarithmic_error\n",
        "* squared_hinge\n",
        "* hinge\n",
        "* categorical_hinge\n",
        "* logcosh\n",
        "* huber_loss\n",
        "* categorical_crossentropy\n",
        "* sparse_categorical_crossentropy\n",
        "* binary_crossentropy\n",
        "* kullback_leibler_divergence\n",
        "* poisson\n",
        "* cosine_proximity\n",
        "* is_categorical_crossentropy\n",
        "\n",
        "All above loss function accepts two arguments −\n",
        "\n",
        "y_true − true labels as tensors\n",
        "\n",
        "y_pred − prediction with same shape as y_true"
      ]
    },
    {
      "cell_type": "code",
      "metadata": {
        "id": "nLzRnXp6T1sU"
      },
      "source": [
        "model.compile(optimizer = 'adam', loss = 'mean_squared_error')"
      ],
      "execution_count": 229,
      "outputs": []
    },
    {
      "cell_type": "markdown",
      "metadata": {
        "id": "ezDOXYI55i5u"
      },
      "source": [
        "# **Let's (Fit our Model = Train the Model) using fit()**\n",
        "\n",
        "In statistics, a **fit** refers to how well you approximate a target function.\n",
        "\n",
        "Models are trained by NumPy arrays using fit(). \n",
        "\n",
        "The main purpose of this fit function is used to evaluate your model on training. This can be also used for graphing model performance. It has the following syntax −\n",
        "```\n",
        "model.fit(X, y, epochs = , batch_size = )\n",
        "```\n",
        "Here,\n",
        "\n",
        "`X, y` − It is a tuple to evaluate your data.\n",
        "\n",
        "`epochs` − number of times the model is needed to be evaluated during training.\n",
        "\n",
        "`batch_size` − training instances\n",
        "\n",
        "see: https://www.tutorialspoint.com/keras/keras_model_compilation.htm"
      ]
    },
    {
      "cell_type": "code",
      "metadata": {
        "id": "zq8-EhopMbaW"
      },
      "source": [
        "# os package is needed to use callback\n",
        "import os"
      ],
      "execution_count": null,
      "outputs": []
    },
    {
      "cell_type": "code",
      "metadata": {
        "id": "1qikm9jSL6B9"
      },
      "source": [
        "# See https://www.tensorflow.org/tutorials/keras/save_and_load\n",
        "# See https://www.tensorflow.org/api_docs/python/tf/keras/callbacks/ModelCheckpoint\n",
        "# Checkpoint callback usage\n",
        "# Create a tf.keras.callbacks.ModelCheckpoint callback that saves weights only during training:\n",
        "checkpoint_path = \"training_1/cp.ckpt\"\n",
        "checkpoint_dir = os.path.dirname(checkpoint_path)\n",
        "\n",
        "# Create a callback that saves the model's weights\n",
        "cp_callback = tf.keras.callbacks.ModelCheckpoint(filepath=checkpoint_path,\n",
        "                                                 save_weights_only=True,\n",
        "                                                 verbose=1)"
      ],
      "execution_count": null,
      "outputs": []
    },
    {
      "cell_type": "code",
      "metadata": {
        "colab": {
          "base_uri": "https://localhost:8080/"
        },
        "id": "z59YK_csT5PM",
        "outputId": "4fc94757-993d-4f7f-e5fe-15b24a6b4366"
      },
      "source": [
        "from time import time\n",
        "start = time()\n",
        "#history = model.fit(features, labels, epochs = 20, batch_size = 32, verbose = 1, callbacks=[cp_callback])\n",
        "history = model.fit(features, labels, epochs = 200, batch_size = 5, verbose = 1)\n",
        "end = time()"
      ],
      "execution_count": 230,
      "outputs": [
        {
          "output_type": "stream",
          "name": "stdout",
          "text": [
            "Epoch 1/200\n",
            "252/252 [==============================] - 13s 24ms/step - loss: 0.0097\n",
            "Epoch 2/200\n",
            "252/252 [==============================] - 6s 24ms/step - loss: 0.0022\n",
            "Epoch 3/200\n",
            "252/252 [==============================] - 6s 24ms/step - loss: 0.0020\n",
            "Epoch 4/200\n",
            "252/252 [==============================] - 6s 24ms/step - loss: 0.0020\n",
            "Epoch 5/200\n",
            "252/252 [==============================] - 6s 24ms/step - loss: 0.0017\n",
            "Epoch 6/200\n",
            "252/252 [==============================] - 6s 24ms/step - loss: 0.0015\n",
            "Epoch 7/200\n",
            "252/252 [==============================] - 6s 24ms/step - loss: 0.0017\n",
            "Epoch 8/200\n",
            "252/252 [==============================] - 6s 25ms/step - loss: 0.0017\n",
            "Epoch 9/200\n",
            "252/252 [==============================] - 6s 24ms/step - loss: 0.0013\n",
            "Epoch 10/200\n",
            "252/252 [==============================] - 6s 24ms/step - loss: 0.0011\n",
            "Epoch 11/200\n",
            "252/252 [==============================] - 6s 24ms/step - loss: 0.0014\n",
            "Epoch 12/200\n",
            "252/252 [==============================] - 6s 24ms/step - loss: 0.0012\n",
            "Epoch 13/200\n",
            "252/252 [==============================] - 6s 25ms/step - loss: 0.0012\n",
            "Epoch 14/200\n",
            "252/252 [==============================] - 6s 24ms/step - loss: 0.0011\n",
            "Epoch 15/200\n",
            "252/252 [==============================] - 6s 24ms/step - loss: 0.0012\n",
            "Epoch 16/200\n",
            "252/252 [==============================] - 6s 24ms/step - loss: 9.2227e-04\n",
            "Epoch 17/200\n",
            "252/252 [==============================] - 6s 24ms/step - loss: 9.8825e-04\n",
            "Epoch 18/200\n",
            "252/252 [==============================] - 6s 25ms/step - loss: 0.0012\n",
            "Epoch 19/200\n",
            "252/252 [==============================] - 6s 24ms/step - loss: 8.2506e-04\n",
            "Epoch 20/200\n",
            "252/252 [==============================] - 6s 24ms/step - loss: 9.4513e-04\n",
            "Epoch 21/200\n",
            "252/252 [==============================] - 6s 24ms/step - loss: 7.7860e-04\n",
            "Epoch 22/200\n",
            "252/252 [==============================] - 6s 24ms/step - loss: 7.2755e-04\n",
            "Epoch 23/200\n",
            "252/252 [==============================] - 6s 24ms/step - loss: 6.5480e-04\n",
            "Epoch 24/200\n",
            "252/252 [==============================] - 6s 24ms/step - loss: 6.3601e-04\n",
            "Epoch 25/200\n",
            "252/252 [==============================] - 6s 24ms/step - loss: 5.7729e-04\n",
            "Epoch 26/200\n",
            "252/252 [==============================] - 6s 24ms/step - loss: 5.7937e-04\n",
            "Epoch 27/200\n",
            "252/252 [==============================] - 6s 25ms/step - loss: 5.1474e-04\n",
            "Epoch 28/200\n",
            "252/252 [==============================] - 6s 25ms/step - loss: 5.4260e-04\n",
            "Epoch 29/200\n",
            "252/252 [==============================] - 6s 24ms/step - loss: 5.6243e-04\n",
            "Epoch 30/200\n",
            "252/252 [==============================] - 6s 24ms/step - loss: 5.4244e-04\n",
            "Epoch 31/200\n",
            "252/252 [==============================] - 6s 24ms/step - loss: 4.5954e-04\n",
            "Epoch 32/200\n",
            "252/252 [==============================] - 6s 24ms/step - loss: 5.1426e-04\n",
            "Epoch 33/200\n",
            "252/252 [==============================] - 6s 25ms/step - loss: 5.8011e-04\n",
            "Epoch 34/200\n",
            "252/252 [==============================] - 6s 24ms/step - loss: 4.9309e-04\n",
            "Epoch 35/200\n",
            "252/252 [==============================] - 6s 24ms/step - loss: 4.6584e-04\n",
            "Epoch 36/200\n",
            "252/252 [==============================] - 6s 25ms/step - loss: 4.3120e-04\n",
            "Epoch 37/200\n",
            "252/252 [==============================] - 6s 25ms/step - loss: 4.7049e-04\n",
            "Epoch 38/200\n",
            "252/252 [==============================] - 6s 25ms/step - loss: 5.7455e-04\n",
            "Epoch 39/200\n",
            "252/252 [==============================] - 6s 25ms/step - loss: 5.5256e-04\n",
            "Epoch 40/200\n",
            "252/252 [==============================] - 6s 24ms/step - loss: 4.3071e-04\n",
            "Epoch 41/200\n",
            "252/252 [==============================] - 6s 24ms/step - loss: 4.2380e-04\n",
            "Epoch 42/200\n",
            "252/252 [==============================] - 6s 24ms/step - loss: 4.8199e-04\n",
            "Epoch 43/200\n",
            "252/252 [==============================] - 6s 24ms/step - loss: 4.3869e-04\n",
            "Epoch 44/200\n",
            "252/252 [==============================] - 6s 24ms/step - loss: 4.3775e-04\n",
            "Epoch 45/200\n",
            "252/252 [==============================] - 6s 24ms/step - loss: 4.6432e-04\n",
            "Epoch 46/200\n",
            "252/252 [==============================] - 6s 24ms/step - loss: 4.9873e-04\n",
            "Epoch 47/200\n",
            "252/252 [==============================] - 6s 24ms/step - loss: 4.3609e-04\n",
            "Epoch 48/200\n",
            "252/252 [==============================] - 6s 25ms/step - loss: 4.3157e-04\n",
            "Epoch 49/200\n",
            "252/252 [==============================] - 6s 24ms/step - loss: 4.5275e-04\n",
            "Epoch 50/200\n",
            "252/252 [==============================] - 6s 24ms/step - loss: 4.5616e-04\n",
            "Epoch 51/200\n",
            "252/252 [==============================] - 6s 25ms/step - loss: 4.3761e-04\n",
            "Epoch 52/200\n",
            "252/252 [==============================] - 6s 25ms/step - loss: 4.2946e-04\n",
            "Epoch 53/200\n",
            "252/252 [==============================] - 6s 24ms/step - loss: 4.1520e-04\n",
            "Epoch 54/200\n",
            "252/252 [==============================] - 6s 24ms/step - loss: 4.4790e-04\n",
            "Epoch 55/200\n",
            "252/252 [==============================] - 6s 25ms/step - loss: 4.0352e-04\n",
            "Epoch 56/200\n",
            "252/252 [==============================] - 6s 24ms/step - loss: 5.2307e-04\n",
            "Epoch 57/200\n",
            "252/252 [==============================] - 6s 24ms/step - loss: 4.4699e-04\n",
            "Epoch 58/200\n",
            "252/252 [==============================] - 6s 24ms/step - loss: 4.7693e-04\n",
            "Epoch 59/200\n",
            "252/252 [==============================] - 6s 24ms/step - loss: 4.2029e-04\n",
            "Epoch 60/200\n",
            "252/252 [==============================] - 6s 24ms/step - loss: 4.4341e-04\n",
            "Epoch 61/200\n",
            "252/252 [==============================] - 6s 24ms/step - loss: 4.2060e-04\n",
            "Epoch 62/200\n",
            "252/252 [==============================] - 6s 24ms/step - loss: 4.1194e-04\n",
            "Epoch 63/200\n",
            "252/252 [==============================] - 6s 24ms/step - loss: 4.0133e-04\n",
            "Epoch 64/200\n",
            "252/252 [==============================] - 6s 24ms/step - loss: 4.4371e-04\n",
            "Epoch 65/200\n",
            "252/252 [==============================] - 6s 25ms/step - loss: 3.8524e-04\n",
            "Epoch 66/200\n",
            "252/252 [==============================] - 6s 25ms/step - loss: 4.2967e-04\n",
            "Epoch 67/200\n",
            "252/252 [==============================] - 6s 25ms/step - loss: 4.2627e-04\n",
            "Epoch 68/200\n",
            "252/252 [==============================] - 6s 24ms/step - loss: 3.6733e-04\n",
            "Epoch 69/200\n",
            "252/252 [==============================] - 6s 24ms/step - loss: 3.9778e-04\n",
            "Epoch 70/200\n",
            "252/252 [==============================] - 6s 24ms/step - loss: 4.2109e-04\n",
            "Epoch 71/200\n",
            "252/252 [==============================] - 6s 24ms/step - loss: 4.3758e-04\n",
            "Epoch 72/200\n",
            "252/252 [==============================] - 6s 24ms/step - loss: 4.3698e-04\n",
            "Epoch 73/200\n",
            "252/252 [==============================] - 6s 25ms/step - loss: 4.6222e-04\n",
            "Epoch 74/200\n",
            "252/252 [==============================] - 6s 24ms/step - loss: 3.8516e-04\n",
            "Epoch 75/200\n",
            "252/252 [==============================] - 6s 24ms/step - loss: 4.1895e-04\n",
            "Epoch 76/200\n",
            "252/252 [==============================] - 6s 25ms/step - loss: 3.9053e-04\n",
            "Epoch 77/200\n",
            "252/252 [==============================] - 6s 25ms/step - loss: 4.0479e-04\n",
            "Epoch 78/200\n",
            "252/252 [==============================] - 6s 25ms/step - loss: 3.7528e-04\n",
            "Epoch 79/200\n",
            "252/252 [==============================] - 6s 24ms/step - loss: 4.1828e-04\n",
            "Epoch 80/200\n",
            "252/252 [==============================] - 6s 25ms/step - loss: 4.2171e-04\n",
            "Epoch 81/200\n",
            "252/252 [==============================] - 6s 25ms/step - loss: 3.6960e-04\n",
            "Epoch 82/200\n",
            "252/252 [==============================] - 6s 25ms/step - loss: 3.7863e-04\n",
            "Epoch 83/200\n",
            "252/252 [==============================] - 6s 25ms/step - loss: 4.2778e-04\n",
            "Epoch 84/200\n",
            "252/252 [==============================] - 6s 25ms/step - loss: 4.0425e-04\n",
            "Epoch 85/200\n",
            "252/252 [==============================] - 6s 25ms/step - loss: 4.6191e-04\n",
            "Epoch 86/200\n",
            "252/252 [==============================] - 6s 25ms/step - loss: 3.9383e-04\n",
            "Epoch 87/200\n",
            "252/252 [==============================] - 6s 25ms/step - loss: 4.0591e-04\n",
            "Epoch 88/200\n",
            "252/252 [==============================] - 6s 25ms/step - loss: 3.9612e-04\n",
            "Epoch 89/200\n",
            "252/252 [==============================] - 6s 25ms/step - loss: 4.1690e-04\n",
            "Epoch 90/200\n",
            "252/252 [==============================] - 6s 25ms/step - loss: 3.9261e-04\n",
            "Epoch 91/200\n",
            "252/252 [==============================] - 6s 25ms/step - loss: 4.0128e-04\n",
            "Epoch 92/200\n",
            "252/252 [==============================] - 6s 25ms/step - loss: 4.0425e-04\n",
            "Epoch 93/200\n",
            "252/252 [==============================] - 6s 25ms/step - loss: 4.4110e-04\n",
            "Epoch 94/200\n",
            "252/252 [==============================] - 6s 25ms/step - loss: 4.0046e-04\n",
            "Epoch 95/200\n",
            "252/252 [==============================] - 6s 25ms/step - loss: 3.7251e-04\n",
            "Epoch 96/200\n",
            "252/252 [==============================] - 6s 25ms/step - loss: 3.9085e-04\n",
            "Epoch 97/200\n",
            "252/252 [==============================] - 6s 25ms/step - loss: 3.9511e-04\n",
            "Epoch 98/200\n",
            "252/252 [==============================] - 6s 25ms/step - loss: 4.0185e-04\n",
            "Epoch 99/200\n",
            "252/252 [==============================] - 6s 25ms/step - loss: 4.2148e-04\n",
            "Epoch 100/200\n",
            "252/252 [==============================] - 6s 25ms/step - loss: 3.9835e-04\n",
            "Epoch 101/200\n",
            "252/252 [==============================] - 6s 25ms/step - loss: 3.8058e-04\n",
            "Epoch 102/200\n",
            "252/252 [==============================] - 6s 25ms/step - loss: 3.9346e-04\n",
            "Epoch 103/200\n",
            "252/252 [==============================] - 6s 25ms/step - loss: 3.6017e-04\n",
            "Epoch 104/200\n",
            "252/252 [==============================] - 6s 25ms/step - loss: 4.2859e-04\n",
            "Epoch 105/200\n",
            "252/252 [==============================] - 6s 25ms/step - loss: 3.8050e-04\n",
            "Epoch 106/200\n",
            "252/252 [==============================] - 6s 25ms/step - loss: 3.8933e-04\n",
            "Epoch 107/200\n",
            "252/252 [==============================] - 6s 25ms/step - loss: 3.9232e-04\n",
            "Epoch 108/200\n",
            "252/252 [==============================] - 6s 24ms/step - loss: 3.8193e-04\n",
            "Epoch 109/200\n",
            "252/252 [==============================] - 6s 25ms/step - loss: 3.6814e-04\n",
            "Epoch 110/200\n",
            "252/252 [==============================] - 6s 25ms/step - loss: 4.0372e-04\n",
            "Epoch 111/200\n",
            "252/252 [==============================] - 6s 24ms/step - loss: 3.8397e-04\n",
            "Epoch 112/200\n",
            "252/252 [==============================] - 6s 25ms/step - loss: 3.9183e-04\n",
            "Epoch 113/200\n",
            "252/252 [==============================] - 6s 25ms/step - loss: 4.1468e-04\n",
            "Epoch 114/200\n",
            "252/252 [==============================] - 6s 25ms/step - loss: 3.9035e-04\n",
            "Epoch 115/200\n",
            "252/252 [==============================] - 6s 25ms/step - loss: 3.7829e-04\n",
            "Epoch 116/200\n",
            "252/252 [==============================] - 6s 25ms/step - loss: 4.2361e-04\n",
            "Epoch 117/200\n",
            "252/252 [==============================] - 6s 24ms/step - loss: 3.9222e-04\n",
            "Epoch 118/200\n",
            "252/252 [==============================] - 6s 24ms/step - loss: 3.9131e-04\n",
            "Epoch 119/200\n",
            "252/252 [==============================] - 6s 25ms/step - loss: 3.7564e-04\n",
            "Epoch 120/200\n",
            "252/252 [==============================] - 6s 25ms/step - loss: 4.7455e-04\n",
            "Epoch 121/200\n",
            "252/252 [==============================] - 6s 24ms/step - loss: 4.0397e-04\n",
            "Epoch 122/200\n",
            "252/252 [==============================] - 6s 25ms/step - loss: 3.6230e-04\n",
            "Epoch 123/200\n",
            "252/252 [==============================] - 6s 25ms/step - loss: 3.7416e-04\n",
            "Epoch 124/200\n",
            "252/252 [==============================] - 6s 25ms/step - loss: 3.7132e-04\n",
            "Epoch 125/200\n",
            "252/252 [==============================] - 6s 25ms/step - loss: 4.0572e-04\n",
            "Epoch 126/200\n",
            "252/252 [==============================] - 6s 24ms/step - loss: 3.7587e-04\n",
            "Epoch 127/200\n",
            "252/252 [==============================] - 6s 24ms/step - loss: 3.9402e-04\n",
            "Epoch 128/200\n",
            "252/252 [==============================] - 6s 24ms/step - loss: 3.6670e-04\n",
            "Epoch 129/200\n",
            "252/252 [==============================] - 6s 25ms/step - loss: 3.5622e-04\n",
            "Epoch 130/200\n",
            "252/252 [==============================] - 6s 25ms/step - loss: 3.4945e-04\n",
            "Epoch 131/200\n",
            "252/252 [==============================] - 6s 25ms/step - loss: 3.9222e-04\n",
            "Epoch 132/200\n",
            "252/252 [==============================] - 6s 24ms/step - loss: 4.1456e-04\n",
            "Epoch 133/200\n",
            "252/252 [==============================] - 6s 25ms/step - loss: 3.7849e-04\n",
            "Epoch 134/200\n",
            "252/252 [==============================] - 6s 25ms/step - loss: 3.6631e-04\n",
            "Epoch 135/200\n",
            "252/252 [==============================] - 6s 25ms/step - loss: 3.5490e-04\n",
            "Epoch 136/200\n",
            "252/252 [==============================] - 6s 25ms/step - loss: 3.4567e-04\n",
            "Epoch 137/200\n",
            "252/252 [==============================] - 6s 25ms/step - loss: 4.1242e-04\n",
            "Epoch 138/200\n",
            "252/252 [==============================] - 6s 25ms/step - loss: 3.8035e-04\n",
            "Epoch 139/200\n",
            "252/252 [==============================] - 6s 25ms/step - loss: 3.7500e-04\n",
            "Epoch 140/200\n",
            "252/252 [==============================] - 6s 25ms/step - loss: 3.5670e-04\n",
            "Epoch 141/200\n",
            "252/252 [==============================] - 6s 25ms/step - loss: 3.7796e-04\n",
            "Epoch 142/200\n",
            "252/252 [==============================] - 6s 25ms/step - loss: 3.7100e-04\n",
            "Epoch 143/200\n",
            "252/252 [==============================] - 6s 25ms/step - loss: 3.6578e-04\n",
            "Epoch 144/200\n",
            "252/252 [==============================] - 6s 24ms/step - loss: 3.8538e-04\n",
            "Epoch 145/200\n",
            "252/252 [==============================] - 6s 25ms/step - loss: 3.6023e-04\n",
            "Epoch 146/200\n",
            "252/252 [==============================] - 6s 25ms/step - loss: 3.5849e-04\n",
            "Epoch 147/200\n",
            "252/252 [==============================] - 6s 25ms/step - loss: 3.7154e-04\n",
            "Epoch 148/200\n",
            "252/252 [==============================] - 6s 25ms/step - loss: 3.7919e-04\n",
            "Epoch 149/200\n",
            "252/252 [==============================] - 6s 25ms/step - loss: 3.3615e-04\n",
            "Epoch 150/200\n",
            "252/252 [==============================] - 6s 25ms/step - loss: 4.0229e-04\n",
            "Epoch 151/200\n",
            "252/252 [==============================] - 6s 25ms/step - loss: 3.4551e-04\n",
            "Epoch 152/200\n",
            "252/252 [==============================] - 6s 25ms/step - loss: 3.4646e-04\n",
            "Epoch 153/200\n",
            "252/252 [==============================] - 6s 25ms/step - loss: 3.7286e-04\n",
            "Epoch 154/200\n",
            "252/252 [==============================] - 6s 25ms/step - loss: 3.7750e-04\n",
            "Epoch 155/200\n",
            "252/252 [==============================] - 6s 25ms/step - loss: 3.4423e-04\n",
            "Epoch 156/200\n",
            "252/252 [==============================] - 6s 25ms/step - loss: 3.6172e-04\n",
            "Epoch 157/200\n",
            "252/252 [==============================] - 6s 25ms/step - loss: 3.5416e-04\n",
            "Epoch 158/200\n",
            "252/252 [==============================] - 6s 26ms/step - loss: 3.5594e-04\n",
            "Epoch 159/200\n",
            "252/252 [==============================] - 6s 25ms/step - loss: 3.7788e-04\n",
            "Epoch 160/200\n",
            "252/252 [==============================] - 6s 25ms/step - loss: 3.8933e-04\n",
            "Epoch 161/200\n",
            "252/252 [==============================] - 6s 25ms/step - loss: 4.0663e-04\n",
            "Epoch 162/200\n",
            "252/252 [==============================] - 6s 25ms/step - loss: 3.6378e-04\n",
            "Epoch 163/200\n",
            "252/252 [==============================] - 6s 25ms/step - loss: 3.6505e-04\n",
            "Epoch 164/200\n",
            "252/252 [==============================] - 6s 25ms/step - loss: 3.5073e-04\n",
            "Epoch 165/200\n",
            "252/252 [==============================] - 6s 25ms/step - loss: 3.5866e-04\n",
            "Epoch 166/200\n",
            "252/252 [==============================] - 6s 25ms/step - loss: 3.6351e-04\n",
            "Epoch 167/200\n",
            "252/252 [==============================] - 6s 25ms/step - loss: 3.7407e-04\n",
            "Epoch 168/200\n",
            "252/252 [==============================] - 6s 25ms/step - loss: 3.8920e-04\n",
            "Epoch 169/200\n",
            "252/252 [==============================] - 6s 25ms/step - loss: 4.1514e-04\n",
            "Epoch 170/200\n",
            "252/252 [==============================] - 6s 25ms/step - loss: 3.5905e-04\n",
            "Epoch 171/200\n",
            "252/252 [==============================] - 6s 25ms/step - loss: 3.8747e-04\n",
            "Epoch 172/200\n",
            "252/252 [==============================] - 6s 25ms/step - loss: 3.5797e-04\n",
            "Epoch 173/200\n",
            "252/252 [==============================] - 6s 25ms/step - loss: 3.7389e-04\n",
            "Epoch 174/200\n",
            "252/252 [==============================] - 6s 25ms/step - loss: 3.4377e-04\n",
            "Epoch 175/200\n",
            "252/252 [==============================] - 6s 25ms/step - loss: 3.9930e-04\n",
            "Epoch 176/200\n",
            "252/252 [==============================] - 6s 25ms/step - loss: 3.5472e-04\n",
            "Epoch 177/200\n",
            "252/252 [==============================] - 7s 26ms/step - loss: 3.4266e-04\n",
            "Epoch 178/200\n",
            "252/252 [==============================] - 6s 25ms/step - loss: 3.7679e-04\n",
            "Epoch 179/200\n",
            "252/252 [==============================] - 6s 25ms/step - loss: 3.5913e-04\n",
            "Epoch 180/200\n",
            "252/252 [==============================] - 6s 25ms/step - loss: 3.5513e-04\n",
            "Epoch 181/200\n",
            "252/252 [==============================] - 6s 25ms/step - loss: 3.6590e-04\n",
            "Epoch 182/200\n",
            "252/252 [==============================] - 6s 25ms/step - loss: 3.4736e-04\n",
            "Epoch 183/200\n",
            "252/252 [==============================] - 6s 25ms/step - loss: 3.4892e-04\n",
            "Epoch 184/200\n",
            "252/252 [==============================] - 6s 25ms/step - loss: 3.7347e-04\n",
            "Epoch 185/200\n",
            "252/252 [==============================] - 6s 25ms/step - loss: 3.7676e-04\n",
            "Epoch 186/200\n",
            "252/252 [==============================] - 7s 26ms/step - loss: 3.6527e-04\n",
            "Epoch 187/200\n",
            "252/252 [==============================] - 7s 26ms/step - loss: 3.5247e-04\n",
            "Epoch 188/200\n",
            "252/252 [==============================] - 6s 26ms/step - loss: 3.7409e-04\n",
            "Epoch 189/200\n",
            "252/252 [==============================] - 6s 25ms/step - loss: 3.4714e-04\n",
            "Epoch 190/200\n",
            "252/252 [==============================] - 6s 25ms/step - loss: 3.6242e-04\n",
            "Epoch 191/200\n",
            "252/252 [==============================] - 6s 25ms/step - loss: 3.4681e-04\n",
            "Epoch 192/200\n",
            "252/252 [==============================] - 6s 25ms/step - loss: 3.4663e-04\n",
            "Epoch 193/200\n",
            "252/252 [==============================] - 6s 25ms/step - loss: 3.6923e-04\n",
            "Epoch 194/200\n",
            "252/252 [==============================] - 6s 25ms/step - loss: 3.5902e-04\n",
            "Epoch 195/200\n",
            "252/252 [==============================] - 6s 25ms/step - loss: 3.6711e-04\n",
            "Epoch 196/200\n",
            "252/252 [==============================] - 6s 25ms/step - loss: 3.6323e-04\n",
            "Epoch 197/200\n",
            "252/252 [==============================] - 6s 25ms/step - loss: 3.7280e-04\n",
            "Epoch 198/200\n",
            "252/252 [==============================] - 6s 25ms/step - loss: 3.6766e-04\n",
            "Epoch 199/200\n",
            "252/252 [==============================] - 6s 25ms/step - loss: 3.3891e-04\n",
            "Epoch 200/200\n",
            "252/252 [==============================] - 6s 25ms/step - loss: 3.5618e-04\n"
          ]
        }
      ]
    },
    {
      "cell_type": "code",
      "metadata": {
        "colab": {
          "base_uri": "https://localhost:8080/"
        },
        "id": "KRnCYFuoT8qO",
        "outputId": "35c52594-8dc0-4c3c-ffd3-795748165805"
      },
      "source": [
        "print('Total training time {} seconds'.format(end - start))"
      ],
      "execution_count": 146,
      "outputs": [
        {
          "output_type": "stream",
          "name": "stdout",
          "text": [
            "Total training time 5271.826431751251 seconds\n"
          ]
        }
      ]
    },
    {
      "cell_type": "code",
      "metadata": {
        "colab": {
          "base_uri": "https://localhost:8080/"
        },
        "id": "6GC_o7Lrjvlm",
        "outputId": "540bb905-4bcc-459f-8f8f-e5bfdf4015b5"
      },
      "source": [
        "# Let's save the WHOLE model\n",
        "model.save('/content/drive/MyDrive/Nvidia_20161003to20211022_unit50505050_Epoch200_batch5_dropoutOnly002_dense1_high_NotRelu_13timesteps_NEW')"
      ],
      "execution_count": 231,
      "outputs": [
        {
          "output_type": "stream",
          "name": "stderr",
          "text": [
            "WARNING:absl:Found untraced functions such as lstm_cell_24_layer_call_fn, lstm_cell_24_layer_call_and_return_conditional_losses, lstm_cell_25_layer_call_fn, lstm_cell_25_layer_call_and_return_conditional_losses, lstm_cell_26_layer_call_fn while saving (showing 5 of 20). These functions will not be directly callable after loading.\n"
          ]
        },
        {
          "output_type": "stream",
          "name": "stdout",
          "text": [
            "INFO:tensorflow:Assets written to: /content/drive/MyDrive/Nvidia_20161003to20211022_unit50505050_Epoch200_batch5_dropoutOnly002_dense1_high_NotRelu_13timesteps_NEW/assets\n"
          ]
        },
        {
          "output_type": "stream",
          "name": "stderr",
          "text": [
            "INFO:tensorflow:Assets written to: /content/drive/MyDrive/Nvidia_20161003to20211022_unit50505050_Epoch200_batch5_dropoutOnly002_dense1_high_NotRelu_13timesteps_NEW/assets\n"
          ]
        }
      ]
    },
    {
      "cell_type": "code",
      "metadata": {
        "colab": {
          "base_uri": "https://localhost:8080/"
        },
        "id": "DTU6HYoPT9hx",
        "outputId": "f0360f27-99dc-47fe-9dc7-a80a90f23a3c"
      },
      "source": [
        "#  [samples(=inputs), days, features]\n",
        "print(features.shape)"
      ],
      "execution_count": null,
      "outputs": [
        {
          "name": "stdout",
          "output_type": "stream",
          "text": [
            "(1209, 60, 1)\n"
          ]
        }
      ]
    },
    {
      "cell_type": "markdown",
      "metadata": {
        "id": "i5V_tD1kp0F6"
      },
      "source": [
        "# Let's store our model as a **reconstructed model** to future use without training"
      ]
    },
    {
      "cell_type": "code",
      "metadata": {
        "id": "TQHkZgZipdDN"
      },
      "source": [
        "# It can be used to reconstruct the model identically.\n",
        "# see https://www.tensorflow.org/guide/keras/save_and_serialize\n",
        "reconstructed_model = keras.models.load_model(\"/content/drive/MyDrive/Nvidia_20161003to20211022_unit50505050_Epoch300_batch5_dropoutOnly002_dense1_high_NotRelu_13timesteps_NEW\")\n",
        "\n"
      ],
      "execution_count": 263,
      "outputs": []
    },
    {
      "cell_type": "markdown",
      "metadata": {
        "id": "QPzfJ-3c4uap"
      },
      "source": [
        "# Now that the model is trained, it's time to test it! \n",
        "\n",
        "* To test my model, I will get data for a future period that is not in the training data. \n",
        "* The preprocessing steps of this new data are similar to what we did to the training data.\n",
        "* Each time we test our data, we will contatenate our training data with the new test data\n",
        "* We will then use that new set of data to predict the next 5 days after the last date of this new set\n"
      ]
    },
    {
      "cell_type": "markdown",
      "metadata": {
        "id": "ZOW56BE2hKqg"
      },
      "source": [
        "* First, get the real stock prices from `2021-01-31` to `2021-06-26`\n",
        "* Second, store this new data to variable `test_stock_data` \n",
        "\n",
        "see https://ithelp.ithome.com.tw/articles/10247711"
      ]
    },
    {
      "cell_type": "code",
      "metadata": {
        "id": "ROR8baQXUA3E"
      },
      "source": [
        "# real stock prices for new period that we will use for testing our model  \n",
        "testing_start_date = '2021-10-25'\n",
        "testing_end_date = '2021-10-28'\n",
        "\n",
        "test_stock_data= nvidia_stock_prices.history(start=testing_start_date, end=testing_end_date, auto_adjust=True)"
      ],
      "execution_count": 337,
      "outputs": []
    },
    {
      "cell_type": "code",
      "metadata": {
        "colab": {
          "base_uri": "https://localhost:8080/",
          "height": 175
        },
        "id": "6FqSEqgdUPzz",
        "outputId": "692042c5-8778-4ee3-fa78-f25413703ede"
      },
      "source": [
        "# Let's see the tail of the test data\n",
        "test_stock_data.tail()"
      ],
      "execution_count": 338,
      "outputs": [
        {
          "output_type": "execute_result",
          "data": {
            "text/html": [
              "<div>\n",
              "<style scoped>\n",
              "    .dataframe tbody tr th:only-of-type {\n",
              "        vertical-align: middle;\n",
              "    }\n",
              "\n",
              "    .dataframe tbody tr th {\n",
              "        vertical-align: top;\n",
              "    }\n",
              "\n",
              "    .dataframe thead th {\n",
              "        text-align: right;\n",
              "    }\n",
              "</style>\n",
              "<table border=\"1\" class=\"dataframe\">\n",
              "  <thead>\n",
              "    <tr style=\"text-align: right;\">\n",
              "      <th></th>\n",
              "      <th>Open</th>\n",
              "      <th>High</th>\n",
              "      <th>Low</th>\n",
              "      <th>Close</th>\n",
              "      <th>Volume</th>\n",
              "      <th>Dividends</th>\n",
              "      <th>Stock Splits</th>\n",
              "    </tr>\n",
              "    <tr>\n",
              "      <th>Date</th>\n",
              "      <th></th>\n",
              "      <th></th>\n",
              "      <th></th>\n",
              "      <th></th>\n",
              "      <th></th>\n",
              "      <th></th>\n",
              "      <th></th>\n",
              "    </tr>\n",
              "  </thead>\n",
              "  <tbody>\n",
              "    <tr>\n",
              "      <th>2021-10-25</th>\n",
              "      <td>229.729996</td>\n",
              "      <td>233.550003</td>\n",
              "      <td>227.699997</td>\n",
              "      <td>231.660004</td>\n",
              "      <td>23023500</td>\n",
              "      <td>0</td>\n",
              "      <td>0</td>\n",
              "    </tr>\n",
              "    <tr>\n",
              "      <th>2021-10-26</th>\n",
              "      <td>239.889999</td>\n",
              "      <td>252.589996</td>\n",
              "      <td>239.240005</td>\n",
              "      <td>247.169998</td>\n",
              "      <td>48589800</td>\n",
              "      <td>0</td>\n",
              "      <td>0</td>\n",
              "    </tr>\n",
              "    <tr>\n",
              "      <th>2021-10-27</th>\n",
              "      <td>244.740005</td>\n",
              "      <td>250.899994</td>\n",
              "      <td>242.820007</td>\n",
              "      <td>244.509995</td>\n",
              "      <td>24599000</td>\n",
              "      <td>0</td>\n",
              "      <td>0</td>\n",
              "    </tr>\n",
              "  </tbody>\n",
              "</table>\n",
              "</div>"
            ],
            "text/plain": [
              "                  Open        High  ...  Dividends  Stock Splits\n",
              "Date                                ...                         \n",
              "2021-10-25  229.729996  233.550003  ...          0             0\n",
              "2021-10-26  239.889999  252.589996  ...          0             0\n",
              "2021-10-27  244.740005  250.899994  ...          0             0\n",
              "\n",
              "[3 rows x 7 columns]"
            ]
          },
          "metadata": {},
          "execution_count": 338
        }
      ]
    },
    {
      "cell_type": "code",
      "metadata": {
        "colab": {
          "base_uri": "https://localhost:8080/",
          "height": 175
        },
        "id": "CRUTuhI1UMjy",
        "outputId": "3f80ca54-e551-4931-aef8-6e83b52b3691"
      },
      "source": [
        "# Let's see the test data\n",
        "test_stock_data"
      ],
      "execution_count": 266,
      "outputs": [
        {
          "output_type": "execute_result",
          "data": {
            "text/html": [
              "<div>\n",
              "<style scoped>\n",
              "    .dataframe tbody tr th:only-of-type {\n",
              "        vertical-align: middle;\n",
              "    }\n",
              "\n",
              "    .dataframe tbody tr th {\n",
              "        vertical-align: top;\n",
              "    }\n",
              "\n",
              "    .dataframe thead th {\n",
              "        text-align: right;\n",
              "    }\n",
              "</style>\n",
              "<table border=\"1\" class=\"dataframe\">\n",
              "  <thead>\n",
              "    <tr style=\"text-align: right;\">\n",
              "      <th></th>\n",
              "      <th>Open</th>\n",
              "      <th>High</th>\n",
              "      <th>Low</th>\n",
              "      <th>Close</th>\n",
              "      <th>Volume</th>\n",
              "      <th>Dividends</th>\n",
              "      <th>Stock Splits</th>\n",
              "    </tr>\n",
              "    <tr>\n",
              "      <th>Date</th>\n",
              "      <th></th>\n",
              "      <th></th>\n",
              "      <th></th>\n",
              "      <th></th>\n",
              "      <th></th>\n",
              "      <th></th>\n",
              "      <th></th>\n",
              "    </tr>\n",
              "  </thead>\n",
              "  <tbody>\n",
              "    <tr>\n",
              "      <th>2021-10-25</th>\n",
              "      <td>229.729996</td>\n",
              "      <td>233.550003</td>\n",
              "      <td>227.699997</td>\n",
              "      <td>231.660004</td>\n",
              "      <td>23023500</td>\n",
              "      <td>0</td>\n",
              "      <td>0</td>\n",
              "    </tr>\n",
              "    <tr>\n",
              "      <th>2021-10-26</th>\n",
              "      <td>239.889999</td>\n",
              "      <td>252.589996</td>\n",
              "      <td>239.240005</td>\n",
              "      <td>247.169998</td>\n",
              "      <td>48589800</td>\n",
              "      <td>0</td>\n",
              "      <td>0</td>\n",
              "    </tr>\n",
              "    <tr>\n",
              "      <th>2021-10-27</th>\n",
              "      <td>244.740005</td>\n",
              "      <td>250.899994</td>\n",
              "      <td>242.820007</td>\n",
              "      <td>244.509995</td>\n",
              "      <td>24599000</td>\n",
              "      <td>0</td>\n",
              "      <td>0</td>\n",
              "    </tr>\n",
              "  </tbody>\n",
              "</table>\n",
              "</div>"
            ],
            "text/plain": [
              "                  Open        High  ...  Dividends  Stock Splits\n",
              "Date                                ...                         \n",
              "2021-10-25  229.729996  233.550003  ...          0             0\n",
              "2021-10-26  239.889999  252.589996  ...          0             0\n",
              "2021-10-27  244.740005  250.899994  ...          0             0\n",
              "\n",
              "[3 rows x 7 columns]"
            ]
          },
          "metadata": {},
          "execution_count": 266
        }
      ]
    },
    {
      "cell_type": "code",
      "metadata": {
        "colab": {
          "base_uri": "https://localhost:8080/"
        },
        "id": "tdrHOQOUoyBM",
        "outputId": "62d243ce-a122-4417-8a6a-8fc8c0da5caa"
      },
      "source": [
        "# Let's see what type our data is before we process it\n",
        "type(test_stock_data)"
      ],
      "execution_count": 241,
      "outputs": [
        {
          "output_type": "execute_result",
          "data": {
            "text/plain": [
              "pandas.core.frame.DataFrame"
            ]
          },
          "metadata": {},
          "execution_count": 241
        }
      ]
    },
    {
      "cell_type": "code",
      "metadata": {
        "colab": {
          "base_uri": "https://localhost:8080/"
        },
        "id": "QVHV7femo8EJ",
        "outputId": "0781fa24-2c1c-460e-cb4f-58e3e28aa784"
      },
      "source": [
        "# let's see the shape of our data before we process it\n",
        "# We have (7 = columns) and (44 = rows) \n",
        "test_stock_data.shape"
      ],
      "execution_count": 242,
      "outputs": [
        {
          "output_type": "execute_result",
          "data": {
            "text/plain": [
              "(5, 7)"
            ]
          },
          "metadata": {},
          "execution_count": 242
        }
      ]
    },
    {
      "cell_type": "code",
      "metadata": {
        "id": "0KgYeFE_UQp0"
      },
      "source": [
        "# Let's process our test data getting only the `high prices`  \n",
        "test_stock_data_processed = test_stock_data.iloc[:, 1:2].values"
      ],
      "execution_count": 339,
      "outputs": []
    },
    {
      "cell_type": "code",
      "metadata": {
        "colab": {
          "base_uri": "https://localhost:8080/"
        },
        "id": "rqV7VY_spGN3",
        "outputId": "862a2e19-6306-4702-ff5f-0f3988503456"
      },
      "source": [
        "# Let's see our processed test data\n",
        "# Notice it is now an array of closing price only\n",
        "test_stock_data_processed"
      ],
      "execution_count": 268,
      "outputs": [
        {
          "output_type": "execute_result",
          "data": {
            "text/plain": [
              "array([[233.55000305],\n",
              "       [252.58999634],\n",
              "       [250.8999939 ]])"
            ]
          },
          "metadata": {},
          "execution_count": 268
        }
      ]
    },
    {
      "cell_type": "code",
      "metadata": {
        "colab": {
          "base_uri": "https://localhost:8080/"
        },
        "id": "JtJCI8dBpOP6",
        "outputId": "9e1d6855-1d61-4561-c978-3ad456f4cb3a"
      },
      "source": [
        "# Let's see what type the test data processed data is\n",
        "type(test_stock_data_processed)"
      ],
      "execution_count": 245,
      "outputs": [
        {
          "output_type": "execute_result",
          "data": {
            "text/plain": [
              "numpy.ndarray"
            ]
          },
          "metadata": {},
          "execution_count": 245
        }
      ]
    },
    {
      "cell_type": "code",
      "metadata": {
        "colab": {
          "base_uri": "https://localhost:8080/"
        },
        "id": "FnbrvLe_pRPD",
        "outputId": "8a84f588-89ce-4c9e-a931-72daca9cda07"
      },
      "source": [
        "# Let's see the shape of our processed data\n",
        "# Notice we have (1 = column = our stock close price column from our test data) and \n",
        "# (111 = rows = days we have prices for our date range)\n",
        "test_stock_data_processed.shape"
      ],
      "execution_count": 340,
      "outputs": [
        {
          "output_type": "execute_result",
          "data": {
            "text/plain": [
              "(3, 1)"
            ]
          },
          "metadata": {},
          "execution_count": 340
        }
      ]
    },
    {
      "cell_type": "code",
      "metadata": {
        "id": "imMgyiZpUTWx"
      },
      "source": [
        "# We concatenate our training data and our testing data\n",
        "# IOW: we Merge the the training set(high prices) and the test set(high prices) on the 0 axis.\n",
        "all_stock_data = pd.concat((stock_data['High'], test_stock_data['High']), axis = 0)"
      ],
      "execution_count": 341,
      "outputs": []
    },
    {
      "cell_type": "code",
      "metadata": {
        "id": "RL05wEjXkQbo"
      },
      "source": [
        "# these are all done in this one step, but i separate them so that I can understand shape better\n",
        "\n",
        "#inputs = all_stock_data[len(all_stock_data) - len(test_stock_data) - 60:].values\n",
        "#inputs = inputs.reshape(-1,1)\n",
        "#inputs = sc.transform(inputs)"
      ],
      "execution_count": null,
      "outputs": []
    },
    {
      "cell_type": "code",
      "metadata": {
        "id": "4HLKg8i9kSHv"
      },
      "source": [
        "inputs = all_stock_data[len(all_stock_data) - len(test_stock_data) - 13:].values\n"
      ],
      "execution_count": 342,
      "outputs": []
    },
    {
      "cell_type": "code",
      "metadata": {
        "colab": {
          "base_uri": "https://localhost:8080/"
        },
        "id": "PxTaInG7Cv3Z",
        "outputId": "8d6d79d0-542b-4f04-87ae-e2d88d1fb36f"
      },
      "source": [
        "inputs"
      ],
      "execution_count": 249,
      "outputs": [
        {
          "output_type": "execute_result",
          "data": {
            "text/plain": [
              "array([207.19999695, 213.22000122, 212.05999756, 210.63000488,\n",
              "       210.57000732, 209.8999939 , 217.55000305, 219.30999756,\n",
              "       222.91000366, 223.78999329, 224.33000183, 227.11000061,\n",
              "       231.30000305, 233.55000305, 252.58999634, 250.8999939 ,\n",
              "       249.5       , 257.07998657])"
            ]
          },
          "metadata": {},
          "execution_count": 249
        }
      ]
    },
    {
      "cell_type": "code",
      "metadata": {
        "colab": {
          "base_uri": "https://localhost:8080/"
        },
        "id": "I7SlHI9UquNh",
        "outputId": "fd0c9c23-99c9-4935-aa1d-946dda8987c3"
      },
      "source": [
        "# Let's see the shape of our input\n",
        "# Note: the shape remains the same for the reshape and transformation\n",
        "inputs.shape"
      ],
      "execution_count": null,
      "outputs": [
        {
          "output_type": "execute_result",
          "data": {
            "text/plain": [
              "(22,)"
            ]
          },
          "metadata": {},
          "execution_count": 77
        }
      ]
    },
    {
      "cell_type": "code",
      "metadata": {
        "colab": {
          "base_uri": "https://localhost:8080/"
        },
        "id": "49rKPmAOmEab",
        "outputId": "7c4792cb-df9a-4671-9b5b-64fdbbb2ab4c"
      },
      "source": [
        "# Let's see what data is being stored in inputs at this point by doing the next 4 lines of code\n",
        "len(all_stock_data)"
      ],
      "execution_count": null,
      "outputs": [
        {
          "output_type": "execute_result",
          "data": {
            "text/plain": [
              "1278"
            ]
          },
          "metadata": {},
          "execution_count": 37
        }
      ]
    },
    {
      "cell_type": "code",
      "metadata": {
        "colab": {
          "base_uri": "https://localhost:8080/"
        },
        "id": "QMwOi5v9mLpx",
        "outputId": "51d95f9c-2de8-4765-af73-8d6f56e9afd7"
      },
      "source": [
        "len(test_stock_data)"
      ],
      "execution_count": null,
      "outputs": [
        {
          "output_type": "execute_result",
          "data": {
            "text/plain": [
              "9"
            ]
          },
          "metadata": {},
          "execution_count": 38
        }
      ]
    },
    {
      "cell_type": "code",
      "metadata": {
        "colab": {
          "base_uri": "https://localhost:8080/"
        },
        "id": "_Kh9siiOpO0Y",
        "outputId": "cf594923-ea57-4e84-f797-d6642e5d3cb3"
      },
      "source": [
        "# Let's see the inputs at this point\n",
        "inputs"
      ],
      "execution_count": 329,
      "outputs": [
        {
          "output_type": "execute_result",
          "data": {
            "text/plain": [
              "array([207.19999695, 213.22000122, 212.05999756, 210.63000488,\n",
              "       210.57000732, 209.8999939 , 217.55000305, 219.30999756,\n",
              "       222.91000366, 223.78999329, 224.33000183, 227.11000061,\n",
              "       231.30000305, 233.55000305, 252.58999634, 250.8999939 ])"
            ]
          },
          "metadata": {},
          "execution_count": 329
        }
      ]
    },
    {
      "cell_type": "code",
      "metadata": {
        "id": "6UyIWAnsUYJd"
      },
      "source": [
        "# Let's reshape the inputs so we have rows and 1 column\n",
        "inputs = inputs.reshape(-1,1)"
      ],
      "execution_count": 343,
      "outputs": []
    },
    {
      "cell_type": "code",
      "metadata": {
        "colab": {
          "base_uri": "https://localhost:8080/"
        },
        "id": "0hD7QkQvpfqf",
        "outputId": "e4bbed47-066f-458e-9793-7a6d55adc9eb"
      },
      "source": [
        "# Let's see the inputs now that it has been reshaped\n",
        "inputs"
      ],
      "execution_count": null,
      "outputs": [
        {
          "output_type": "execute_result",
          "data": {
            "text/plain": [
              "array([[210.16999817],\n",
              "       [210.66000366],\n",
              "       [208.58999634],\n",
              "       [205.41999817],\n",
              "       [206.47999573],\n",
              "       [207.19999695],\n",
              "       [213.22000122],\n",
              "       [212.05999756],\n",
              "       [210.63000488],\n",
              "       [210.57000732],\n",
              "       [209.8999939 ],\n",
              "       [217.55000305],\n",
              "       [219.30999756],\n",
              "       [222.91000366],\n",
              "       [223.78999329],\n",
              "       [224.33000183],\n",
              "       [227.11000061],\n",
              "       [231.30000305],\n",
              "       [233.55000305],\n",
              "       [252.58999634],\n",
              "       [250.8999939 ],\n",
              "       [249.5       ]])"
            ]
          },
          "metadata": {},
          "execution_count": 42
        }
      ]
    },
    {
      "cell_type": "code",
      "metadata": {
        "id": "DZAkb4p1peLe"
      },
      "source": [
        "# Let's tranform the inputs using MinMaxScaler; which scales features of X according to feature_range which is (0,1)\n",
        "inputs = sc.transform(inputs)"
      ],
      "execution_count": 344,
      "outputs": []
    },
    {
      "cell_type": "code",
      "metadata": {
        "colab": {
          "base_uri": "https://localhost:8080/"
        },
        "id": "_cq0Yi1Np51d",
        "outputId": "04098ebb-f247-4a76-a07c-07b439780f5d"
      },
      "source": [
        "# Let's see the inputs now\n",
        "inputs"
      ],
      "execution_count": null,
      "outputs": [
        {
          "output_type": "execute_result",
          "data": {
            "text/plain": [
              "array([[0.90559449],\n",
              "       [0.90788236],\n",
              "       [0.89821736],\n",
              "       [0.88341643],\n",
              "       [0.88836563],\n",
              "       [0.89172736],\n",
              "       [0.91983516],\n",
              "       [0.91441902],\n",
              "       [0.90774229],\n",
              "       [0.90746216],\n",
              "       [0.90433383],\n",
              "       [0.94005222],\n",
              "       [0.94826974],\n",
              "       [0.96507841],\n",
              "       [0.96918714],\n",
              "       [0.97170847],\n",
              "       [0.98468847],\n",
              "       [1.00425186],\n",
              "       [1.01475726],\n",
              "       [1.10365622],\n",
              "       [1.09576549],\n",
              "       [1.08922883]])"
            ]
          },
          "metadata": {},
          "execution_count": 80
        }
      ]
    },
    {
      "cell_type": "code",
      "metadata": {
        "colab": {
          "base_uri": "https://localhost:8080/"
        },
        "id": "hQlSJjsmr_hu",
        "outputId": "c47ce3e6-ddff-4291-e7e1-6f9f53593330"
      },
      "source": [
        "#Let's see the shape\n",
        "inputs.shape"
      ],
      "execution_count": null,
      "outputs": [
        {
          "output_type": "execute_result",
          "data": {
            "text/plain": [
              "(22, 1)"
            ]
          },
          "metadata": {},
          "execution_count": 59
        }
      ]
    },
    {
      "cell_type": "code",
      "metadata": {
        "id": "sOG0tjEUUcTB"
      },
      "source": [
        "X_test = []\n",
        "for i in range(13, len(inputs)):\n",
        "    X_test.append(inputs[i-13:i, 0])\n",
        "\n",
        "X_test = np.array(X_test)\n",
        "\n",
        "# at this point in the program, X_test.shape =9, 13 (2D tensor)\n",
        "# but we need a 3D tensor, so we need to reshape\n",
        "# reshape(array to be reshaped, new shape)\n",
        "# X_test.shape[0]= 9\n",
        "# X_test.shape[1] = 13\n",
        "# thus, X_test.shape = 9, 13, 1\n",
        "X_test = np.reshape(X_test, (X_test.shape[0], X_test.shape[1], 1))"
      ],
      "execution_count": 345,
      "outputs": []
    },
    {
      "cell_type": "code",
      "metadata": {
        "colab": {
          "base_uri": "https://localhost:8080/"
        },
        "id": "TEJy9JzzsvOJ",
        "outputId": "51774508-59df-4101-d595-9907d0e20501"
      },
      "source": [
        "# Let's see what shape X_test is now that we reshaped it\n",
        "# recall, that our test_stock_data was 111\n",
        "# Thus, we now have a 3D tensor for our test data\n",
        "X_test.shape"
      ],
      "execution_count": 346,
      "outputs": [
        {
          "output_type": "execute_result",
          "data": {
            "text/plain": [
              "(3, 13, 1)"
            ]
          },
          "metadata": {},
          "execution_count": 346
        }
      ]
    },
    {
      "cell_type": "code",
      "metadata": {
        "id": "2hi5U3OGVu1n"
      },
      "source": [
        "# Loads the weights\n",
        "#model.load_weights(checkpoint_path)"
      ],
      "execution_count": null,
      "outputs": []
    },
    {
      "cell_type": "code",
      "metadata": {
        "colab": {
          "base_uri": "https://localhost:8080/"
        },
        "id": "ZQ9c4nYwUiBF",
        "outputId": "038dd72d-3468-4382-d068-56b5d8c458b8"
      },
      "source": [
        "# Let's test the LSTM Model with the test dataset (= high prices, from which we created a 3D tensor called X_test)\n",
        "#predicted_stock_price = model.predict(X_test) # use this when using original model\n",
        "predicted_stock_price = reconstructed_model.predict(X_test) # use this when using reconstructed model\n",
        "\n",
        "# Let's see the predictions in their transformed state of range (0,1)\n",
        "predicted_stock_price"
      ],
      "execution_count": 347,
      "outputs": [
        {
          "output_type": "execute_result",
          "data": {
            "text/plain": [
              "array([[0.9960714 , 0.99458283, 0.98712337, 0.97886074, 0.9788207 ],\n",
              "       [1.001179  , 0.9994678 , 0.99175566, 0.9831414 , 0.9827106 ],\n",
              "       [1.0723026 , 1.0690181 , 1.0597117 , 1.0498476 , 1.0492879 ]],\n",
              "      dtype=float32)"
            ]
          },
          "metadata": {},
          "execution_count": 347
        }
      ]
    },
    {
      "cell_type": "code",
      "metadata": {
        "colab": {
          "base_uri": "https://localhost:8080/"
        },
        "id": "B9mtYgZUt4sg",
        "outputId": "980d59f8-4fe5-4304-9da0-135a50d87808"
      },
      "source": [
        "# Let's inverse_transform from MinMax to the stock prices values\n",
        "# this inverses transformation so that we can see the actual predicted prices\n",
        "predicted_stock_price = sc.inverse_transform(predicted_stock_price)\n",
        "predicted_stock_price"
      ],
      "execution_count": 348,
      "outputs": [
        {
          "output_type": "execute_result",
          "data": {
            "text/plain": [
              "array([[230.45503, 230.13486, 228.53041, 226.75323, 226.74461],\n",
              "       [231.55359, 231.18555, 229.52676, 227.67395, 227.58128],\n",
              "       [246.85129, 246.14485, 244.14317, 242.02153, 241.90115]],\n",
              "      dtype=float32)"
            ]
          },
          "metadata": {},
          "execution_count": 348
        }
      ]
    },
    {
      "cell_type": "markdown",
      "metadata": {
        "id": "pi-7nJEhub7J"
      },
      "source": [
        "# **Let's Plot our test results**"
      ]
    },
    {
      "cell_type": "code",
      "metadata": {
        "colab": {
          "base_uri": "https://localhost:8080/",
          "height": 404
        },
        "id": "uDFiOWTBUkL2",
        "outputId": "93c696d4-2546-4d62-c031-71b7b386d63c"
      },
      "source": [
        "plt.figure(figsize=(10,6))  \n",
        "plt.plot(test_stock_data_processed, color='blue', label='Actual Nvidia Stock Price')  \n",
        "plt.plot(predicted_stock_price, color='red', label='Predicted Nvidia Stock Price')  \n",
        "plt.title('Nvidia Stock Price Prediction')  \n",
        "plt.xlabel('Date')  \n",
        "plt.ylabel('Nvidia Stock Price')  \n",
        "plt.legend()  \n",
        "plt.show()  "
      ],
      "execution_count": 349,
      "outputs": [
        {
          "output_type": "display_data",
          "data": {
            "image/png": "[encoded data removed]",
            "text/plain": [
              "<Figure size 720x432 with 1 Axes>"
            ]
          },
          "metadata": {
            "needs_background": "light"
          }
        }
      ]
    },
    {
      "cell_type": "markdown",
      "metadata": {
        "id": "sqXYC6J4ul2C"
      },
      "source": [
        "# **Let's compare the \"true high prices\" vs \"predicted prices\" in a df**"
      ]
    },
    {
      "cell_type": "code",
      "metadata": {
        "colab": {
          "base_uri": "https://localhost:8080/"
        },
        "id": "NEFM6gLXmdm1",
        "outputId": "7cd016df-40dc-44a1-e769-ce0778b225f5"
      },
      "source": [
        "# Let's see the Model's predicted stock prices\n",
        "predicted_stock_price"
      ],
      "execution_count": 350,
      "outputs": [
        {
          "output_type": "execute_result",
          "data": {
            "text/plain": [
              "array([[230.45503, 230.13486, 228.53041, 226.75323, 226.74461],\n",
              "       [231.55359, 231.18555, 229.52676, 227.67395, 227.58128],\n",
              "       [246.85129, 246.14485, 244.14317, 242.02153, 241.90115]],\n",
              "      dtype=float32)"
            ]
          },
          "metadata": {},
          "execution_count": 350
        }
      ]
    },
    {
      "cell_type": "code",
      "metadata": {
        "colab": {
          "base_uri": "https://localhost:8080/"
        },
        "id": "Drv4EbsJm1t0",
        "outputId": "0d316327-526d-4267-82b5-a558dd3b93ca"
      },
      "source": [
        "# Let's see what type of data the predicted stock price type is\n",
        "type(predicted_stock_price)"
      ],
      "execution_count": 351,
      "outputs": [
        {
          "output_type": "execute_result",
          "data": {
            "text/plain": [
              "numpy.ndarray"
            ]
          },
          "metadata": {},
          "execution_count": 351
        }
      ]
    },
    {
      "cell_type": "code",
      "metadata": {
        "id": "yf9urAhCqnFv"
      },
      "source": [
        "# Let's reshape our predicted stock price and store it in another variable just in case it is shaped wrong\n",
        "predicted_prices= predicted_stock_price.reshape(-1,1)"
      ],
      "execution_count": 352,
      "outputs": []
    },
    {
      "cell_type": "code",
      "metadata": {
        "colab": {
          "base_uri": "https://localhost:8080/"
        },
        "id": "Ef5HTq9FrE0A",
        "outputId": "c48abf0b-c450-43aa-f116-019f8dd93641"
      },
      "source": [
        "# Let's see the predicted_prices now\n",
        "predicted_prices"
      ],
      "execution_count": 353,
      "outputs": [
        {
          "output_type": "execute_result",
          "data": {
            "text/plain": [
              "array([[230.45503],\n",
              "       [230.13486],\n",
              "       [228.53041],\n",
              "       [226.75323],\n",
              "       [226.74461],\n",
              "       [231.55359],\n",
              "       [231.18555],\n",
              "       [229.52676],\n",
              "       [227.67395],\n",
              "       [227.58128],\n",
              "       [246.85129],\n",
              "       [246.14485],\n",
              "       [244.14317],\n",
              "       [242.02153],\n",
              "       [241.90115]], dtype=float32)"
            ]
          },
          "metadata": {},
          "execution_count": 353
        }
      ]
    },
    {
      "cell_type": "code",
      "metadata": {
        "id": "WrJpaNvsm4jd"
      },
      "source": [
        "# Let's convert predicted_prices array above to a df and call it prediction and create a column titled \"Predicted Price\"\n",
        "prediction = pd.DataFrame(predicted_prices, columns = ['Predicted Price'])\n"
      ],
      "execution_count": 354,
      "outputs": []
    },
    {
      "cell_type": "code",
      "metadata": {
        "colab": {
          "base_uri": "https://localhost:8080/",
          "height": 518
        },
        "id": "wXCpud73w4U6",
        "outputId": "c86e46d8-d477-47f2-c8b6-8df61d307aa5"
      },
      "source": [
        "# Let's see our prediction dataframe\n",
        "prediction"
      ],
      "execution_count": 355,
      "outputs": [
        {
          "output_type": "execute_result",
          "data": {
            "text/html": [
              "<div>\n",
              "<style scoped>\n",
              "    .dataframe tbody tr th:only-of-type {\n",
              "        vertical-align: middle;\n",
              "    }\n",
              "\n",
              "    .dataframe tbody tr th {\n",
              "        vertical-align: top;\n",
              "    }\n",
              "\n",
              "    .dataframe thead th {\n",
              "        text-align: right;\n",
              "    }\n",
              "</style>\n",
              "<table border=\"1\" class=\"dataframe\">\n",
              "  <thead>\n",
              "    <tr style=\"text-align: right;\">\n",
              "      <th></th>\n",
              "      <th>Predicted Price</th>\n",
              "    </tr>\n",
              "  </thead>\n",
              "  <tbody>\n",
              "    <tr>\n",
              "      <th>0</th>\n",
              "      <td>230.455032</td>\n",
              "    </tr>\n",
              "    <tr>\n",
              "      <th>1</th>\n",
              "      <td>230.134857</td>\n",
              "    </tr>\n",
              "    <tr>\n",
              "      <th>2</th>\n",
              "      <td>228.530411</td>\n",
              "    </tr>\n",
              "    <tr>\n",
              "      <th>3</th>\n",
              "      <td>226.753235</td>\n",
              "    </tr>\n",
              "    <tr>\n",
              "      <th>4</th>\n",
              "      <td>226.744614</td>\n",
              "    </tr>\n",
              "    <tr>\n",
              "      <th>5</th>\n",
              "      <td>231.553589</td>\n",
              "    </tr>\n",
              "    <tr>\n",
              "      <th>6</th>\n",
              "      <td>231.185547</td>\n",
              "    </tr>\n",
              "    <tr>\n",
              "      <th>7</th>\n",
              "      <td>229.526764</td>\n",
              "    </tr>\n",
              "    <tr>\n",
              "      <th>8</th>\n",
              "      <td>227.673950</td>\n",
              "    </tr>\n",
              "    <tr>\n",
              "      <th>9</th>\n",
              "      <td>227.581284</td>\n",
              "    </tr>\n",
              "    <tr>\n",
              "      <th>10</th>\n",
              "      <td>246.851288</td>\n",
              "    </tr>\n",
              "    <tr>\n",
              "      <th>11</th>\n",
              "      <td>246.144852</td>\n",
              "    </tr>\n",
              "    <tr>\n",
              "      <th>12</th>\n",
              "      <td>244.143173</td>\n",
              "    </tr>\n",
              "    <tr>\n",
              "      <th>13</th>\n",
              "      <td>242.021530</td>\n",
              "    </tr>\n",
              "    <tr>\n",
              "      <th>14</th>\n",
              "      <td>241.901154</td>\n",
              "    </tr>\n",
              "  </tbody>\n",
              "</table>\n",
              "</div>"
            ],
            "text/plain": [
              "    Predicted Price\n",
              "0        230.455032\n",
              "1        230.134857\n",
              "2        228.530411\n",
              "3        226.753235\n",
              "4        226.744614\n",
              "5        231.553589\n",
              "6        231.185547\n",
              "7        229.526764\n",
              "8        227.673950\n",
              "9        227.581284\n",
              "10       246.851288\n",
              "11       246.144852\n",
              "12       244.143173\n",
              "13       242.021530\n",
              "14       241.901154"
            ]
          },
          "metadata": {},
          "execution_count": 355
        }
      ]
    },
    {
      "cell_type": "code",
      "metadata": {
        "colab": {
          "base_uri": "https://localhost:8080/"
        },
        "id": "usUFCbcHlcBy",
        "outputId": "1e5461a4-e582-49be-b8bc-7a1176052f05"
      },
      "source": [
        "# Recall that our test_stock_data_processed is Palantir's closing prices between 2021-8-16 to 2021-08-19\n",
        "# These are the true high prices\n",
        "test_stock_data_processed"
      ],
      "execution_count": 356,
      "outputs": [
        {
          "output_type": "execute_result",
          "data": {
            "text/plain": [
              "array([[233.55000305],\n",
              "       [252.58999634],\n",
              "       [250.8999939 ]])"
            ]
          },
          "metadata": {},
          "execution_count": 356
        }
      ]
    },
    {
      "cell_type": "code",
      "metadata": {
        "id": "GeNdqcAalzIc"
      },
      "source": [
        "# Let's store the test stock data array above as a df and name it closing_prices\n",
        "true_high_closing_prices = pd.DataFrame(test_stock_data_processed, columns = ['Nvidia True Closing Price'])"
      ],
      "execution_count": 357,
      "outputs": []
    },
    {
      "cell_type": "code",
      "metadata": {
        "colab": {
          "base_uri": "https://localhost:8080/",
          "height": 143
        },
        "id": "2nXXaAeGmAu1",
        "outputId": "46094fc5-22aa-4335-c8bc-20edf26849f4"
      },
      "source": [
        "# Let's look at the df\n",
        "true_high_closing_prices"
      ],
      "execution_count": 358,
      "outputs": [
        {
          "output_type": "execute_result",
          "data": {
            "text/html": [
              "<div>\n",
              "<style scoped>\n",
              "    .dataframe tbody tr th:only-of-type {\n",
              "        vertical-align: middle;\n",
              "    }\n",
              "\n",
              "    .dataframe tbody tr th {\n",
              "        vertical-align: top;\n",
              "    }\n",
              "\n",
              "    .dataframe thead th {\n",
              "        text-align: right;\n",
              "    }\n",
              "</style>\n",
              "<table border=\"1\" class=\"dataframe\">\n",
              "  <thead>\n",
              "    <tr style=\"text-align: right;\">\n",
              "      <th></th>\n",
              "      <th>Nvidia True Closing Price</th>\n",
              "    </tr>\n",
              "  </thead>\n",
              "  <tbody>\n",
              "    <tr>\n",
              "      <th>0</th>\n",
              "      <td>233.550003</td>\n",
              "    </tr>\n",
              "    <tr>\n",
              "      <th>1</th>\n",
              "      <td>252.589996</td>\n",
              "    </tr>\n",
              "    <tr>\n",
              "      <th>2</th>\n",
              "      <td>250.899994</td>\n",
              "    </tr>\n",
              "  </tbody>\n",
              "</table>\n",
              "</div>"
            ],
            "text/plain": [
              "   Nvidia True Closing Price\n",
              "0                 233.550003\n",
              "1                 252.589996\n",
              "2                 250.899994"
            ]
          },
          "metadata": {},
          "execution_count": 358
        }
      ]
    },
    {
      "cell_type": "code",
      "metadata": {
        "id": "l5yhC834mEBt"
      },
      "source": [
        "# Let's Join the two DataFrames \n",
        "# we are joing our True prices and predicted prices so we can compare them\n",
        "# see for more detail: https://www.geeksforgeeks.org/how-to-combine-two-dataframe-in-python-pandas/\n",
        "result = pd.concat([true_high_closing_prices, prediction], axis=1, join='inner')\n"
      ],
      "execution_count": 359,
      "outputs": []
    },
    {
      "cell_type": "code",
      "metadata": {
        "colab": {
          "base_uri": "https://localhost:8080/",
          "height": 143
        },
        "id": "Ds277xd_r6WE",
        "outputId": "a20561f6-c9fd-46e7-905c-2e243b35d5ae"
      },
      "source": [
        "# Let's see the combined df\n",
        "result\n"
      ],
      "execution_count": 360,
      "outputs": [
        {
          "output_type": "execute_result",
          "data": {
            "text/html": [
              "<div>\n",
              "<style scoped>\n",
              "    .dataframe tbody tr th:only-of-type {\n",
              "        vertical-align: middle;\n",
              "    }\n",
              "\n",
              "    .dataframe tbody tr th {\n",
              "        vertical-align: top;\n",
              "    }\n",
              "\n",
              "    .dataframe thead th {\n",
              "        text-align: right;\n",
              "    }\n",
              "</style>\n",
              "<table border=\"1\" class=\"dataframe\">\n",
              "  <thead>\n",
              "    <tr style=\"text-align: right;\">\n",
              "      <th></th>\n",
              "      <th>Nvidia True Closing Price</th>\n",
              "      <th>Predicted Price</th>\n",
              "    </tr>\n",
              "  </thead>\n",
              "  <tbody>\n",
              "    <tr>\n",
              "      <th>0</th>\n",
              "      <td>233.550003</td>\n",
              "      <td>230.455032</td>\n",
              "    </tr>\n",
              "    <tr>\n",
              "      <th>1</th>\n",
              "      <td>252.589996</td>\n",
              "      <td>230.134857</td>\n",
              "    </tr>\n",
              "    <tr>\n",
              "      <th>2</th>\n",
              "      <td>250.899994</td>\n",
              "      <td>228.530411</td>\n",
              "    </tr>\n",
              "  </tbody>\n",
              "</table>\n",
              "</div>"
            ],
            "text/plain": [
              "   Nvidia True Closing Price  Predicted Price\n",
              "0                 233.550003       230.455032\n",
              "1                 252.589996       230.134857\n",
              "2                 250.899994       228.530411"
            ]
          },
          "metadata": {},
          "execution_count": 360
        }
      ]
    },
    {
      "cell_type": "code",
      "metadata": {
        "id": "3sEUL7a2yz4F"
      },
      "source": [
        "# Let's add another column called \"Val_Diff\" to our resulft df that takes the difference \n",
        "# between the first column called \"Palantri True Closing Price\" and the second column called \"Predicted Price\"\n",
        "result['Val_Diff'] = result['Nvidia True Closing Price'] - result['Predicted Price']"
      ],
      "execution_count": 361,
      "outputs": []
    },
    {
      "cell_type": "code",
      "metadata": {
        "colab": {
          "base_uri": "https://localhost:8080/",
          "height": 143
        },
        "id": "sfIzvhSiy7l3",
        "outputId": "507cb0e4-d6f7-4175-de35-8c03207fe8fd"
      },
      "source": [
        "# Let's see how result df looks like now with the new column that calculates the difference\n",
        "result"
      ],
      "execution_count": 362,
      "outputs": [
        {
          "output_type": "execute_result",
          "data": {
            "text/html": [
              "<div>\n",
              "<style scoped>\n",
              "    .dataframe tbody tr th:only-of-type {\n",
              "        vertical-align: middle;\n",
              "    }\n",
              "\n",
              "    .dataframe tbody tr th {\n",
              "        vertical-align: top;\n",
              "    }\n",
              "\n",
              "    .dataframe thead th {\n",
              "        text-align: right;\n",
              "    }\n",
              "</style>\n",
              "<table border=\"1\" class=\"dataframe\">\n",
              "  <thead>\n",
              "    <tr style=\"text-align: right;\">\n",
              "      <th></th>\n",
              "      <th>Nvidia True Closing Price</th>\n",
              "      <th>Predicted Price</th>\n",
              "      <th>Val_Diff</th>\n",
              "    </tr>\n",
              "  </thead>\n",
              "  <tbody>\n",
              "    <tr>\n",
              "      <th>0</th>\n",
              "      <td>233.550003</td>\n",
              "      <td>230.455032</td>\n",
              "      <td>3.094971</td>\n",
              "    </tr>\n",
              "    <tr>\n",
              "      <th>1</th>\n",
              "      <td>252.589996</td>\n",
              "      <td>230.134857</td>\n",
              "      <td>22.455139</td>\n",
              "    </tr>\n",
              "    <tr>\n",
              "      <th>2</th>\n",
              "      <td>250.899994</td>\n",
              "      <td>228.530411</td>\n",
              "      <td>22.369583</td>\n",
              "    </tr>\n",
              "  </tbody>\n",
              "</table>\n",
              "</div>"
            ],
            "text/plain": [
              "   Nvidia True Closing Price  Predicted Price   Val_Diff\n",
              "0                 233.550003       230.455032   3.094971\n",
              "1                 252.589996       230.134857  22.455139\n",
              "2                 250.899994       228.530411  22.369583"
            ]
          },
          "metadata": {},
          "execution_count": 362
        }
      ]
    },
    {
      "cell_type": "code",
      "metadata": {
        "id": "Qn4JxqK91y1E"
      },
      "source": [
        "# Let's store the results of this test to csv \n",
        "result.to_csv('/content/drive/MyDrive/Nvidia_Aug_to_Aug_test_result_Dense5_TrainingDateStart_Epoch500_Batch5.csv')\n"
      ],
      "execution_count": null,
      "outputs": []
    },
    {
      "cell_type": "markdown",
      "metadata": {
        "id": "pq7wZGGWRiXt"
      },
      "source": [
        "#**What If I want to predict prices for the next 5 days?**\n",
        "\n",
        "See: https://thinkingneuron.com/predicting-stock-prices-using-deep-learning-lstm-model-in-python/\n",
        "\n",
        "The model which we have built above uses the last 10 days prices and predicts the next day’s price because we have trained our model with many past examples of the same granularity as shown below\n",
        "\n",
        "`last 35 days prices–> 11th day price`\n",
        "\n",
        "Now if we want to predict the next 5 days or next 20 days prices, then we need to train the model with similar examples from the past like shown below\n",
        "\n",
        "`last 35 days prices–> Next 5 days prices`\n",
        "\n",
        "This is also known as **Multi-Step time series prediction**, where we predict multiple time steps ahead.\n",
        "\n",
        "To achieve this, it will require small modifications in the data preparation step and in the LSTM model both.\n",
        "\n",
        "However, keep in mind, the further you predict, the lesser accurate you might be, because stock prices are volatile and no one can know what is going to happen after 35 days! What kind of news will come? which might affect the prices of this stock!\n",
        "\n",
        "Hence, it is recommended to predict for as less time steps as possible, for example next 2 days or next 5 days at max.\n",
        "\n",
        "\n",
        "\n",
        "---\n",
        "\n",
        "#**Data Preparation for Multi Step LSTM**\n",
        "\n",
        "I am showing how to prepare the data for predicting next 5 days. The same code can be easily modified to predict next 10 days or 35 days as well.\n",
        "\n",
        "\n"
      ]
    },
    {
      "cell_type": "code",
      "metadata": {
        "colab": {
          "base_uri": "https://localhost:8080/"
        },
        "id": "asfOBDWnZ0ix",
        "outputId": "c1307f32-8298-42c1-8135-1ab02f2c7f8f"
      },
      "source": [
        "# Considering the Full Data again which we extracted above\n",
        "# Printing the last 10 values\n",
        "FullData=test_stock_data[['Close']].values\n",
        "print('Original Prices')\n",
        "print(FullData[-13:])\n",
        " \n",
        "print('###################')\n",
        " \n",
        "# Printing last 10 values of the scaled data which we have created above for the last model\n",
        "# Here I am changing the shape of the data to one dimensional array because\n",
        "# for Multi step data preparation we need to X input in this fashion\n",
        "X=sc.transform(FullData)\n",
        "X=X.reshape(X.shape[0],)\n",
        "print('Scaled Prices')\n",
        "print(X[-10:])"
      ],
      "execution_count": null,
      "outputs": [
        {
          "output_type": "stream",
          "name": "stdout",
          "text": [
            "Original Prices\n",
            "[[222.22000122]\n",
            " [222.8999939 ]\n",
            " [221.02999878]\n",
            " [226.91999817]\n",
            " [227.25999451]\n",
            " [231.66000366]\n",
            " [247.16999817]\n",
            " [244.50999451]\n",
            " [247.40939331]]\n",
            "###################\n",
            "Scaled Prices\n",
            "[0.96185674 0.96503167 0.95630054 0.98380133 0.9853888  1.00593273\n",
            " 1.0783499  1.06593017 1.07946765]\n"
          ]
        }
      ]
    },
    {
      "cell_type": "markdown",
      "metadata": {
        "id": "IdubhbdTkAS-"
      },
      "source": [
        "#**Predicting Tomorrow**"
      ]
    },
    {
      "cell_type": "code",
      "metadata": {
        "colab": {
          "base_uri": "https://localhost:8080/"
        },
        "id": "YO9zHcvpkKBG",
        "outputId": "e1edc0d2-6a22-4bfc-d6d9-7155290e8d4f"
      },
      "source": [
        "# Normalizing the data just like we did for training the model\n",
        "FullData = all_stock_data.values\n",
        "Last13Days = FullData[-13:]\n",
        "Last13Days=sc.transform(Last13Days.reshape(-1,1))\n",
        " \n",
        "# Changing the shape of the data to 3D\n",
        "# Choosing TimeSteps as 10 because we have used the same for training\n",
        "NumSamples=1\n",
        "TimeSteps=13\n",
        "NumFeatures=1\n",
        "Last13Days=Last13Days.reshape(NumSamples,TimeSteps,NumFeatures)\n",
        " \n",
        "#############################\n",
        " \n",
        "# Making predictions on data\n",
        "predicted_Price = reconstructed_model.predict(Last13Days)\n",
        "predicted_Price = sc.inverse_transform(predicted_Price)\n",
        "predicted_Price\n"
      ],
      "execution_count": 363,
      "outputs": [
        {
          "output_type": "execute_result",
          "data": {
            "text/plain": [
              "array([[240.82777, 240.02776, 237.94048, 235.6533 , 235.20699]],\n",
              "      dtype=float32)"
            ]
          },
          "metadata": {},
          "execution_count": 363
        }
      ]
    },
    {
      "cell_type": "markdown",
      "metadata": {
        "id": "PIWAOZGV3fky"
      },
      "source": [
        "# Predicting the Next 5 Days **High** price based on the high prices of the last 13 days\n"
      ]
    },
    {
      "cell_type": "code",
      "metadata": {
        "colab": {
          "base_uri": "https://localhost:8080/"
        },
        "id": "EsqIXbu7kmc3",
        "outputId": "c4a54de5-46ee-44cf-a10c-2f5f29e8fa12"
      },
      "source": [
        "#=========================================================================\n",
        "# Use this if test data is greater than 13 datapoints\n",
        "\n",
        "#FullData = test_stock_data[['High']].values\n",
        "\n",
        "#=========================================================================\n",
        "# Use this if test data is less than 13 datapoints\n",
        "\n",
        "# Since test_stock_data only has less than 13 datapoints (rows) in it, we don't\n",
        "# have enough data to get the last 13 days worth of prices;\n",
        "# therefore, we will have to use the all_stock_data which hold the \n",
        "# training dataset and the test dataset\n",
        "\n",
        "# Again, since testing data is small, this is how we will actually do it\n",
        "# use line immediately below if we have ran a test first and \n",
        "# variable all_stock_data had been created(=a concatenation of training and test data), \n",
        "FullData = all_stock_data.values \n",
        "\n",
        "#===========================================================================\n",
        "# Use this of we did not run a test at all\n",
        "\n",
        "# Since we did not run a test at all, we don't have the variable all_stock_data.values, \n",
        "# use this line instead to get the high values of the stock_data which \n",
        "# only contains the training data\n",
        "#FullData=stock_data[['High']].values\n",
        "#=====================================================================\n",
        "\n",
        "# the rest is fine\n",
        "Last13Days = FullData[-13:]\n",
        "Last13Days\n",
        "\n",
        "# Normalizing the data just like we did for training the model\n",
        "# Reshaping the data to (-1,1) because its a single entry\n",
        "Last13Days = Last13Days.reshape(-1, 1)\n",
        "\n",
        "# Scaling the data on the same level on which model was trained\n",
        "X_test = sc.transform(Last13Days)\n",
        "\n",
        "# or we could have done it line so, 2 steps in 1\n",
        "#Last13Days=sc.transform(Last13Days.reshape(-1,1))\n",
        "  \n",
        "NumberofSamples = 1\n",
        "\n",
        "# Choosing TimeSteps as 13 because we have used the same for training\n",
        "# notice that currently X_test.shape = (13, 1)\n",
        "# 13 rows and 1 column\n",
        "TimeSteps = X_test.shape[0] # =13\n",
        "NumberofFeatures = X_test.shape[1] # =1\n",
        "\n",
        "# Reshaping the data as 3D input / Changing the shape of the data to 3D\n",
        "X_test = X_test.reshape(NumberofSamples, TimeSteps, NumberofFeatures) # now that we reshaped it, X_test.shape = (1, 13, 1)\n",
        " \n",
        "# Generating the predictions for next 5 days\n",
        "Next5DaysUsingLast13 = model.predict(X_test) # use this when using the final model rather than the reconstructed one\n",
        "#Next5DaysUsingLast13 = reconstructed_model.predict(X_test) # use this when using the reconstructed model\n",
        "\n",
        "# Generating the predicted prices in original scale\n",
        "Next5DaysUsingLast13 = sc.inverse_transform(Next5DaysUsingLast13)\n",
        "\n",
        "# Let's see the array of the predicted prices for the next 5 days\n",
        "Next5DaysUsingLast13"
      ],
      "execution_count": 291,
      "outputs": [
        {
          "output_type": "execute_result",
          "data": {
            "text/plain": [
              "array([[241.9308 , 241.01141, 239.37735, 237.96391, 239.33977]],\n",
              "      dtype=float32)"
            ]
          },
          "metadata": {},
          "execution_count": 291
        }
      ]
    },
    {
      "cell_type": "code",
      "metadata": {
        "id": "vRYT3TP3j8Dz"
      },
      "source": [
        "# Making predictions on test data\n",
        "Last10DaysPrices=array([1376.2, 1371.75,1387.15,1370.5 ,1344.95, \n",
        "                   1312.05, 1316.65, 1339.45, 1339.7 ,1340.85])\n",
        " \n",
        "# Reshaping the data to (-1,1 )because its a single entry\n",
        "Last10DaysPrices=Last10DaysPrices.reshape(-1, 1)\n",
        " \n",
        "# Scaling the data on the same level on which model was trained\n",
        "X_test=DataScaler.transform(Last10DaysPrices)\n",
        " \n",
        "NumberofSamples=1\n",
        "TimeSteps=X_test.shape[0]\n",
        "NumberofFeatures=X_test.shape[1]\n",
        "# Reshaping the data as 3D input\n",
        "X_test=X_test.reshape(NumberofSamples,TimeSteps,NumberofFeatures)\n",
        " \n",
        "# Generating the predictions for next 5 days\n",
        "Next5DaysPrice = regressor.predict(X_test)\n",
        " \n",
        "# Generating the prices in original scale\n",
        "Next5DaysPrice = DataScaler.inverse_transform(Next5DaysPrice)\n",
        "Next5DaysPrice"
      ],
      "execution_count": null,
      "outputs": []
    },
    {
      "cell_type": "code",
      "metadata": {
        "colab": {
          "base_uri": "https://localhost:8080/"
        },
        "id": "kcM1Kj4R7y-y",
        "outputId": "b35fee51-a34d-4b99-9a94-c1107fac2f7d"
      },
      "source": [
        "Last13Days"
      ],
      "execution_count": null,
      "outputs": [
        {
          "data": {
            "text/plain": [
              "array([[222.77000427],\n",
              "       [223.21000671],\n",
              "       [214.33000183],\n",
              "       [214.25      ],\n",
              "       [219.6000061 ],\n",
              "       [225.3500061 ],\n",
              "       [221.49000549],\n",
              "       [217.99000549],\n",
              "       [214.19000244],\n",
              "       [210.16999817],\n",
              "       [210.66000366],\n",
              "       [208.58999634],\n",
              "       [205.41999817],\n",
              "       [206.47999573],\n",
              "       [207.19999695],\n",
              "       [213.22000122],\n",
              "       [212.05999756]])"
            ]
          },
          "execution_count": 58,
          "metadata": {},
          "output_type": "execute_result"
        }
      ]
    },
    {
      "cell_type": "code",
      "metadata": {
        "colab": {
          "base_uri": "https://localhost:8080/"
        },
        "id": "kvsWAOZEvAj3",
        "outputId": "34d45d5b-c3dd-4fc4-9d50-f5115a54e6cf"
      },
      "source": [
        "# this demonstrates how test dataset does not have enough datapoints; \n",
        "# hence the need to use the all dataset\n",
        "# Let's see the dates and prices for the last 13 days\n",
        "get_all_high_prices = test_stock_data['High']\n",
        "get_last_13 = get_all_high_prices[-4:]\n",
        "print(get_last_13)"
      ],
      "execution_count": null,
      "outputs": [
        {
          "name": "stdout",
          "output_type": "stream",
          "text": [
            "Date\n",
            "2021-10-05    206.479996\n",
            "2021-10-06    207.199997\n",
            "2021-10-07    213.220001\n",
            "2021-10-08    212.059998\n",
            "Name: High, dtype: float64\n"
          ]
        }
      ]
    },
    {
      "cell_type": "code",
      "metadata": {
        "colab": {
          "base_uri": "https://localhost:8080/"
        },
        "id": "-EOtKQaFROJt",
        "outputId": "8a063fd1-4d68-431b-97aa-c3ef7801a28b"
      },
      "source": [
        "NumberofFeatures"
      ],
      "execution_count": null,
      "outputs": [
        {
          "data": {
            "text/plain": [
              "1"
            ]
          },
          "execution_count": 62,
          "metadata": {},
          "output_type": "execute_result"
        }
      ]
    },
    {
      "cell_type": "code",
      "metadata": {
        "colab": {
          "base_uri": "https://localhost:8080/",
          "height": 376
        },
        "id": "otoQtZvdmlKb",
        "outputId": "e09ef52d-8ba3-4760-eae5-278ee3fe310e"
      },
      "source": [
        "columns= ['Predicted Prices for Next 5 days using last 13']\n",
        "predicted_prices = pd.DataFrame(np.reshape(Next5DaysUsingLast13, (5,len(Next5DaysUsingLast13))),columns=columns)"
      ],
      "execution_count": null,
      "outputs": [
        {
          "ename": "ValueError",
          "evalue": "ignored",
          "output_type": "error",
          "traceback": [
            "\u001b[0;31m---------------------------------------------------------------------------\u001b[0m",
            "\u001b[0;31mValueError\u001b[0m                                Traceback (most recent call last)",
            "\u001b[0;32m<ipython-input-60-764fe722d102>\u001b[0m in \u001b[0;36m<module>\u001b[0;34m()\u001b[0m\n\u001b[1;32m      1\u001b[0m \u001b[0mcolumns\u001b[0m\u001b[0;34m=\u001b[0m \u001b[0;34m[\u001b[0m\u001b[0;34m'Predicted Prices for Next 5 days using last 13'\u001b[0m\u001b[0;34m]\u001b[0m\u001b[0;34m\u001b[0m\u001b[0;34m\u001b[0m\u001b[0m\n\u001b[0;32m----> 2\u001b[0;31m \u001b[0mpredicted_prices\u001b[0m \u001b[0;34m=\u001b[0m \u001b[0mpd\u001b[0m\u001b[0;34m.\u001b[0m\u001b[0mDataFrame\u001b[0m\u001b[0;34m(\u001b[0m\u001b[0mnp\u001b[0m\u001b[0;34m.\u001b[0m\u001b[0mreshape\u001b[0m\u001b[0;34m(\u001b[0m\u001b[0mNext5DaysUsingLast13\u001b[0m\u001b[0;34m,\u001b[0m \u001b[0;34m(\u001b[0m\u001b[0;36m5\u001b[0m\u001b[0;34m,\u001b[0m\u001b[0mlen\u001b[0m\u001b[0;34m(\u001b[0m\u001b[0mNext5DaysUsingLast13\u001b[0m\u001b[0;34m)\u001b[0m\u001b[0;34m)\u001b[0m\u001b[0;34m)\u001b[0m\u001b[0;34m,\u001b[0m\u001b[0mcolumns\u001b[0m\u001b[0;34m=\u001b[0m\u001b[0mcolumns\u001b[0m\u001b[0;34m)\u001b[0m\u001b[0;34m\u001b[0m\u001b[0;34m\u001b[0m\u001b[0m\n\u001b[0m",
            "\u001b[0;32m<__array_function__ internals>\u001b[0m in \u001b[0;36mreshape\u001b[0;34m(*args, **kwargs)\u001b[0m\n",
            "\u001b[0;32m/usr/local/lib/python3.7/dist-packages/numpy/core/fromnumeric.py\u001b[0m in \u001b[0;36mreshape\u001b[0;34m(a, newshape, order)\u001b[0m\n\u001b[1;32m    297\u001b[0m            [5, 6]])\n\u001b[1;32m    298\u001b[0m     \"\"\"\n\u001b[0;32m--> 299\u001b[0;31m     \u001b[0;32mreturn\u001b[0m \u001b[0m_wrapfunc\u001b[0m\u001b[0;34m(\u001b[0m\u001b[0ma\u001b[0m\u001b[0;34m,\u001b[0m \u001b[0;34m'reshape'\u001b[0m\u001b[0;34m,\u001b[0m \u001b[0mnewshape\u001b[0m\u001b[0;34m,\u001b[0m \u001b[0morder\u001b[0m\u001b[0;34m=\u001b[0m\u001b[0morder\u001b[0m\u001b[0;34m)\u001b[0m\u001b[0;34m\u001b[0m\u001b[0;34m\u001b[0m\u001b[0m\n\u001b[0m\u001b[1;32m    300\u001b[0m \u001b[0;34m\u001b[0m\u001b[0m\n\u001b[1;32m    301\u001b[0m \u001b[0;34m\u001b[0m\u001b[0m\n",
            "\u001b[0;32m/usr/local/lib/python3.7/dist-packages/numpy/core/fromnumeric.py\u001b[0m in \u001b[0;36m_wrapfunc\u001b[0;34m(obj, method, *args, **kwds)\u001b[0m\n\u001b[1;32m     56\u001b[0m \u001b[0;34m\u001b[0m\u001b[0m\n\u001b[1;32m     57\u001b[0m     \u001b[0;32mtry\u001b[0m\u001b[0;34m:\u001b[0m\u001b[0;34m\u001b[0m\u001b[0;34m\u001b[0m\u001b[0m\n\u001b[0;32m---> 58\u001b[0;31m         \u001b[0;32mreturn\u001b[0m \u001b[0mbound\u001b[0m\u001b[0;34m(\u001b[0m\u001b[0;34m*\u001b[0m\u001b[0margs\u001b[0m\u001b[0;34m,\u001b[0m \u001b[0;34m**\u001b[0m\u001b[0mkwds\u001b[0m\u001b[0;34m)\u001b[0m\u001b[0;34m\u001b[0m\u001b[0;34m\u001b[0m\u001b[0m\n\u001b[0m\u001b[1;32m     59\u001b[0m     \u001b[0;32mexcept\u001b[0m \u001b[0mTypeError\u001b[0m\u001b[0;34m:\u001b[0m\u001b[0;34m\u001b[0m\u001b[0;34m\u001b[0m\u001b[0m\n\u001b[1;32m     60\u001b[0m         \u001b[0;31m# A TypeError occurs if the object does have such a method in its\u001b[0m\u001b[0;34m\u001b[0m\u001b[0;34m\u001b[0m\u001b[0;34m\u001b[0m\u001b[0m\n",
            "\u001b[0;31mValueError\u001b[0m: cannot reshape array of size 1 into shape (5,1)"
          ]
        }
      ]
    },
    {
      "cell_type": "code",
      "metadata": {
        "colab": {
          "base_uri": "https://localhost:8080/",
          "height": 189
        },
        "id": "TYZmYRMjnqWV",
        "outputId": "3153f52f-80cb-4e18-b6da-dd095cb594b3"
      },
      "source": [
        "# Let's plot our predicted prices\n",
        "predicted_prices"
      ],
      "execution_count": null,
      "outputs": [
        {
          "ename": "NameError",
          "evalue": "ignored",
          "output_type": "error",
          "traceback": [
            "\u001b[0;31m---------------------------------------------------------------------------\u001b[0m",
            "\u001b[0;31mNameError\u001b[0m                                 Traceback (most recent call last)",
            "\u001b[0;32m<ipython-input-59-4315b450384d>\u001b[0m in \u001b[0;36m<module>\u001b[0;34m()\u001b[0m\n\u001b[1;32m      1\u001b[0m \u001b[0;31m# Let's plot our predicted prices\u001b[0m\u001b[0;34m\u001b[0m\u001b[0;34m\u001b[0m\u001b[0;34m\u001b[0m\u001b[0m\n\u001b[0;32m----> 2\u001b[0;31m \u001b[0mpredicted_prices\u001b[0m\u001b[0;34m\u001b[0m\u001b[0;34m\u001b[0m\u001b[0m\n\u001b[0m",
            "\u001b[0;31mNameError\u001b[0m: name 'predicted_prices' is not defined"
          ]
        }
      ]
    },
    {
      "cell_type": "code",
      "metadata": {
        "id": "iwamA4pXDzkh"
      },
      "source": [
        "# Let's convert our prediction to csv if needed\n",
        "predicted_prices.to_csv('/content/drive/MyDrive/Palantir_Aug09_to_Aug13_predictions.csv')"
      ],
      "execution_count": null,
      "outputs": []
    },
    {
      "cell_type": "markdown",
      "metadata": {
        "id": "9biEbhJu_iDb"
      },
      "source": [
        "# Let's get the real high prices for the next 5 days so we can compare them to our predicted prices"
      ]
    },
    {
      "cell_type": "code",
      "metadata": {
        "id": "_4Ui12ZZ_gwj"
      },
      "source": [
        "# real stock prices from 5 days  \n",
        "\n",
        "testing_start_date = '2021-08-14'\n",
        "testing_end_date = '2021-08-21'\n",
        "\n",
        "hum_stock_data= nvidia_stock_prices.history(start=testing_start_date, end=testing_end_date, auto_adjust=True)"
      ],
      "execution_count": null,
      "outputs": []
    },
    {
      "cell_type": "code",
      "metadata": {
        "colab": {
          "base_uri": "https://localhost:8080/",
          "height": 236
        },
        "id": "8vdey1X_AUgg",
        "outputId": "6c398c3c-1b61-4685-b2c8-b94d51e01b21"
      },
      "source": [
        "hum_stock_data"
      ],
      "execution_count": null,
      "outputs": [
        {
          "data": {
            "text/html": [
              "<div>\n",
              "<style scoped>\n",
              "    .dataframe tbody tr th:only-of-type {\n",
              "        vertical-align: middle;\n",
              "    }\n",
              "\n",
              "    .dataframe tbody tr th {\n",
              "        vertical-align: top;\n",
              "    }\n",
              "\n",
              "    .dataframe thead th {\n",
              "        text-align: right;\n",
              "    }\n",
              "</style>\n",
              "<table border=\"1\" class=\"dataframe\">\n",
              "  <thead>\n",
              "    <tr style=\"text-align: right;\">\n",
              "      <th></th>\n",
              "      <th>Open</th>\n",
              "      <th>High</th>\n",
              "      <th>Low</th>\n",
              "      <th>Close</th>\n",
              "      <th>Volume</th>\n",
              "      <th>Dividends</th>\n",
              "      <th>Stock Splits</th>\n",
              "    </tr>\n",
              "    <tr>\n",
              "      <th>Date</th>\n",
              "      <th></th>\n",
              "      <th></th>\n",
              "      <th></th>\n",
              "      <th></th>\n",
              "      <th></th>\n",
              "      <th></th>\n",
              "      <th></th>\n",
              "    </tr>\n",
              "  </thead>\n",
              "  <tbody>\n",
              "    <tr>\n",
              "      <th>2021-08-16</th>\n",
              "      <td>201.350006</td>\n",
              "      <td>202.869995</td>\n",
              "      <td>194.529999</td>\n",
              "      <td>199.500000</td>\n",
              "      <td>21087600</td>\n",
              "      <td>0</td>\n",
              "      <td>0</td>\n",
              "    </tr>\n",
              "    <tr>\n",
              "      <th>2021-08-17</th>\n",
              "      <td>196.850006</td>\n",
              "      <td>197.699997</td>\n",
              "      <td>192.669998</td>\n",
              "      <td>194.580002</td>\n",
              "      <td>20458500</td>\n",
              "      <td>0</td>\n",
              "      <td>0</td>\n",
              "    </tr>\n",
              "    <tr>\n",
              "      <th>2021-08-18</th>\n",
              "      <td>195.000000</td>\n",
              "      <td>196.339996</td>\n",
              "      <td>190.000000</td>\n",
              "      <td>190.399994</td>\n",
              "      <td>28591300</td>\n",
              "      <td>0</td>\n",
              "      <td>0</td>\n",
              "    </tr>\n",
              "    <tr>\n",
              "      <th>2021-08-19</th>\n",
              "      <td>194.940002</td>\n",
              "      <td>204.949997</td>\n",
              "      <td>187.619995</td>\n",
              "      <td>197.979996</td>\n",
              "      <td>76655500</td>\n",
              "      <td>0</td>\n",
              "      <td>0</td>\n",
              "    </tr>\n",
              "    <tr>\n",
              "      <th>2021-08-20</th>\n",
              "      <td>199.910004</td>\n",
              "      <td>208.650604</td>\n",
              "      <td>199.330002</td>\n",
              "      <td>208.160004</td>\n",
              "      <td>67574131</td>\n",
              "      <td>0</td>\n",
              "      <td>0</td>\n",
              "    </tr>\n",
              "  </tbody>\n",
              "</table>\n",
              "</div>"
            ],
            "text/plain": [
              "                  Open        High  ...  Dividends  Stock Splits\n",
              "Date                                ...                         \n",
              "2021-08-16  201.350006  202.869995  ...          0             0\n",
              "2021-08-17  196.850006  197.699997  ...          0             0\n",
              "2021-08-18  195.000000  196.339996  ...          0             0\n",
              "2021-08-19  194.940002  204.949997  ...          0             0\n",
              "2021-08-20  199.910004  208.650604  ...          0             0\n",
              "\n",
              "[5 rows x 7 columns]"
            ]
          },
          "execution_count": 211,
          "metadata": {},
          "output_type": "execute_result"
        }
      ]
    },
    {
      "cell_type": "code",
      "metadata": {
        "id": "cQXz5DpbAb51"
      },
      "source": [
        "real_high = hum_stock_data['High']"
      ],
      "execution_count": null,
      "outputs": []
    },
    {
      "cell_type": "code",
      "metadata": {
        "colab": {
          "base_uri": "https://localhost:8080/"
        },
        "id": "qmNkLUsyAk1k",
        "outputId": "03010820-2e44-4eca-e1c3-128328543ef1"
      },
      "source": [
        "print(real_high)"
      ],
      "execution_count": null,
      "outputs": [
        {
          "name": "stdout",
          "output_type": "stream",
          "text": [
            "Date\n",
            "2021-08-16    202.869995\n",
            "2021-08-17    197.699997\n",
            "2021-08-18    196.339996\n",
            "2021-08-19    204.949997\n",
            "2021-08-20    208.650604\n",
            "Name: High, dtype: float64\n"
          ]
        }
      ]
    },
    {
      "cell_type": "code",
      "metadata": {
        "colab": {
          "base_uri": "https://localhost:8080/"
        },
        "id": "FybJNNXDBVFn",
        "outputId": "0be70fdb-4078-4f20-b6a4-3df1bf2be05a"
      },
      "source": [
        "# Let's get the real high prices into an array of values\n",
        "real_prices_of_future5days_using_last_13= real_high.values\n",
        "real_prices_of_future5days_using_last_13"
      ],
      "execution_count": null,
      "outputs": [
        {
          "data": {
            "text/plain": [
              "array([202.86999512, 197.69999695, 196.33999634, 204.94999695,\n",
              "       208.65060425])"
            ]
          },
          "execution_count": 215,
          "metadata": {},
          "output_type": "execute_result"
        }
      ]
    },
    {
      "cell_type": "code",
      "metadata": {
        "colab": {
          "base_uri": "https://localhost:8080/",
          "height": 205
        },
        "id": "eYH6N_2cAo7Z",
        "outputId": "4278ccff-7635-4ede-d6d4-068ac08680ce"
      },
      "source": [
        "columns=['Actual prices for Next 5 Days using last 13']\n",
        "actual_prices = pd.DataFrame(real_prices_of_future5days_using_last_13, columns=columns)\n",
        "actual_prices"
      ],
      "execution_count": null,
      "outputs": [
        {
          "data": {
            "text/html": [
              "<div>\n",
              "<style scoped>\n",
              "    .dataframe tbody tr th:only-of-type {\n",
              "        vertical-align: middle;\n",
              "    }\n",
              "\n",
              "    .dataframe tbody tr th {\n",
              "        vertical-align: top;\n",
              "    }\n",
              "\n",
              "    .dataframe thead th {\n",
              "        text-align: right;\n",
              "    }\n",
              "</style>\n",
              "<table border=\"1\" class=\"dataframe\">\n",
              "  <thead>\n",
              "    <tr style=\"text-align: right;\">\n",
              "      <th></th>\n",
              "      <th>Actual prices for Next 5 Days using last 13</th>\n",
              "    </tr>\n",
              "  </thead>\n",
              "  <tbody>\n",
              "    <tr>\n",
              "      <th>0</th>\n",
              "      <td>202.869995</td>\n",
              "    </tr>\n",
              "    <tr>\n",
              "      <th>1</th>\n",
              "      <td>197.699997</td>\n",
              "    </tr>\n",
              "    <tr>\n",
              "      <th>2</th>\n",
              "      <td>196.339996</td>\n",
              "    </tr>\n",
              "    <tr>\n",
              "      <th>3</th>\n",
              "      <td>204.949997</td>\n",
              "    </tr>\n",
              "    <tr>\n",
              "      <th>4</th>\n",
              "      <td>208.650604</td>\n",
              "    </tr>\n",
              "  </tbody>\n",
              "</table>\n",
              "</div>"
            ],
            "text/plain": [
              "   Actual prices for Next 5 Days using last 13\n",
              "0                                   202.869995\n",
              "1                                   197.699997\n",
              "2                                   196.339996\n",
              "3                                   204.949997\n",
              "4                                   208.650604"
            ]
          },
          "execution_count": 216,
          "metadata": {},
          "output_type": "execute_result"
        }
      ]
    },
    {
      "cell_type": "code",
      "metadata": {
        "colab": {
          "base_uri": "https://localhost:8080/",
          "height": 205
        },
        "id": "szjTm7IEtYYi",
        "outputId": "b6c10ca3-f89e-4598-f687-327fa9908ee9"
      },
      "source": [
        "# Let's concatenate our actual prices and our predicted prices for the future 5 days\n",
        "results = pd.concat([actual_prices, predicted_prices], axis=1, join='inner')\n",
        "results"
      ],
      "execution_count": null,
      "outputs": [
        {
          "data": {
            "text/html": [
              "<div>\n",
              "<style scoped>\n",
              "    .dataframe tbody tr th:only-of-type {\n",
              "        vertical-align: middle;\n",
              "    }\n",
              "\n",
              "    .dataframe tbody tr th {\n",
              "        vertical-align: top;\n",
              "    }\n",
              "\n",
              "    .dataframe thead th {\n",
              "        text-align: right;\n",
              "    }\n",
              "</style>\n",
              "<table border=\"1\" class=\"dataframe\">\n",
              "  <thead>\n",
              "    <tr style=\"text-align: right;\">\n",
              "      <th></th>\n",
              "      <th>Actual prices for Next 5 Days using last 13</th>\n",
              "      <th>Predicted Prices for Next 5 days using last 13</th>\n",
              "    </tr>\n",
              "  </thead>\n",
              "  <tbody>\n",
              "    <tr>\n",
              "      <th>0</th>\n",
              "      <td>202.869995</td>\n",
              "      <td>202.218323</td>\n",
              "    </tr>\n",
              "    <tr>\n",
              "      <th>1</th>\n",
              "      <td>197.699997</td>\n",
              "      <td>202.218323</td>\n",
              "    </tr>\n",
              "    <tr>\n",
              "      <th>2</th>\n",
              "      <td>196.339996</td>\n",
              "      <td>202.218338</td>\n",
              "    </tr>\n",
              "    <tr>\n",
              "      <th>3</th>\n",
              "      <td>204.949997</td>\n",
              "      <td>202.218338</td>\n",
              "    </tr>\n",
              "    <tr>\n",
              "      <th>4</th>\n",
              "      <td>208.650604</td>\n",
              "      <td>202.218323</td>\n",
              "    </tr>\n",
              "  </tbody>\n",
              "</table>\n",
              "</div>"
            ],
            "text/plain": [
              "   Actual prices for Next 5 Days using last 13  Predicted Prices for Next 5 days using last 13\n",
              "0                                   202.869995                                      202.218323\n",
              "1                                   197.699997                                      202.218323\n",
              "2                                   196.339996                                      202.218338\n",
              "3                                   204.949997                                      202.218338\n",
              "4                                   208.650604                                      202.218323"
            ]
          },
          "execution_count": 217,
          "metadata": {},
          "output_type": "execute_result"
        }
      ]
    },
    {
      "cell_type": "code",
      "metadata": {
        "colab": {
          "base_uri": "https://localhost:8080/",
          "height": 205
        },
        "id": "Isw2Ih9stlQW",
        "outputId": "30293605-7672-4c49-9153-c296a1bcfe18"
      },
      "source": [
        "df = pd.DataFrame(results)\n",
        "\n",
        "# Let's include another column showing the difference between true price and predicted price\n",
        "df['Val_Diff'] = df['Actual prices for Next 5 Days using last 13'] - df['Predicted Prices for Next 5 days using last 13']\n",
        "df"
      ],
      "execution_count": null,
      "outputs": [
        {
          "data": {
            "text/html": [
              "<div>\n",
              "<style scoped>\n",
              "    .dataframe tbody tr th:only-of-type {\n",
              "        vertical-align: middle;\n",
              "    }\n",
              "\n",
              "    .dataframe tbody tr th {\n",
              "        vertical-align: top;\n",
              "    }\n",
              "\n",
              "    .dataframe thead th {\n",
              "        text-align: right;\n",
              "    }\n",
              "</style>\n",
              "<table border=\"1\" class=\"dataframe\">\n",
              "  <thead>\n",
              "    <tr style=\"text-align: right;\">\n",
              "      <th></th>\n",
              "      <th>Actual prices for Next 5 Days using last 13</th>\n",
              "      <th>Predicted Prices for Next 5 days using last 13</th>\n",
              "      <th>Val_Diff</th>\n",
              "    </tr>\n",
              "  </thead>\n",
              "  <tbody>\n",
              "    <tr>\n",
              "      <th>0</th>\n",
              "      <td>202.869995</td>\n",
              "      <td>202.218323</td>\n",
              "      <td>0.651672</td>\n",
              "    </tr>\n",
              "    <tr>\n",
              "      <th>1</th>\n",
              "      <td>197.699997</td>\n",
              "      <td>202.218323</td>\n",
              "      <td>-4.518326</td>\n",
              "    </tr>\n",
              "    <tr>\n",
              "      <th>2</th>\n",
              "      <td>196.339996</td>\n",
              "      <td>202.218338</td>\n",
              "      <td>-5.878342</td>\n",
              "    </tr>\n",
              "    <tr>\n",
              "      <th>3</th>\n",
              "      <td>204.949997</td>\n",
              "      <td>202.218338</td>\n",
              "      <td>2.731659</td>\n",
              "    </tr>\n",
              "    <tr>\n",
              "      <th>4</th>\n",
              "      <td>208.650604</td>\n",
              "      <td>202.218323</td>\n",
              "      <td>6.432281</td>\n",
              "    </tr>\n",
              "  </tbody>\n",
              "</table>\n",
              "</div>"
            ],
            "text/plain": [
              "   Actual prices for Next 5 Days using last 13  ...  Val_Diff\n",
              "0                                   202.869995  ...  0.651672\n",
              "1                                   197.699997  ... -4.518326\n",
              "2                                   196.339996  ... -5.878342\n",
              "3                                   204.949997  ...  2.731659\n",
              "4                                   208.650604  ...  6.432281\n",
              "\n",
              "[5 rows x 3 columns]"
            ]
          },
          "execution_count": 218,
          "metadata": {},
          "output_type": "execute_result"
        }
      ]
    },
    {
      "cell_type": "code",
      "metadata": {
        "id": "9XztrEYEFbDj"
      },
      "source": [
        "# Let's convert our prediction to csv\n",
        "df.to_csv('/content/drive/MyDrive/Palantir_Aug09_to_Aug13_predictions_last13_starttraining20201024_to_20210515.csv')"
      ],
      "execution_count": null,
      "outputs": []
    },
    {
      "cell_type": "markdown",
      "metadata": {
        "id": "EY3_WUZC32z1"
      },
      "source": [
        "# Predicting the Next 5 Days **High** price based on the high prices of the last 10 days\n",
        "* We get to see that using last 10 days results in a bad prediction"
      ]
    },
    {
      "cell_type": "code",
      "metadata": {
        "colab": {
          "base_uri": "https://localhost:8080/"
        },
        "id": "Kqul4VHfj7LD",
        "outputId": "5d7286b2-cee9-4c8e-876f-147ac506fe4b"
      },
      "source": [
        "#===============================================================\n",
        "# We won't use the test dataset (code below) to get our last 13 real prices\n",
        "# because it only has 4 datapoints\n",
        "#FullData=test_stock_data[['High']].values\n",
        "\n",
        "# Let's get the high prices of the last 10 days from all the data\n",
        "#Last10Days=FullData[-10:]\n",
        "#Last10Days\n",
        " \n",
        "# Reshaping the data to (-1,1 )because its a single entry\n",
        "#Last10Days = Last10Days.reshape(-1, 1)\n",
        "#================================================================\n",
        "\n",
        "# We will need to use the all_stock_data dataset\n",
        "# because it contains the last concatenation of the original\n",
        "# training data from '2020-10-24' to '2021-08-15' and \n",
        "# the test data from '2021-08-16' to '2021-08-19\n",
        "# This represents ALL of our current data\n",
        "\n",
        "FullData = all_stock_data.values\n",
        "Last10Days = FullData[-10:]\n",
        "\n",
        "# Reshaping the data to (-1,1) because its a single entry\n",
        "Last10Days = Last10Days.reshape(-1, 1)\n",
        "\n",
        "# Scaling the data on the same level on which model was trained\n",
        "X_test=sc.transform(Last10Days)\n",
        " \n",
        "NumberofSamples=1\n",
        "TimeSteps=X_test.shape[0]\n",
        "NumberofFeatures=X_test.shape[1]\n",
        "# Reshaping the data as 3D input\n",
        "X_test=X_test.reshape(NumberofSamples,TimeSteps,NumberofFeatures)\n",
        " \n",
        "# Generating the predictions for next 5 days\n",
        "Next5DaysUsingLast10 = model.predict(X_test)\n",
        " \n",
        "# Generating the prices in original scale\n",
        "Next5DaysUsingLast10 = sc.inverse_transform(Next5DaysUsingLast10)\n",
        "Next5DaysUsingLast10"
      ],
      "execution_count": null,
      "outputs": [
        {
          "name": "stdout",
          "output_type": "stream",
          "text": [
            "WARNING:tensorflow:5 out of the last 7 calls to <function Model.make_predict_function.<locals>.predict_function at 0x7f67b5cb65f0> triggered tf.function retracing. Tracing is expensive and the excessive number of tracings could be due to (1) creating @tf.function repeatedly in a loop, (2) passing tensors with different shapes, (3) passing Python objects instead of tensors. For (1), please define your @tf.function outside of the loop. For (2), @tf.function has experimental_relax_shapes=True option that relaxes argument shapes that can avoid unnecessary retracing. For (3), please refer to https://www.tensorflow.org/guide/function#controlling_retracing and https://www.tensorflow.org/api_docs/python/tf/function for  more details.\n"
          ]
        },
        {
          "name": "stderr",
          "output_type": "stream",
          "text": [
            "WARNING:tensorflow:5 out of the last 7 calls to <function Model.make_predict_function.<locals>.predict_function at 0x7f67b5cb65f0> triggered tf.function retracing. Tracing is expensive and the excessive number of tracings could be due to (1) creating @tf.function repeatedly in a loop, (2) passing tensors with different shapes, (3) passing Python objects instead of tensors. For (1), please define your @tf.function outside of the loop. For (2), @tf.function has experimental_relax_shapes=True option that relaxes argument shapes that can avoid unnecessary retracing. For (3), please refer to https://www.tensorflow.org/guide/function#controlling_retracing and https://www.tensorflow.org/api_docs/python/tf/function for  more details.\n"
          ]
        },
        {
          "data": {
            "text/plain": [
              "array([[205.22101, 205.22101, 205.221  , 205.221  , 205.22101]],\n",
              "      dtype=float32)"
            ]
          },
          "execution_count": 202,
          "metadata": {},
          "output_type": "execute_result"
        }
      ]
    },
    {
      "cell_type": "code",
      "metadata": {
        "id": "pwZ3gTEJmEJw"
      },
      "source": [
        "columns= ['Predicted Prices for Next 5 days using last 10']\n",
        "predicted_prices_using_last10 = pd.DataFrame(np.reshape(Next5DaysUsingLast10, (5,len(Next5DaysUsingLast10))),columns=columns)"
      ],
      "execution_count": null,
      "outputs": []
    },
    {
      "cell_type": "code",
      "metadata": {
        "colab": {
          "base_uri": "https://localhost:8080/",
          "height": 205
        },
        "id": "Ydiav13amWlj",
        "outputId": "e6aa0e18-e7fe-4f50-b6ae-0b50ed4f83fa"
      },
      "source": [
        "predicted_prices_using_last10"
      ],
      "execution_count": null,
      "outputs": [
        {
          "data": {
            "text/html": [
              "<div>\n",
              "<style scoped>\n",
              "    .dataframe tbody tr th:only-of-type {\n",
              "        vertical-align: middle;\n",
              "    }\n",
              "\n",
              "    .dataframe tbody tr th {\n",
              "        vertical-align: top;\n",
              "    }\n",
              "\n",
              "    .dataframe thead th {\n",
              "        text-align: right;\n",
              "    }\n",
              "</style>\n",
              "<table border=\"1\" class=\"dataframe\">\n",
              "  <thead>\n",
              "    <tr style=\"text-align: right;\">\n",
              "      <th></th>\n",
              "      <th>Predicted Prices for Next 5 days using last 10</th>\n",
              "    </tr>\n",
              "  </thead>\n",
              "  <tbody>\n",
              "    <tr>\n",
              "      <th>0</th>\n",
              "      <td>205.221008</td>\n",
              "    </tr>\n",
              "    <tr>\n",
              "      <th>1</th>\n",
              "      <td>205.221008</td>\n",
              "    </tr>\n",
              "    <tr>\n",
              "      <th>2</th>\n",
              "      <td>205.220993</td>\n",
              "    </tr>\n",
              "    <tr>\n",
              "      <th>3</th>\n",
              "      <td>205.220993</td>\n",
              "    </tr>\n",
              "    <tr>\n",
              "      <th>4</th>\n",
              "      <td>205.221008</td>\n",
              "    </tr>\n",
              "  </tbody>\n",
              "</table>\n",
              "</div>"
            ],
            "text/plain": [
              "   Predicted Prices for Next 5 days using last 10\n",
              "0                                      205.221008\n",
              "1                                      205.221008\n",
              "2                                      205.220993\n",
              "3                                      205.220993\n",
              "4                                      205.221008"
            ]
          },
          "execution_count": 204,
          "metadata": {},
          "output_type": "execute_result"
        }
      ]
    },
    {
      "cell_type": "code",
      "metadata": {
        "colab": {
          "base_uri": "https://localhost:8080/"
        },
        "id": "vypCNHYeMAzq",
        "outputId": "85a1cb63-d46a-4a53-a54c-e22173e80421"
      },
      "source": [
        "print(real_high)"
      ],
      "execution_count": null,
      "outputs": [
        {
          "name": "stdout",
          "output_type": "stream",
          "text": [
            "Date\n",
            "2021-08-09    205.080002\n",
            "2021-08-10    204.300003\n",
            "2021-08-11    200.490005\n",
            "2021-08-12    200.289993\n",
            "2021-08-13    202.139999\n",
            "Name: High, dtype: float64\n"
          ]
        }
      ]
    },
    {
      "cell_type": "code",
      "metadata": {
        "colab": {
          "base_uri": "https://localhost:8080/"
        },
        "id": "xnihri52MGVe",
        "outputId": "87d09c5d-d9ab-4eba-d845-5a2acc5bb368"
      },
      "source": [
        "# Let's get the real high prices into an array of values\n",
        "real_prices_of_future5days_using_last_10= real_high.values\n",
        "real_prices_of_future5days_using_last_10"
      ],
      "execution_count": null,
      "outputs": [
        {
          "data": {
            "text/plain": [
              "array([205.08000183, 204.30000305, 200.49000549, 200.28999329,\n",
              "       202.13999939])"
            ]
          },
          "execution_count": 206,
          "metadata": {},
          "output_type": "execute_result"
        }
      ]
    },
    {
      "cell_type": "code",
      "metadata": {
        "colab": {
          "base_uri": "https://localhost:8080/",
          "height": 205
        },
        "id": "rPSK18mCMpbm",
        "outputId": "5fef4b55-63f0-48e1-8f54-0c2a1788bd4e"
      },
      "source": [
        "columns=['Actual prices for Next 5 Days']\n",
        "actual_prices = pd.DataFrame(real_prices_of_future5days_using_last_10, columns=columns)\n",
        "actual_prices"
      ],
      "execution_count": null,
      "outputs": [
        {
          "data": {
            "text/html": [
              "<div>\n",
              "<style scoped>\n",
              "    .dataframe tbody tr th:only-of-type {\n",
              "        vertical-align: middle;\n",
              "    }\n",
              "\n",
              "    .dataframe tbody tr th {\n",
              "        vertical-align: top;\n",
              "    }\n",
              "\n",
              "    .dataframe thead th {\n",
              "        text-align: right;\n",
              "    }\n",
              "</style>\n",
              "<table border=\"1\" class=\"dataframe\">\n",
              "  <thead>\n",
              "    <tr style=\"text-align: right;\">\n",
              "      <th></th>\n",
              "      <th>Actual prices for Next 5 Days</th>\n",
              "    </tr>\n",
              "  </thead>\n",
              "  <tbody>\n",
              "    <tr>\n",
              "      <th>0</th>\n",
              "      <td>205.080002</td>\n",
              "    </tr>\n",
              "    <tr>\n",
              "      <th>1</th>\n",
              "      <td>204.300003</td>\n",
              "    </tr>\n",
              "    <tr>\n",
              "      <th>2</th>\n",
              "      <td>200.490005</td>\n",
              "    </tr>\n",
              "    <tr>\n",
              "      <th>3</th>\n",
              "      <td>200.289993</td>\n",
              "    </tr>\n",
              "    <tr>\n",
              "      <th>4</th>\n",
              "      <td>202.139999</td>\n",
              "    </tr>\n",
              "  </tbody>\n",
              "</table>\n",
              "</div>"
            ],
            "text/plain": [
              "   Actual prices for Next 5 Days\n",
              "0                     205.080002\n",
              "1                     204.300003\n",
              "2                     200.490005\n",
              "3                     200.289993\n",
              "4                     202.139999"
            ]
          },
          "execution_count": 207,
          "metadata": {},
          "output_type": "execute_result"
        }
      ]
    },
    {
      "cell_type": "code",
      "metadata": {
        "colab": {
          "base_uri": "https://localhost:8080/",
          "height": 205
        },
        "id": "9I0xMQhfmpAa",
        "outputId": "6fad3845-6871-47cd-a0b9-9aa1ae475dd8"
      },
      "source": [
        "results = pd.concat([actual_prices, predicted_prices_using_last10], axis=1, join='inner')\n",
        "results"
      ],
      "execution_count": null,
      "outputs": [
        {
          "data": {
            "text/html": [
              "<div>\n",
              "<style scoped>\n",
              "    .dataframe tbody tr th:only-of-type {\n",
              "        vertical-align: middle;\n",
              "    }\n",
              "\n",
              "    .dataframe tbody tr th {\n",
              "        vertical-align: top;\n",
              "    }\n",
              "\n",
              "    .dataframe thead th {\n",
              "        text-align: right;\n",
              "    }\n",
              "</style>\n",
              "<table border=\"1\" class=\"dataframe\">\n",
              "  <thead>\n",
              "    <tr style=\"text-align: right;\">\n",
              "      <th></th>\n",
              "      <th>Actual prices for Next 5 Days</th>\n",
              "      <th>Predicted Prices for Next 5 days using last 10</th>\n",
              "    </tr>\n",
              "  </thead>\n",
              "  <tbody>\n",
              "    <tr>\n",
              "      <th>0</th>\n",
              "      <td>205.080002</td>\n",
              "      <td>205.221008</td>\n",
              "    </tr>\n",
              "    <tr>\n",
              "      <th>1</th>\n",
              "      <td>204.300003</td>\n",
              "      <td>205.221008</td>\n",
              "    </tr>\n",
              "    <tr>\n",
              "      <th>2</th>\n",
              "      <td>200.490005</td>\n",
              "      <td>205.220993</td>\n",
              "    </tr>\n",
              "    <tr>\n",
              "      <th>3</th>\n",
              "      <td>200.289993</td>\n",
              "      <td>205.220993</td>\n",
              "    </tr>\n",
              "    <tr>\n",
              "      <th>4</th>\n",
              "      <td>202.139999</td>\n",
              "      <td>205.221008</td>\n",
              "    </tr>\n",
              "  </tbody>\n",
              "</table>\n",
              "</div>"
            ],
            "text/plain": [
              "   Actual prices for Next 5 Days  Predicted Prices for Next 5 days using last 10\n",
              "0                     205.080002                                      205.221008\n",
              "1                     204.300003                                      205.221008\n",
              "2                     200.490005                                      205.220993\n",
              "3                     200.289993                                      205.220993\n",
              "4                     202.139999                                      205.221008"
            ]
          },
          "execution_count": 208,
          "metadata": {},
          "output_type": "execute_result"
        }
      ]
    },
    {
      "cell_type": "code",
      "metadata": {
        "colab": {
          "base_uri": "https://localhost:8080/",
          "height": 205
        },
        "id": "vNJcM2ihmzK5",
        "outputId": "0c9d18a5-a793-4c0a-f583-9edf698aab5a"
      },
      "source": [
        "df = pd.DataFrame(results)\n",
        "\n",
        "# Let's include another column showing the difference between true price and predicted price\n",
        "df['Val_Diff'] = df['Actual prices for Next 5 Days'] - df['Predicted Prices for Next 5 days using last 10']\n",
        "df"
      ],
      "execution_count": null,
      "outputs": [
        {
          "data": {
            "text/html": [
              "<div>\n",
              "<style scoped>\n",
              "    .dataframe tbody tr th:only-of-type {\n",
              "        vertical-align: middle;\n",
              "    }\n",
              "\n",
              "    .dataframe tbody tr th {\n",
              "        vertical-align: top;\n",
              "    }\n",
              "\n",
              "    .dataframe thead th {\n",
              "        text-align: right;\n",
              "    }\n",
              "</style>\n",
              "<table border=\"1\" class=\"dataframe\">\n",
              "  <thead>\n",
              "    <tr style=\"text-align: right;\">\n",
              "      <th></th>\n",
              "      <th>Actual prices for Next 5 Days</th>\n",
              "      <th>Predicted Prices for Next 5 days using last 10</th>\n",
              "      <th>Val_Diff</th>\n",
              "    </tr>\n",
              "  </thead>\n",
              "  <tbody>\n",
              "    <tr>\n",
              "      <th>0</th>\n",
              "      <td>205.080002</td>\n",
              "      <td>205.221008</td>\n",
              "      <td>-0.141006</td>\n",
              "    </tr>\n",
              "    <tr>\n",
              "      <th>1</th>\n",
              "      <td>204.300003</td>\n",
              "      <td>205.221008</td>\n",
              "      <td>-0.921005</td>\n",
              "    </tr>\n",
              "    <tr>\n",
              "      <th>2</th>\n",
              "      <td>200.490005</td>\n",
              "      <td>205.220993</td>\n",
              "      <td>-4.730988</td>\n",
              "    </tr>\n",
              "    <tr>\n",
              "      <th>3</th>\n",
              "      <td>200.289993</td>\n",
              "      <td>205.220993</td>\n",
              "      <td>-4.931000</td>\n",
              "    </tr>\n",
              "    <tr>\n",
              "      <th>4</th>\n",
              "      <td>202.139999</td>\n",
              "      <td>205.221008</td>\n",
              "      <td>-3.081009</td>\n",
              "    </tr>\n",
              "  </tbody>\n",
              "</table>\n",
              "</div>"
            ],
            "text/plain": [
              "   Actual prices for Next 5 Days  ...  Val_Diff\n",
              "0                     205.080002  ... -0.141006\n",
              "1                     204.300003  ... -0.921005\n",
              "2                     200.490005  ... -4.730988\n",
              "3                     200.289993  ... -4.931000\n",
              "4                     202.139999  ... -3.081009\n",
              "\n",
              "[5 rows x 3 columns]"
            ]
          },
          "execution_count": 209,
          "metadata": {},
          "output_type": "execute_result"
        }
      ]
    },
    {
      "cell_type": "code",
      "metadata": {
        "id": "5aQcIHC0zeuq"
      },
      "source": [
        "# Let's convert our prediction to csv \n",
        "# this prediction is based on using the last 10 real prices\n",
        "#df.to_csv('/content/drive/MyDrive/Using_last10_Aug09_to_Aug14_predictions.csv')"
      ],
      "execution_count": null,
      "outputs": []
    }
  ]
}