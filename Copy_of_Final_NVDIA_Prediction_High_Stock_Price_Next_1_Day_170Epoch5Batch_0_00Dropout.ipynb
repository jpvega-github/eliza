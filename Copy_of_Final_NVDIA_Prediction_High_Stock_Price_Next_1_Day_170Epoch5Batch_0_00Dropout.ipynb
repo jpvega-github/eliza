{
  "nbformat": 4,
  "nbformat_minor": 0,
  "metadata": {
    "colab": {
      "name": "Copy of Final_NVDIA Prediction High Stock Price Next 1 Day_170Epoch5Batch_0.00Dropout.ipynb",
      "provenance": [],
      "collapsed_sections": [
        "FWQtArXVvs1e",
        "gbh-uw5A5T3I"
      ],
      "include_colab_link": true
    },
    "kernelspec": {
      "display_name": "Python 3",
      "name": "python3"
    },
    "language_info": {
      "name": "python"
    }
  },
  "cells": [
    {
      "cell_type": "markdown",
      "metadata": {
        "id": "view-in-github",
        "colab_type": "text"
      },
      "source": [
        "<a href=\"https://colab.research.google.com/github/jpvega-github/eliza/blob/master/Copy_of_Final_NVDIA_Prediction_High_Stock_Price_Next_1_Day_170Epoch5Batch_0_00Dropout.ipynb\" target=\"_parent\"><img src=\"https://colab.research.google.com/assets/colab-badge.svg\" alt=\"Open In Colab\"/></a>"
      ]
    },
    {
      "cell_type": "markdown",
      "metadata": {
        "id": "FWQtArXVvs1e"
      },
      "source": [
        "# NVIDIA Stock Highest Price Prediction for the next 1 day\n",
        "* Purpose\n",
        "  * Code for predicting the next 1 day of Nvidia's stock price\n",
        "* Model\n",
        "  * The model is trained on data from `2016-10-03` to `insert`\n",
        "  * The model is trained and tested on `High` stock prices since we are trying to ensure our covered calls are safe from being executed\n",
        "  * The model is tested on data from `insert` to `insert`\n",
        "  * The model is then tested to see how well it performs on the next 1 day of unknown stock price for `given date`\n",
        "* The model is fit as follows:\n",
        "\n",
        "    `model.fit(features, labels, epochs = 170, batch_size = 5, verbose = 1)`\n",
        "\n",
        "* Model build is as follows:\n",
        "```\n",
        "model = tf.keras.models.Sequential([\n",
        "    tf.keras.layers.LSTM(units = 50, return_sequences = True, input_shape = (features.shape[1], 1)),\n",
        "    #tf.keras.layers.Dropout(0.01),\n",
        "    #tf.keras.layers.LSTM(units = 50, return_sequences = True),\n",
        "    #tf.keras.layers.Dropout(0.01),\n",
        "    tf.keras.layers.LSTM(units = 50, return_sequences = True),\n",
        "    #tf.keras.layers.Dropout(0.01),\n",
        "    tf.keras.layers.LSTM(units = 50),\n",
        "    #tf.keras.layers.Dropout(0.01),\n",
        "    tf.keras.layers.Dense(units = 1)\n",
        "])\n",
        "```\n",
        "\n",
        "###**Let’s make this concrete with a small example**\n",
        "\n",
        "Assume you have a dataset with 200 samples (rows of data) (FYI: my dataset has 202 samples) and you choose a batch size of 5 and 1,000 epochs.\n",
        "\n",
        "* **This means that the dataset will be divided into 40 batches (`200/5 = 40`), each with five samples. The model weights will be updated after each batch of five samples.**\n",
        "\n",
        "* **This also means that ONE EPOCH...** will involve 40 batches or 40 updates to the model.\n",
        "\n",
        "**With 1,000 epochs,..** the model will be exposed to or pass through the whole dataset 1,000 times. That is a total of 40,000 batches during the entire training process.\n",
        "\n",
        "See: https://machinelearningmastery.com/difference-between-a-batch-and-an-epoch/"
      ]
    },
    {
      "cell_type": "markdown",
      "metadata": {
        "id": "V_IFhRpZJiW3"
      },
      "source": [
        "# Intro to LSTMs\n",
        "\n",
        "We will predict stock prices with Long short-term memory (LSTM).\n",
        "\n",
        "LSTMs are very powerful in sequence prediction problems. They can store past information.\n",
        "\n",
        "LSTM models predict time series data. Stock market data is a great choice for this because it's quite regular and widely available via the Internet.\n"
      ]
    },
    {
      "cell_type": "code",
      "metadata": {
        "id": "vYfvhz8hStDK",
        "colab": {
          "base_uri": "https://localhost:8080/"
        },
        "outputId": "daeecf55-ee6e-4562-fb0d-31bc5650bf5a"
      },
      "source": [
        "# Let's mount our google drive\n",
        "from google.colab import drive\n",
        "drive.mount('/content/drive')"
      ],
      "execution_count": 34,
      "outputs": [
        {
          "output_type": "stream",
          "name": "stdout",
          "text": [
            "Drive already mounted at /content/drive; to attempt to forcibly remount, call drive.mount(\"/content/drive\", force_remount=True).\n"
          ]
        }
      ]
    },
    {
      "cell_type": "code",
      "metadata": {
        "colab": {
          "base_uri": "https://localhost:8080/"
        },
        "id": "olzZ1ffwSMMy",
        "outputId": "722b8f70-786f-41c6-fbeb-ac1800ede082"
      },
      "source": [
        "# Let's install tensorflow\n",
        "# TensorFlow is a free and open-source software library for machine learning. \n",
        "# It can be used across a range of tasks but has a particular focus on training and inference of deep neural networks.\n",
        "# Tensorflow is a symbolic math library based on dataflow and differentiable programming\n",
        "\n",
        "!pip install tensorflow"
      ],
      "execution_count": 35,
      "outputs": [
        {
          "output_type": "stream",
          "name": "stdout",
          "text": [
            "Requirement already satisfied: tensorflow in /usr/local/lib/python3.7/dist-packages (2.6.0)\n",
            "Requirement already satisfied: tensorflow-estimator~=2.6 in /usr/local/lib/python3.7/dist-packages (from tensorflow) (2.6.0)\n",
            "Requirement already satisfied: wheel~=0.35 in /usr/local/lib/python3.7/dist-packages (from tensorflow) (0.37.0)\n",
            "Requirement already satisfied: six~=1.15.0 in /usr/local/lib/python3.7/dist-packages (from tensorflow) (1.15.0)\n",
            "Requirement already satisfied: flatbuffers~=1.12.0 in /usr/local/lib/python3.7/dist-packages (from tensorflow) (1.12)\n",
            "Requirement already satisfied: opt-einsum~=3.3.0 in /usr/local/lib/python3.7/dist-packages (from tensorflow) (3.3.0)\n",
            "Requirement already satisfied: astunparse~=1.6.3 in /usr/local/lib/python3.7/dist-packages (from tensorflow) (1.6.3)\n",
            "Requirement already satisfied: h5py~=3.1.0 in /usr/local/lib/python3.7/dist-packages (from tensorflow) (3.1.0)\n",
            "Requirement already satisfied: typing-extensions~=3.7.4 in /usr/local/lib/python3.7/dist-packages (from tensorflow) (3.7.4.3)\n",
            "Requirement already satisfied: wrapt~=1.12.1 in /usr/local/lib/python3.7/dist-packages (from tensorflow) (1.12.1)\n",
            "Requirement already satisfied: protobuf>=3.9.2 in /usr/local/lib/python3.7/dist-packages (from tensorflow) (3.17.3)\n",
            "Requirement already satisfied: numpy~=1.19.2 in /usr/local/lib/python3.7/dist-packages (from tensorflow) (1.19.5)\n",
            "Requirement already satisfied: google-pasta~=0.2 in /usr/local/lib/python3.7/dist-packages (from tensorflow) (0.2.0)\n",
            "Requirement already satisfied: clang~=5.0 in /usr/local/lib/python3.7/dist-packages (from tensorflow) (5.0)\n",
            "Requirement already satisfied: keras~=2.6 in /usr/local/lib/python3.7/dist-packages (from tensorflow) (2.6.0)\n",
            "Requirement already satisfied: absl-py~=0.10 in /usr/local/lib/python3.7/dist-packages (from tensorflow) (0.12.0)\n",
            "Requirement already satisfied: keras-preprocessing~=1.1.2 in /usr/local/lib/python3.7/dist-packages (from tensorflow) (1.1.2)\n",
            "Requirement already satisfied: grpcio<2.0,>=1.37.0 in /usr/local/lib/python3.7/dist-packages (from tensorflow) (1.41.0)\n",
            "Requirement already satisfied: gast==0.4.0 in /usr/local/lib/python3.7/dist-packages (from tensorflow) (0.4.0)\n",
            "Requirement already satisfied: tensorboard~=2.6 in /usr/local/lib/python3.7/dist-packages (from tensorflow) (2.6.0)\n",
            "Requirement already satisfied: termcolor~=1.1.0 in /usr/local/lib/python3.7/dist-packages (from tensorflow) (1.1.0)\n",
            "Requirement already satisfied: cached-property in /usr/local/lib/python3.7/dist-packages (from h5py~=3.1.0->tensorflow) (1.5.2)\n",
            "Requirement already satisfied: setuptools>=41.0.0 in /usr/local/lib/python3.7/dist-packages (from tensorboard~=2.6->tensorflow) (57.4.0)\n",
            "Requirement already satisfied: google-auth<2,>=1.6.3 in /usr/local/lib/python3.7/dist-packages (from tensorboard~=2.6->tensorflow) (1.35.0)\n",
            "Requirement already satisfied: markdown>=2.6.8 in /usr/local/lib/python3.7/dist-packages (from tensorboard~=2.6->tensorflow) (3.3.4)\n",
            "Requirement already satisfied: tensorboard-plugin-wit>=1.6.0 in /usr/local/lib/python3.7/dist-packages (from tensorboard~=2.6->tensorflow) (1.8.0)\n",
            "Requirement already satisfied: werkzeug>=0.11.15 in /usr/local/lib/python3.7/dist-packages (from tensorboard~=2.6->tensorflow) (1.0.1)\n",
            "Requirement already satisfied: tensorboard-data-server<0.7.0,>=0.6.0 in /usr/local/lib/python3.7/dist-packages (from tensorboard~=2.6->tensorflow) (0.6.1)\n",
            "Requirement already satisfied: requests<3,>=2.21.0 in /usr/local/lib/python3.7/dist-packages (from tensorboard~=2.6->tensorflow) (2.23.0)\n",
            "Requirement already satisfied: google-auth-oauthlib<0.5,>=0.4.1 in /usr/local/lib/python3.7/dist-packages (from tensorboard~=2.6->tensorflow) (0.4.6)\n",
            "Requirement already satisfied: rsa<5,>=3.1.4 in /usr/local/lib/python3.7/dist-packages (from google-auth<2,>=1.6.3->tensorboard~=2.6->tensorflow) (4.7.2)\n",
            "Requirement already satisfied: cachetools<5.0,>=2.0.0 in /usr/local/lib/python3.7/dist-packages (from google-auth<2,>=1.6.3->tensorboard~=2.6->tensorflow) (4.2.4)\n",
            "Requirement already satisfied: pyasn1-modules>=0.2.1 in /usr/local/lib/python3.7/dist-packages (from google-auth<2,>=1.6.3->tensorboard~=2.6->tensorflow) (0.2.8)\n",
            "Requirement already satisfied: requests-oauthlib>=0.7.0 in /usr/local/lib/python3.7/dist-packages (from google-auth-oauthlib<0.5,>=0.4.1->tensorboard~=2.6->tensorflow) (1.3.0)\n",
            "Requirement already satisfied: importlib-metadata in /usr/local/lib/python3.7/dist-packages (from markdown>=2.6.8->tensorboard~=2.6->tensorflow) (4.8.1)\n",
            "Requirement already satisfied: pyasn1<0.5.0,>=0.4.6 in /usr/local/lib/python3.7/dist-packages (from pyasn1-modules>=0.2.1->google-auth<2,>=1.6.3->tensorboard~=2.6->tensorflow) (0.4.8)\n",
            "Requirement already satisfied: chardet<4,>=3.0.2 in /usr/local/lib/python3.7/dist-packages (from requests<3,>=2.21.0->tensorboard~=2.6->tensorflow) (3.0.4)\n",
            "Requirement already satisfied: idna<3,>=2.5 in /usr/local/lib/python3.7/dist-packages (from requests<3,>=2.21.0->tensorboard~=2.6->tensorflow) (2.10)\n",
            "Requirement already satisfied: certifi>=2017.4.17 in /usr/local/lib/python3.7/dist-packages (from requests<3,>=2.21.0->tensorboard~=2.6->tensorflow) (2021.5.30)\n",
            "Requirement already satisfied: urllib3!=1.25.0,!=1.25.1,<1.26,>=1.21.1 in /usr/local/lib/python3.7/dist-packages (from requests<3,>=2.21.0->tensorboard~=2.6->tensorflow) (1.24.3)\n",
            "Requirement already satisfied: oauthlib>=3.0.0 in /usr/local/lib/python3.7/dist-packages (from requests-oauthlib>=0.7.0->google-auth-oauthlib<0.5,>=0.4.1->tensorboard~=2.6->tensorflow) (3.1.1)\n",
            "Requirement already satisfied: zipp>=0.5 in /usr/local/lib/python3.7/dist-packages (from importlib-metadata->markdown>=2.6.8->tensorboard~=2.6->tensorflow) (3.6.0)\n"
          ]
        }
      ]
    },
    {
      "cell_type": "code",
      "metadata": {
        "colab": {
          "base_uri": "https://localhost:8080/"
        },
        "id": "kdBTMVSpSQw0",
        "outputId": "f5826bc7-ec64-472b-8ef4-e5f322ff781f"
      },
      "source": [
        "# matplotlib-venn: The package provides four main functions: venn2, venn2_circles, venn3 and venn3_circles.\n",
        "# The functions venn2 and venn2_circles accept as their only required argument a 3-element list (Ab, aB, AB) of subset sizes, e.g.:\n",
        "# venn2(subsets = (3, 2, 1))\n",
        "\n",
        "# Let's install this package\n",
        "!pip install matplotlib-venn"
      ],
      "execution_count": 36,
      "outputs": [
        {
          "output_type": "stream",
          "name": "stdout",
          "text": [
            "Requirement already satisfied: matplotlib-venn in /usr/local/lib/python3.7/dist-packages (0.11.6)\n",
            "Requirement already satisfied: scipy in /usr/local/lib/python3.7/dist-packages (from matplotlib-venn) (1.4.1)\n",
            "Requirement already satisfied: matplotlib in /usr/local/lib/python3.7/dist-packages (from matplotlib-venn) (3.2.2)\n",
            "Requirement already satisfied: numpy in /usr/local/lib/python3.7/dist-packages (from matplotlib-venn) (1.19.5)\n",
            "Requirement already satisfied: pyparsing!=2.0.4,!=2.1.2,!=2.1.6,>=2.0.1 in /usr/local/lib/python3.7/dist-packages (from matplotlib->matplotlib-venn) (2.4.7)\n",
            "Requirement already satisfied: python-dateutil>=2.1 in /usr/local/lib/python3.7/dist-packages (from matplotlib->matplotlib-venn) (2.8.2)\n",
            "Requirement already satisfied: kiwisolver>=1.0.1 in /usr/local/lib/python3.7/dist-packages (from matplotlib->matplotlib-venn) (1.3.2)\n",
            "Requirement already satisfied: cycler>=0.10 in /usr/local/lib/python3.7/dist-packages (from matplotlib->matplotlib-venn) (0.10.0)\n",
            "Requirement already satisfied: six in /usr/local/lib/python3.7/dist-packages (from cycler>=0.10->matplotlib->matplotlib-venn) (1.15.0)\n"
          ]
        }
      ]
    },
    {
      "cell_type": "code",
      "metadata": {
        "id": "kamfaxf6STyE"
      },
      "source": [
        "!apt-get -qq install -y libfluidsynth1"
      ],
      "execution_count": 37,
      "outputs": []
    },
    {
      "cell_type": "code",
      "metadata": {
        "colab": {
          "base_uri": "https://localhost:8080/"
        },
        "id": "DIz_RDsMSWYA",
        "outputId": "aee60034-3a74-4ae2-f800-0662e1f2829f"
      },
      "source": [
        "# libarchive-dev: a multi-format archive and compression library (development files).\n",
        "# The libarchive library provides a flexible interface for reading and writing archives \n",
        "# in various formats such as tar and cpio. \n",
        "# libarchive also supports reading and writing archives compressed using various \n",
        "# compression filters such as gzip and bzip2. \n",
        "# The library is inherently stream-oriented; \n",
        "# readers serially iterate through the archive, writers serially add things to the archive.\n",
        "#  Archive formats supported are:\n",
        "#   * tar (read and write, including GNU extensions)\n",
        "#   * pax (read and write, including GNU and star extensions)\n",
        "#   * cpio (read and write, including odc and newc variants)\n",
        "#   * iso9660 (read and write, including Joliet and Rockridge extensions, with some limitations)\n",
        "#   * zip (read only, with some limitations, uses zlib)\n",
        "!apt-get -qq install -y libarchive-dev && pip install -U libarchive\n",
        "import libarchive"
      ],
      "execution_count": 38,
      "outputs": [
        {
          "output_type": "stream",
          "name": "stdout",
          "text": [
            "Requirement already satisfied: libarchive in /usr/local/lib/python3.7/dist-packages (0.4.7)\n",
            "Requirement already satisfied: nose in /usr/local/lib/python3.7/dist-packages (from libarchive) (1.3.7)\n"
          ]
        }
      ]
    },
    {
      "cell_type": "code",
      "metadata": {
        "colab": {
          "base_uri": "https://localhost:8080/"
        },
        "id": "D2PV92amSZ4F",
        "outputId": "860a238c-a55b-44bc-af63-c747fc16c562"
      },
      "source": [
        "# pandas-datareader: Up-to-date remote data access for pandas. Works for multiple versions of pandas.\n",
        "!pip install pandas-datareader"
      ],
      "execution_count": 39,
      "outputs": [
        {
          "output_type": "stream",
          "name": "stdout",
          "text": [
            "Requirement already satisfied: pandas-datareader in /usr/local/lib/python3.7/dist-packages (0.9.0)\n",
            "Requirement already satisfied: requests>=2.19.0 in /usr/local/lib/python3.7/dist-packages (from pandas-datareader) (2.23.0)\n",
            "Requirement already satisfied: lxml in /usr/local/lib/python3.7/dist-packages (from pandas-datareader) (4.6.3)\n",
            "Requirement already satisfied: pandas>=0.23 in /usr/local/lib/python3.7/dist-packages (from pandas-datareader) (1.1.5)\n",
            "Requirement already satisfied: numpy>=1.15.4 in /usr/local/lib/python3.7/dist-packages (from pandas>=0.23->pandas-datareader) (1.19.5)\n",
            "Requirement already satisfied: python-dateutil>=2.7.3 in /usr/local/lib/python3.7/dist-packages (from pandas>=0.23->pandas-datareader) (2.8.2)\n",
            "Requirement already satisfied: pytz>=2017.2 in /usr/local/lib/python3.7/dist-packages (from pandas>=0.23->pandas-datareader) (2018.9)\n",
            "Requirement already satisfied: six>=1.5 in /usr/local/lib/python3.7/dist-packages (from python-dateutil>=2.7.3->pandas>=0.23->pandas-datareader) (1.15.0)\n",
            "Requirement already satisfied: idna<3,>=2.5 in /usr/local/lib/python3.7/dist-packages (from requests>=2.19.0->pandas-datareader) (2.10)\n",
            "Requirement already satisfied: certifi>=2017.4.17 in /usr/local/lib/python3.7/dist-packages (from requests>=2.19.0->pandas-datareader) (2021.5.30)\n",
            "Requirement already satisfied: urllib3!=1.25.0,!=1.25.1,<1.26,>=1.21.1 in /usr/local/lib/python3.7/dist-packages (from requests>=2.19.0->pandas-datareader) (1.24.3)\n",
            "Requirement already satisfied: chardet<4,>=3.0.2 in /usr/local/lib/python3.7/dist-packages (from requests>=2.19.0->pandas-datareader) (3.0.4)\n"
          ]
        }
      ]
    },
    {
      "cell_type": "code",
      "metadata": {
        "colab": {
          "base_uri": "https://localhost:8080/"
        },
        "id": "oRx40vsWScux",
        "outputId": "dd4fe537-5ce2-42ae-e7c1-b692cd3ead2a"
      },
      "source": [
        "# Graphviz is open source graph visualization software. \n",
        "# Graph visualization is a way of representing structural information as \n",
        "# diagrams of abstract graphs and networks. It has important applications \n",
        "# in networking, bioinformatics, software engineering, database and web design, \n",
        "# machine learning, and in visual interfaces for other technical domains.\n",
        "# =====================================================================================\n",
        "# pydot: is an interface to Graphviz\n",
        "# It can parse and dump into the DOT language used by GraphViz, is written in pure Python,\n",
        "# and networkx can convert its graphs to pydot.\n",
        "\n",
        "!apt-get -qq install -y graphviz && pip install pydot\n",
        "import pydot"
      ],
      "execution_count": 40,
      "outputs": [
        {
          "output_type": "stream",
          "name": "stdout",
          "text": [
            "Requirement already satisfied: pydot in /usr/local/lib/python3.7/dist-packages (1.3.0)\n",
            "Requirement already satisfied: pyparsing>=2.1.4 in /usr/local/lib/python3.7/dist-packages (from pydot) (2.4.7)\n"
          ]
        }
      ]
    },
    {
      "cell_type": "code",
      "metadata": {
        "colab": {
          "base_uri": "https://localhost:8080/"
        },
        "id": "BwC4vOPUSjrR",
        "outputId": "aa01185c-d647-4f5e-a950-dce1efc1cfa2"
      },
      "source": [
        "# Let's install yfinance\n",
        "# yfinance is a library, see https://pypi.org/project/yfinance/ and https://aroussi.com/post/python-yahoo-finance\n",
        "# yfinance offers a reliable, threaded, and Pythonic way to download historical market data from Yahoo! finance.\n",
        "# The Ticker module, which allows you to access ticker data in a more Pythonic way.\n",
        "\n",
        "!pip install yfinance"
      ],
      "execution_count": 41,
      "outputs": [
        {
          "output_type": "stream",
          "name": "stdout",
          "text": [
            "Requirement already satisfied: yfinance in /usr/local/lib/python3.7/dist-packages (0.1.64)\n",
            "Requirement already satisfied: pandas>=0.24 in /usr/local/lib/python3.7/dist-packages (from yfinance) (1.1.5)\n",
            "Requirement already satisfied: numpy>=1.15 in /usr/local/lib/python3.7/dist-packages (from yfinance) (1.19.5)\n",
            "Requirement already satisfied: lxml>=4.5.1 in /usr/local/lib/python3.7/dist-packages (from yfinance) (4.6.3)\n",
            "Requirement already satisfied: multitasking>=0.0.7 in /usr/local/lib/python3.7/dist-packages (from yfinance) (0.0.9)\n",
            "Requirement already satisfied: requests>=2.20 in /usr/local/lib/python3.7/dist-packages (from yfinance) (2.23.0)\n",
            "Requirement already satisfied: python-dateutil>=2.7.3 in /usr/local/lib/python3.7/dist-packages (from pandas>=0.24->yfinance) (2.8.2)\n",
            "Requirement already satisfied: pytz>=2017.2 in /usr/local/lib/python3.7/dist-packages (from pandas>=0.24->yfinance) (2018.9)\n",
            "Requirement already satisfied: six>=1.5 in /usr/local/lib/python3.7/dist-packages (from python-dateutil>=2.7.3->pandas>=0.24->yfinance) (1.15.0)\n",
            "Requirement already satisfied: certifi>=2017.4.17 in /usr/local/lib/python3.7/dist-packages (from requests>=2.20->yfinance) (2021.5.30)\n",
            "Requirement already satisfied: chardet<4,>=3.0.2 in /usr/local/lib/python3.7/dist-packages (from requests>=2.20->yfinance) (3.0.4)\n",
            "Requirement already satisfied: urllib3!=1.25.0,!=1.25.1,<1.26,>=1.21.1 in /usr/local/lib/python3.7/dist-packages (from requests>=2.20->yfinance) (1.24.3)\n",
            "Requirement already satisfied: idna<3,>=2.5 in /usr/local/lib/python3.7/dist-packages (from requests>=2.20->yfinance) (2.10)\n"
          ]
        }
      ]
    },
    {
      "cell_type": "code",
      "metadata": {
        "id": "72ME5X7mSnGZ"
      },
      "source": [
        "import numpy as np\n",
        "import matplotlib.pyplot as plt\n",
        "import pandas as pd\n",
        "from pandas_datareader import data"
      ],
      "execution_count": 42,
      "outputs": []
    },
    {
      "cell_type": "code",
      "metadata": {
        "id": "cb-6q5AySpKH"
      },
      "source": [
        "# Let's import yfinance\n",
        "import yfinance as yf"
      ],
      "execution_count": 43,
      "outputs": []
    },
    {
      "cell_type": "markdown",
      "metadata": {
        "id": "4Dfwqbup5Asx"
      },
      "source": [
        "# Let's get our training data\n",
        "\n",
        "Here, I use pandas-datareader to get the historical stock prices from Yahoo! finance. I only get the historical data until the date I want to use to train my model.\n",
        "\n",
        "I will train my model using Nvidia's historical stock data between (2016-10-03) to (whatever date)"
      ]
    },
    {
      "cell_type": "code",
      "metadata": {
        "id": "LaAL8TjJS0Wm"
      },
      "source": [
        "# Let's get Nvidia's stock price history\n",
        "nvidia_stock_prices = yf.Ticker('Nvda')\n",
        "\n",
        "# nvidia started trading on '1999-01-23'.\n",
        "# seems like getting rid of the start numbers where it was flat was good decision; \n",
        "start_date = '2016-10-03' # keeper date \n",
        "end_date = '2021-10-16'\n",
        "\n",
        "# stock_data = data.get_data_yahoo(tickers, start_date, end_date)\n",
        "stock_data = nvidia_stock_prices.history(start= start_date, end=end_date)"
      ],
      "execution_count": 44,
      "outputs": []
    },
    {
      "cell_type": "code",
      "metadata": {
        "colab": {
          "base_uri": "https://localhost:8080/",
          "height": 454
        },
        "id": "IBoaUkWjqoco",
        "outputId": "a37d6abd-8a86-4fb8-fe6b-cd15ffa1f037"
      },
      "source": [
        "stock_data"
      ],
      "execution_count": 12,
      "outputs": [
        {
          "output_type": "execute_result",
          "data": {
            "text/html": [
              "<div>\n",
              "<style scoped>\n",
              "    .dataframe tbody tr th:only-of-type {\n",
              "        vertical-align: middle;\n",
              "    }\n",
              "\n",
              "    .dataframe tbody tr th {\n",
              "        vertical-align: top;\n",
              "    }\n",
              "\n",
              "    .dataframe thead th {\n",
              "        text-align: right;\n",
              "    }\n",
              "</style>\n",
              "<table border=\"1\" class=\"dataframe\">\n",
              "  <thead>\n",
              "    <tr style=\"text-align: right;\">\n",
              "      <th></th>\n",
              "      <th>Open</th>\n",
              "      <th>High</th>\n",
              "      <th>Low</th>\n",
              "      <th>Close</th>\n",
              "      <th>Volume</th>\n",
              "      <th>Dividends</th>\n",
              "      <th>Stock Splits</th>\n",
              "    </tr>\n",
              "    <tr>\n",
              "      <th>Date</th>\n",
              "      <th></th>\n",
              "      <th></th>\n",
              "      <th></th>\n",
              "      <th></th>\n",
              "      <th></th>\n",
              "      <th></th>\n",
              "      <th></th>\n",
              "    </tr>\n",
              "  </thead>\n",
              "  <tbody>\n",
              "    <tr>\n",
              "      <th>2016-10-03</th>\n",
              "      <td>16.883948</td>\n",
              "      <td>17.127894</td>\n",
              "      <td>16.837131</td>\n",
              "      <td>16.866699</td>\n",
              "      <td>24259600</td>\n",
              "      <td>0.0</td>\n",
              "      <td>0.0</td>\n",
              "    </tr>\n",
              "    <tr>\n",
              "      <th>2016-10-04</th>\n",
              "      <td>16.891345</td>\n",
              "      <td>17.174714</td>\n",
              "      <td>16.704073</td>\n",
              "      <td>16.829742</td>\n",
              "      <td>28162400</td>\n",
              "      <td>0.0</td>\n",
              "      <td>0.0</td>\n",
              "    </tr>\n",
              "    <tr>\n",
              "      <th>2016-10-05</th>\n",
              "      <td>16.972655</td>\n",
              "      <td>17.145142</td>\n",
              "      <td>16.760743</td>\n",
              "      <td>16.812490</td>\n",
              "      <td>30544000</td>\n",
              "      <td>0.0</td>\n",
              "      <td>0.0</td>\n",
              "    </tr>\n",
              "    <tr>\n",
              "      <th>2016-10-06</th>\n",
              "      <td>16.610432</td>\n",
              "      <td>16.713923</td>\n",
              "      <td>16.327061</td>\n",
              "      <td>16.593182</td>\n",
              "      <td>36021200</td>\n",
              "      <td>0.0</td>\n",
              "      <td>0.0</td>\n",
              "    </tr>\n",
              "    <tr>\n",
              "      <th>2016-10-07</th>\n",
              "      <td>16.704068</td>\n",
              "      <td>16.748421</td>\n",
              "      <td>16.425626</td>\n",
              "      <td>16.472443</td>\n",
              "      <td>28626000</td>\n",
              "      <td>0.0</td>\n",
              "      <td>0.0</td>\n",
              "    </tr>\n",
              "    <tr>\n",
              "      <th>...</th>\n",
              "      <td>...</td>\n",
              "      <td>...</td>\n",
              "      <td>...</td>\n",
              "      <td>...</td>\n",
              "      <td>...</td>\n",
              "      <td>...</td>\n",
              "      <td>...</td>\n",
              "    </tr>\n",
              "    <tr>\n",
              "      <th>2021-10-11</th>\n",
              "      <td>205.750000</td>\n",
              "      <td>210.630005</td>\n",
              "      <td>205.110001</td>\n",
              "      <td>206.949997</td>\n",
              "      <td>16338800</td>\n",
              "      <td>0.0</td>\n",
              "      <td>0.0</td>\n",
              "    </tr>\n",
              "    <tr>\n",
              "      <th>2021-10-12</th>\n",
              "      <td>208.279999</td>\n",
              "      <td>210.570007</td>\n",
              "      <td>205.279999</td>\n",
              "      <td>206.710007</td>\n",
              "      <td>16213400</td>\n",
              "      <td>0.0</td>\n",
              "      <td>0.0</td>\n",
              "    </tr>\n",
              "    <tr>\n",
              "      <th>2021-10-13</th>\n",
              "      <td>209.179993</td>\n",
              "      <td>209.899994</td>\n",
              "      <td>207.130005</td>\n",
              "      <td>209.389999</td>\n",
              "      <td>18065200</td>\n",
              "      <td>0.0</td>\n",
              "      <td>0.0</td>\n",
              "    </tr>\n",
              "    <tr>\n",
              "      <th>2021-10-14</th>\n",
              "      <td>212.880005</td>\n",
              "      <td>217.550003</td>\n",
              "      <td>211.220001</td>\n",
              "      <td>217.460007</td>\n",
              "      <td>24358900</td>\n",
              "      <td>0.0</td>\n",
              "      <td>0.0</td>\n",
              "    </tr>\n",
              "    <tr>\n",
              "      <th>2021-10-15</th>\n",
              "      <td>218.100006</td>\n",
              "      <td>219.309998</td>\n",
              "      <td>216.619995</td>\n",
              "      <td>218.619995</td>\n",
              "      <td>22679500</td>\n",
              "      <td>0.0</td>\n",
              "      <td>0.0</td>\n",
              "    </tr>\n",
              "  </tbody>\n",
              "</table>\n",
              "<p>1269 rows × 7 columns</p>\n",
              "</div>"
            ],
            "text/plain": [
              "                  Open        High  ...  Dividends  Stock Splits\n",
              "Date                                ...                         \n",
              "2016-10-03   16.883948   17.127894  ...        0.0           0.0\n",
              "2016-10-04   16.891345   17.174714  ...        0.0           0.0\n",
              "2016-10-05   16.972655   17.145142  ...        0.0           0.0\n",
              "2016-10-06   16.610432   16.713923  ...        0.0           0.0\n",
              "2016-10-07   16.704068   16.748421  ...        0.0           0.0\n",
              "...                ...         ...  ...        ...           ...\n",
              "2021-10-11  205.750000  210.630005  ...        0.0           0.0\n",
              "2021-10-12  208.279999  210.570007  ...        0.0           0.0\n",
              "2021-10-13  209.179993  209.899994  ...        0.0           0.0\n",
              "2021-10-14  212.880005  217.550003  ...        0.0           0.0\n",
              "2021-10-15  218.100006  219.309998  ...        0.0           0.0\n",
              "\n",
              "[1269 rows x 7 columns]"
            ]
          },
          "metadata": {},
          "execution_count": 12
        }
      ]
    },
    {
      "cell_type": "code",
      "metadata": {
        "colab": {
          "base_uri": "https://localhost:8080/",
          "height": 236
        },
        "id": "v-mrE-GCTDp0",
        "outputId": "d03f4530-1117-4406-bed4-7a06c4b0d8f6"
      },
      "source": [
        "# Let's see the tail of our data\n",
        "stock_data.tail()"
      ],
      "execution_count": 13,
      "outputs": [
        {
          "output_type": "execute_result",
          "data": {
            "text/html": [
              "<div>\n",
              "<style scoped>\n",
              "    .dataframe tbody tr th:only-of-type {\n",
              "        vertical-align: middle;\n",
              "    }\n",
              "\n",
              "    .dataframe tbody tr th {\n",
              "        vertical-align: top;\n",
              "    }\n",
              "\n",
              "    .dataframe thead th {\n",
              "        text-align: right;\n",
              "    }\n",
              "</style>\n",
              "<table border=\"1\" class=\"dataframe\">\n",
              "  <thead>\n",
              "    <tr style=\"text-align: right;\">\n",
              "      <th></th>\n",
              "      <th>Open</th>\n",
              "      <th>High</th>\n",
              "      <th>Low</th>\n",
              "      <th>Close</th>\n",
              "      <th>Volume</th>\n",
              "      <th>Dividends</th>\n",
              "      <th>Stock Splits</th>\n",
              "    </tr>\n",
              "    <tr>\n",
              "      <th>Date</th>\n",
              "      <th></th>\n",
              "      <th></th>\n",
              "      <th></th>\n",
              "      <th></th>\n",
              "      <th></th>\n",
              "      <th></th>\n",
              "      <th></th>\n",
              "    </tr>\n",
              "  </thead>\n",
              "  <tbody>\n",
              "    <tr>\n",
              "      <th>2021-10-11</th>\n",
              "      <td>205.750000</td>\n",
              "      <td>210.630005</td>\n",
              "      <td>205.110001</td>\n",
              "      <td>206.949997</td>\n",
              "      <td>16338800</td>\n",
              "      <td>0.0</td>\n",
              "      <td>0.0</td>\n",
              "    </tr>\n",
              "    <tr>\n",
              "      <th>2021-10-12</th>\n",
              "      <td>208.279999</td>\n",
              "      <td>210.570007</td>\n",
              "      <td>205.279999</td>\n",
              "      <td>206.710007</td>\n",
              "      <td>16213400</td>\n",
              "      <td>0.0</td>\n",
              "      <td>0.0</td>\n",
              "    </tr>\n",
              "    <tr>\n",
              "      <th>2021-10-13</th>\n",
              "      <td>209.179993</td>\n",
              "      <td>209.899994</td>\n",
              "      <td>207.130005</td>\n",
              "      <td>209.389999</td>\n",
              "      <td>18065200</td>\n",
              "      <td>0.0</td>\n",
              "      <td>0.0</td>\n",
              "    </tr>\n",
              "    <tr>\n",
              "      <th>2021-10-14</th>\n",
              "      <td>212.880005</td>\n",
              "      <td>217.550003</td>\n",
              "      <td>211.220001</td>\n",
              "      <td>217.460007</td>\n",
              "      <td>24358900</td>\n",
              "      <td>0.0</td>\n",
              "      <td>0.0</td>\n",
              "    </tr>\n",
              "    <tr>\n",
              "      <th>2021-10-15</th>\n",
              "      <td>218.100006</td>\n",
              "      <td>219.309998</td>\n",
              "      <td>216.619995</td>\n",
              "      <td>218.619995</td>\n",
              "      <td>22679500</td>\n",
              "      <td>0.0</td>\n",
              "      <td>0.0</td>\n",
              "    </tr>\n",
              "  </tbody>\n",
              "</table>\n",
              "</div>"
            ],
            "text/plain": [
              "                  Open        High  ...  Dividends  Stock Splits\n",
              "Date                                ...                         \n",
              "2021-10-11  205.750000  210.630005  ...        0.0           0.0\n",
              "2021-10-12  208.279999  210.570007  ...        0.0           0.0\n",
              "2021-10-13  209.179993  209.899994  ...        0.0           0.0\n",
              "2021-10-14  212.880005  217.550003  ...        0.0           0.0\n",
              "2021-10-15  218.100006  219.309998  ...        0.0           0.0\n",
              "\n",
              "[5 rows x 7 columns]"
            ]
          },
          "metadata": {},
          "execution_count": 13
        }
      ]
    },
    {
      "cell_type": "code",
      "metadata": {
        "id": "NE49mUQCH0Gi"
      },
      "source": [
        "# Let's see Nvidia's Option Chain\n",
        "#nvidia_stock_prices.option_chain()"
      ],
      "execution_count": null,
      "outputs": []
    },
    {
      "cell_type": "code",
      "metadata": {
        "colab": {
          "base_uri": "https://localhost:8080/"
        },
        "id": "GBpDmbThS7p0",
        "outputId": "1a7bc296-6486-4be8-c42e-6023c72603c1"
      },
      "source": [
        "# Let's see how many records we have\n",
        "stock_data_len = stock_data['High'].count()\n",
        "print(stock_data_len)"
      ],
      "execution_count": 45,
      "outputs": [
        {
          "output_type": "stream",
          "name": "stdout",
          "text": [
            "1269\n"
          ]
        }
      ]
    },
    {
      "cell_type": "code",
      "metadata": {
        "colab": {
          "base_uri": "https://localhost:8080/",
          "height": 372
        },
        "id": "z0yShNgSV7oB",
        "outputId": "12d81323-6bc8-4aa0-d6d8-3233c23d4fc1"
      },
      "source": [
        "# Let's plot our training data\n",
        "\n",
        "# Creating a column as date\n",
        "stock_data['TradeDate']=stock_data.index\n",
        " \n",
        "# Plotting the stock prices\n",
        "%matplotlib inline\n",
        "stock_data.plot(x='TradeDate', y='Close', kind='line', figsize=(20,6), rot=20)"
      ],
      "execution_count": null,
      "outputs": [
        {
          "data": {
            "text/plain": [
              "<matplotlib.axes._subplots.AxesSubplot at 0x7f31a9a34210>"
            ]
          },
          "execution_count": 16,
          "metadata": {},
          "output_type": "execute_result"
        },
        {
          "data": {
            "image/png": "[encoded data removed]",
            "text/plain": [
              "<Figure size 1440x432 with 1 Axes>"
            ]
          },
          "metadata": {},
          "output_type": "display_data"
        }
      ]
    },
    {
      "cell_type": "markdown",
      "metadata": {
        "id": "xrQtPISNojL8"
      },
      "source": [
        "# Intro to iloc[ ]\n",
        "see: https://www.shanelynn.ie/pandas-iloc-loc-select-rows-and-columns-dataframe/\n",
        "\n",
        "#### **Multiple row and column selections using iloc and DataFrame**\n",
        "```\n",
        "data.iloc[0:5] # first five rows of dataframe\n",
        "data.iloc[:, 0:2] # first two columns of data frame with all rows\n",
        "data.iloc[[0,3,6,24], [0,5,6]] # 1st, 4th, 7th, 25th row + 1st 6th 7th columns.\n",
        "data.iloc[0:5, 5:8] # first 5 rows and 5th, 6th, 7th columns of data frame\n",
        "```\n",
        " \n",
        "#### **Single selections using iloc and DataFrame**\n",
        "#### **Rows:**\n",
        "```\n",
        "data.iloc[0] # first row of data frame - Note a Series data type output.\n",
        "data.iloc[1] # second row of data frame \n",
        "data.iloc[-1] # last row of data frame \n",
        "```\n",
        "#### **Columns:**\n",
        "```\n",
        "data.iloc[:,0] # first column of data frame \n",
        "data.iloc[:,1] # second column of data frame \n",
        "data.iloc[:,-1] # last column of data frame\n",
        "```"
      ]
    },
    {
      "cell_type": "markdown",
      "metadata": {
        "id": "eI-uOK3tpQqy"
      },
      "source": [
        "# Let's get the high prices"
      ]
    },
    {
      "cell_type": "code",
      "metadata": {
        "colab": {
          "base_uri": "https://localhost:8080/"
        },
        "id": "-nL5v6HroE96",
        "outputId": "011bedfa-17ee-421b-e776-765212cde4a9"
      },
      "source": [
        "# Let's get the high prices only which is in column 1\n",
        "# [:, 1:2] === means we get all rows, column 1 inclusive, column 2 exclusive \n",
        "# we are taking a slice of the columns and all rows.\n",
        "# we take all rows and the first column which is our high price\n",
        "# note: column 0 = open price\n",
        "# note: column 1 = high price\n",
        "high_prices = stock_data.iloc[:, 1:2].values\n",
        "\n",
        "# Let's print our high prices\n",
        "print(high_prices)"
      ],
      "execution_count": 46,
      "outputs": [
        {
          "output_type": "stream",
          "name": "stdout",
          "text": [
            "[[ 17.12789216]\n",
            " [ 17.17470394]\n",
            " [ 17.1451462 ]\n",
            " ...\n",
            " [209.8999939 ]\n",
            " [217.55000305]\n",
            " [219.30999756]]\n"
          ]
        }
      ]
    },
    {
      "cell_type": "code",
      "metadata": {
        "id": "K2GYm5wjS-jw"
      },
      "source": [
        "# Use this instead if you want to train the model on closing prices instead of the high price\n",
        "#close_prices = stock_data.iloc[:, 3:4].values\n",
        "#print(close_prices)\n",
        "\n"
      ],
      "execution_count": null,
      "outputs": []
    },
    {
      "cell_type": "markdown",
      "metadata": {
        "id": "XgO6BXgUTS1b"
      },
      "source": [
        "# Handling missing prices on weekdays that are Holidays (non-trading days)\n",
        "There will be some weekdays that may occur on public holidays, so they will be non-trading days, thus, no price will be available. \n",
        "\n",
        "I will handle this occurance by filling the missing prices with the latest available prices.\n",
        "\n",
        "Below are some example for frequency parameter:\n",
        "```\n",
        "Alias Description\n",
        "\n",
        "B business day frequency\n",
        "\n",
        "C custom business day frequency\n",
        "\n",
        "D calendar day frequency\n",
        "\n",
        "W weekly frequency\n",
        "\n",
        "M month end frequency\n",
        "\n",
        "```\n",
        "##### See https://pandas.pydata.org/pandas-docs/stable/user_guide/timeseries.html#timeseries-offset-aliases"
      ]
    },
    {
      "cell_type": "code",
      "metadata": {
        "colab": {
          "base_uri": "https://localhost:8080/"
        },
        "id": "snGwC6sMTQsq",
        "outputId": "e4e5a219-3159-4e9f-87cb-844155d248e2"
      },
      "source": [
        "all_bussinessdays = pd.date_range(start=start_date, end=end_date, freq='B')\n",
        "print(all_bussinessdays)"
      ],
      "execution_count": 47,
      "outputs": [
        {
          "output_type": "stream",
          "name": "stdout",
          "text": [
            "DatetimeIndex(['2016-10-03', '2016-10-04', '2016-10-05', '2016-10-06',\n",
            "               '2016-10-07', '2016-10-10', '2016-10-11', '2016-10-12',\n",
            "               '2016-10-13', '2016-10-14',\n",
            "               ...\n",
            "               '2021-10-04', '2021-10-05', '2021-10-06', '2021-10-07',\n",
            "               '2021-10-08', '2021-10-11', '2021-10-12', '2021-10-13',\n",
            "               '2021-10-14', '2021-10-15'],\n",
            "              dtype='datetime64[ns]', length=1315, freq='B')\n"
          ]
        }
      ]
    },
    {
      "cell_type": "code",
      "metadata": {
        "id": "REEw9mNno390"
      },
      "source": [
        "# Let's reindex\n",
        "# reindex(): Conform Series/DataFrame to new index with optional filling logic.\n",
        "# filling logic used is ffill: propagates last valid observation forward to next valid\n",
        "high_prices = stock_data.reindex(all_bussinessdays)\n",
        "high_prices = stock_data.fillna(method='ffill')"
      ],
      "execution_count": 48,
      "outputs": []
    },
    {
      "cell_type": "code",
      "metadata": {
        "id": "42c7XxEnTUm2"
      },
      "source": [
        "# use this for closing prices instead of high price\n",
        "#close_prices = stock_data.reindex(all_bussinessdays)\n",
        "#close_prices = stock_data.fillna(method='ffill')"
      ],
      "execution_count": null,
      "outputs": []
    },
    {
      "cell_type": "markdown",
      "metadata": {
        "id": "iZ6on02_LTAr"
      },
      "source": [
        "# Let's store the 'high price' as training_set\n",
        "\n",
        "Pre-Process the data = Feature scaling\n",
        "\n",
        "We need to preprocess the data to prepare it for the LSTM model."
      ]
    },
    {
      "cell_type": "code",
      "metadata": {
        "id": "VvOVChzipCwi"
      },
      "source": [
        "# I'm ready to store the 'high price' in an array called 'training_set' which I will use to train my model\n",
        "training_set = high_prices.iloc[:, 1:2].values"
      ],
      "execution_count": 49,
      "outputs": []
    },
    {
      "cell_type": "code",
      "metadata": {
        "colab": {
          "base_uri": "https://localhost:8080/"
        },
        "id": "TphM7d3HqVWc",
        "outputId": "625aae75-2a1f-4371-f41c-e54e9533823d"
      },
      "source": [
        "# Let's print the training set\n",
        "training_set"
      ],
      "execution_count": 17,
      "outputs": [
        {
          "output_type": "execute_result",
          "data": {
            "text/plain": [
              "array([[ 17.1278941 ],\n",
              "       [ 17.17470588],\n",
              "       [ 17.14514036],\n",
              "       ...,\n",
              "       [209.8999939 ],\n",
              "       [217.55000305],\n",
              "       [219.30999756]])"
            ]
          },
          "metadata": {},
          "execution_count": 17
        }
      ]
    },
    {
      "cell_type": "code",
      "metadata": {
        "id": "VYuu2Lj7TcB8"
      },
      "source": [
        "# use this for closing prices instead of high price\n",
        "#training_set = close_prices.iloc[:, 3:4].values"
      ],
      "execution_count": null,
      "outputs": []
    },
    {
      "cell_type": "markdown",
      "metadata": {
        "id": "gbh-uw5A5T3I"
      },
      "source": [
        "# Let's now normalize our training data\n",
        "\n",
        "Normalize data:\n",
        "\n",
        "* Most of the times data is noisy. \n",
        "* Data comes in mixed scale and range. \n",
        "* Normalization helps to change the range and scale of data thereby bring uniformity to data.\n",
        "\n",
        "Purpose of Normalization\n",
        "\n",
        "* a key component in Data science for data pre-processing. \n",
        "* Most of the times data from multiple sources will be merged before the start of analysis. \n",
        "* example: \n",
        "  * Data has 'baggage' as one feature. \n",
        "  * The values can be either be in lbs or kgs (units of measurement). \n",
        "  * It is important to bring to the same scale before considering this feature for analysis otherwise it will end up giving in wrong signals.\n",
        "  * Normalization helps in bringing to the same scale.\n",
        "\n",
        "see: https://medium.com/transparent-deep-learning/normalization-in-machine-learning-and-deep-learning-56eb33eb0165\n",
        "\n",
        "\n",
        "# Here is how we Normalized our data\n",
        "#####**MinMaxScaler(feature_range = (0, 1))**\n",
        "```\n",
        "Syntax: def __init__(feature_range=(0, 1), copy=True)\n",
        "\n",
        "Transform features by scaling each feature to a given range.\n",
        "```\n",
        "This estimator scales and translates each feature individually such\n",
        "that it is in the given range on the training set, e.g. between\n",
        "zero and one.\n",
        "\n",
        "*The transformation is given by:*\n",
        "\n",
        "`\n",
        "X_std = (X - X.min(axis=0)) / (X.max(axis=0) - X.min(axis=0))\n",
        "X_scaled = X_std * (max - min) + min\n",
        "where min, max = feature_range.\n",
        "`\n",
        "\n",
        "*The transformation is calculated as:*\n",
        "\n",
        "`\n",
        "X_scaled = scale * X + min - X.min(axis=0) * scale\n",
        "where scale = (max - min) / (X.max(axis=0) - X.min(axis=0))\n",
        "`\n",
        "\n",
        "This transformation is often used as an alternative to zero mean.\n",
        "\n",
        "\n",
        "##### **training_set_scaled = sc.fit_transform(training_set)**\n",
        "\n",
        "```\n",
        "Syntax: def fit_transform(X, y=None, **fit_params)\n",
        "\n",
        "Fit to data, then transform it.\n",
        "```\n",
        "\n",
        "Fits transformer to X and y with optional parameters fit_params\n",
        "and returns a transformed version of X."
      ]
    },
    {
      "cell_type": "markdown",
      "metadata": {
        "id": "IHGrv3ONObPq"
      },
      "source": [
        "# **Importance of Data Scaling**\n",
        "see: https://machinelearningmastery.com/how-to-transform-target-variables-for-regression-with-scikit-learn/\n",
        "\n",
        "see: https://machinelearningmastery.com/standardscaler-and-minmaxscaler-transforms-in-python/\n",
        "\n",
        "It is common to have data where the scale of values differs from variable to variable.\n",
        "\n",
        "For example, one variable may be in feet, another in meters, and so on.\n",
        "\n",
        "Some machine learning algorithms perform much better if all of the variables are scaled to the same range, such as scaling all variables to values between 0 and 1, called **normalization**.\n",
        "\n",
        "The two most popular techniques for scaling numerical data prior to modeling are **normalization** and **standardization**. \n",
        "* Normalization scales each input variable separately to the range 0-1, which is the range for floating-point values where we have the most precision. \n",
        "* Standardization scales each input variable separately by subtracting the mean (called centering) and dividing by the standard deviation to shift the distribution to have a mean of zero and a standard deviation of one.\n",
        "\n",
        "Scaling input and output variables is a critical step in using neural network models.\n",
        "\n",
        "**Data Normalization**\n",
        "\n",
        "Normalization is a rescaling of the data from the original range so that all values are within the new range of 0 and 1.\n",
        "\n",
        "Normalization requires that you know or are able to accurately estimate the minimum and maximum observable values. You may be able to estimate these values from your available data.\n",
        "\n",
        "A value is normalized as follows:\n",
        "\n",
        "`y = (x – min) / (max – min)`\n",
        "\n",
        "* Where the minimum and maximum values pertain to the value x being normalized.\n",
        "\n",
        "* For example, for a dataset, we could guesstimate the min and max observable values as 30 and -10. We can then normalize any value, like 18.8, as follows:\n",
        "```\n",
        "y = (x – min) / (max – min)\n",
        "y = (18.8 – (-10)) / (30 – (-10))\n",
        "y = 28.8 / 40\n",
        "y = 0.72\n",
        "```\n",
        "\n",
        "You can normalize your dataset using the **scikit-learn object MinMaxScaler**.\n",
        "\n",
        "* **Fit the scaler using available training data**. For normalization, this means the training data will be used to estimate the minimum and maximum observable values. This is done by calling the fit() function.\n",
        "* **Apply the scale to training data**. This means you can use the normalized data to train your model. This is done by calling the transform() function.\n",
        "* **Apply the scale to data going forward**. This means you can prepare new data in the future on which you want to make predictions."
      ]
    },
    {
      "cell_type": "code",
      "metadata": {
        "colab": {
          "base_uri": "https://localhost:8080/"
        },
        "id": "BKx8HrhxTgKb",
        "outputId": "ad5db357-cdb2-46e6-e5cd-15f84fd2817d"
      },
      "source": [
        "from sklearn.preprocessing import MinMaxScaler\n",
        "sc = MinMaxScaler(feature_range = (0, 1))\n",
        "training_set_scaled = sc.fit_transform(training_set)\n",
        "print(training_set_scaled.shape)"
      ],
      "execution_count": 50,
      "outputs": [
        {
          "output_type": "stream",
          "name": "stdout",
          "text": [
            "(1269, 1)\n"
          ]
        }
      ]
    },
    {
      "cell_type": "code",
      "metadata": {
        "colab": {
          "base_uri": "https://localhost:8080/"
        },
        "id": "5T47hhewTGTI",
        "outputId": "3c0beb36-6326-4bc2-c7aa-d575f2062a9a"
      },
      "source": [
        "# For review, let's see the original training set\n",
        "training_set"
      ],
      "execution_count": 51,
      "outputs": [
        {
          "output_type": "execute_result",
          "data": {
            "text/plain": [
              "array([[ 17.12789216],\n",
              "       [ 17.17470394],\n",
              "       [ 17.1451462 ],\n",
              "       ...,\n",
              "       [209.8999939 ],\n",
              "       [217.55000305],\n",
              "       [219.30999756]])"
            ]
          },
          "metadata": {},
          "execution_count": 51
        }
      ]
    },
    {
      "cell_type": "code",
      "metadata": {
        "colab": {
          "base_uri": "https://localhost:8080/"
        },
        "id": "FCzO2xmOTIfq",
        "outputId": "18b8ebf4-e9e9-4560-dcc0-5f0cf953fc04"
      },
      "source": [
        "# Let's see the training set after tranformation to a range between 0-1\n",
        "training_set_scaled"
      ],
      "execution_count": 21,
      "outputs": [
        {
          "output_type": "execute_result",
          "data": {
            "text/plain": [
              "array([[0.00426837],\n",
              "       [0.00448698],\n",
              "       [0.00434891],\n",
              "       ...,\n",
              "       [0.90433383],\n",
              "       [0.94005222],\n",
              "       [0.94826975]])"
            ]
          },
          "metadata": {},
          "execution_count": 21
        }
      ]
    },
    {
      "cell_type": "code",
      "metadata": {
        "colab": {
          "base_uri": "https://localhost:8080/"
        },
        "id": "UmTkWZkpWLxo",
        "outputId": "2542637d-c6bd-4ff0-ed37-1eaca24cf965"
      },
      "source": [
        "# Let's see the length of the training set post-scaling\n",
        "len(training_set_scaled)"
      ],
      "execution_count": null,
      "outputs": [
        {
          "data": {
            "text/plain": [
              "1269"
            ]
          },
          "execution_count": 26,
          "metadata": {},
          "output_type": "execute_result"
        }
      ]
    },
    {
      "cell_type": "code",
      "metadata": {
        "colab": {
          "base_uri": "https://localhost:8080/"
        },
        "id": "yohKUBoIWIz6",
        "outputId": "0f9879e6-96f0-413a-eef0-a43bc4e8e39d"
      },
      "source": [
        "# Let's see the length of the stock data (pre-scaled)\n",
        "# notice, it matches the scaled training set\n",
        "len(stock_data)"
      ],
      "execution_count": null,
      "outputs": [
        {
          "data": {
            "text/plain": [
              "1269"
            ]
          },
          "execution_count": 27,
          "metadata": {},
          "output_type": "execute_result"
        }
      ]
    },
    {
      "cell_type": "markdown",
      "metadata": {
        "id": "4nKY6Y-vPj-s"
      },
      "source": [
        "# Creating Data with Timesteps\n",
        "\n",
        "**LSTMs** expect the data in a specific format, usually a 3D tensor. \n",
        "\n",
        "* I start by creating data with 60 days and \n",
        "* converting it into an array using NumPy. \n",
        "* then, I convert the data into a 3D array with\n",
        "  * feature_set samples, \n",
        "  * 60 days and \n",
        "  * 1 feature at each step"
      ]
    },
    {
      "cell_type": "code",
      "metadata": {
        "id": "hSpogcmTTkt_"
      },
      "source": [
        "# We will make our training set into groups of 60 and we will call the 'high prices' features(=inputs)\n",
        "features = [] # this is our inputs(= true high prices = training data)\n",
        "labels = [] # this is our outputs(= predicted high prices)\n",
        "\n",
        "for i in range(13, len(stock_data)):\n",
        "    features.append(training_set_scaled[i-13:i, 0])\n",
        "    labels.append(training_set_scaled[i, 0])\n",
        "    \n",
        "\n",
        "# Note: this was recommend instead of the above code\n",
        "# https://thinkingneuron.com/predicting-stock-prices-using-deep-learning-lstm-model-in-python/\n",
        "# I found this to reduce my accuracy, but I keep it in case I find a use for it\n",
        "#FutureTimeSteps = 5 \n",
        "#for i in range(60, stock_data_len-FutureTimeSteps, 1):\n",
        "#    features.append(training_set_scaled[i-60: i])\n",
        "#    labels.append(training_set_scaled[i: i+FutureTimeSteps])\n",
        "\n",
        "# Let's convert the features and labels to arrays\n",
        "features = np.array(features)\n",
        "labels = np.array(labels)"
      ],
      "execution_count": 52,
      "outputs": []
    },
    {
      "cell_type": "code",
      "metadata": {
        "id": "JeP3O2fxRU18"
      },
      "source": [
        "# Let's see the training data before reshaping it\n",
        "#features"
      ],
      "execution_count": null,
      "outputs": []
    },
    {
      "cell_type": "code",
      "metadata": {
        "id": "xgI0kD1GMiku"
      },
      "source": [
        "# Let's see the training data length\n",
        "#len(features)"
      ],
      "execution_count": null,
      "outputs": []
    },
    {
      "cell_type": "code",
      "metadata": {
        "id": "pe9S7eOuevPg"
      },
      "source": [
        "#Let's see the training data current 2D shapeness\n",
        "#features.shape"
      ],
      "execution_count": null,
      "outputs": []
    },
    {
      "cell_type": "markdown",
      "metadata": {
        "id": "ZBGY5FqHaJAX"
      },
      "source": [
        "#### **Reshaping our 2D Tensor to a 3D tensor**\n",
        "At this point in the program, `features.shape =(14812, 60)` is 2D tensor.\n",
        "\n",
        "But we need a 3D tensor for tensorflow!\n",
        "\n",
        "We can reshape like so: \n",
        "\n",
        "  * `reshape(array to be reshaped, new shape)`\n",
        "\n",
        "    * `The array to be reshaped is our 2D array (14812,60)`\n",
        "    * The new shape will use these parameters: \n",
        "      * `features.shape[0]= 14812`\n",
        "      * `features.shape[1] = 60`\n",
        "\n",
        "Thus, features.shape is now a 3d tensor = `(14812, 60, 1)`\n"
      ]
    },
    {
      "cell_type": "markdown",
      "metadata": {
        "id": "2f00xjjukpRZ"
      },
      "source": [
        "#**Intro to reshape(-1,1)**\n",
        "```\n",
        "import numpy as np\n",
        "a = np.array([[1,2,3],[4,5,6]]) #is two rows and three columns of data, two-dimensional\n",
        "b = np.array([1,2]) #is one-dimensional data\n",
        "c = b.reshape(-1,1) #c has become two-dimensional data, it has become two rows and one column\n",
        "d = b.reshape(1,-1) #d becomes a row and two columns of data,\n",
        "print('b.shape is {0}'.format(b.shape))\n",
        "print(b)\n",
        "print('c.shape is {0}'.format(c.shape))\n",
        "print(c)\n",
        "\n",
        "#OutPut\n",
        "b.shape is (2,)\n",
        "[1 2]\n",
        "c.shape is (2, 1)\n",
        "[[1]\n",
        " [2]]\n",
        "```\n"
      ]
    },
    {
      "cell_type": "code",
      "metadata": {
        "id": "r1Yo_JPOVqkE"
      },
      "source": [
        "# Let's reshape our feature to a 3D tensor\n",
        "features = np.reshape(features, (features.shape[0], features.shape[1], 1))"
      ],
      "execution_count": 53,
      "outputs": []
    },
    {
      "cell_type": "code",
      "metadata": {
        "id": "lm4iPg8YSBSk"
      },
      "source": [
        "# Let's see the training data's new 3D tensor shape\n",
        "# the training data is broken into 60 groups of 1 column\n",
        "#features.shape"
      ],
      "execution_count": null,
      "outputs": []
    },
    {
      "cell_type": "code",
      "metadata": {
        "colab": {
          "base_uri": "https://localhost:8080/"
        },
        "id": "mC2-Iu0-RNUb",
        "outputId": "b3152f62-0724-4a53-f66c-aa1b4e005383"
      },
      "source": [
        "# Let's see the newly reshaped training data\n",
        "features"
      ],
      "execution_count": 54,
      "outputs": [
        {
          "output_type": "execute_result",
          "data": {
            "text/plain": [
              "array([[[4.26834754e-03],\n",
              "        [4.48691477e-03],\n",
              "        [4.34890776e-03],\n",
              "        ...,\n",
              "        [9.20399185e-04],\n",
              "        [1.36907273e-03],\n",
              "        [1.12745473e-03]],\n",
              "\n",
              "       [[4.48691477e-03],\n",
              "        [4.34890776e-03],\n",
              "        [2.33550934e-03],\n",
              "        ...,\n",
              "        [1.36907273e-03],\n",
              "        [1.12745473e-03],\n",
              "        [2.47356608e-03]],\n",
              "\n",
              "       [[4.34890776e-03],\n",
              "        [2.33550934e-03],\n",
              "        [2.49656486e-03],\n",
              "        ...,\n",
              "        [1.12745473e-03],\n",
              "        [2.47356608e-03],\n",
              "        [2.13994029e-03]],\n",
              "\n",
              "       ...,\n",
              "\n",
              "       [[9.58448344e-01],\n",
              "        [9.42106616e-01],\n",
              "        [9.24364155e-01],\n",
              "        ...,\n",
              "        [9.14419024e-01],\n",
              "        [9.07742295e-01],\n",
              "        [9.07462162e-01]],\n",
              "\n",
              "       [[9.42106616e-01],\n",
              "        [9.24364155e-01],\n",
              "        [9.05594494e-01],\n",
              "        ...,\n",
              "        [9.07742295e-01],\n",
              "        [9.07462162e-01],\n",
              "        [9.04333826e-01]],\n",
              "\n",
              "       [[9.24364155e-01],\n",
              "        [9.05594494e-01],\n",
              "        [9.07882361e-01],\n",
              "        ...,\n",
              "        [9.07462162e-01],\n",
              "        [9.04333826e-01],\n",
              "        [9.40052216e-01]]])"
            ]
          },
          "metadata": {},
          "execution_count": 54
        }
      ]
    },
    {
      "cell_type": "markdown",
      "metadata": {
        "id": "ssB-h7y45dgf"
      },
      "source": [
        "#**Let's build our model / Create the LSTM network**\n",
        "Let's create a sequenced LSTM network with 50 units. Also the net includes some dropout layers with 0.20 which means that 20% of the neurons will be dropped.\n",
        "\n",
        "####**Sequential:** \n",
        "for initializing the neural network with all the layers\n",
        "\n",
        "* **LSTM:** for adding the Long Short-Term Memory layer\n",
        "\n",
        "* **Dropout:** for adding dropout layers that prevent overfitting\n",
        "\n",
        "* **Dense:** for adding a densely connected neural network layer\n",
        "\n",
        "\n",
        "\n",
        "---\n",
        "**Intuition:**\n",
        "* add the LSTM layer with the following arguments:\n",
        "  * 50 units = the dimensionality of the output space\n",
        "  * return_sequences=True \n",
        "  * determines whether to return the last output in the output sequence, or the full sequence\n",
        "  * input_shape = the shape of our training set\n",
        "* add a few Dropout layers to prevent overfitting\n",
        "  * In defining the Dropout layers, we specify 0.2, meaning that 20% of the layers will be dropped. \n",
        "* add the Dense layer that specifies the output of 1 unit. \n",
        "* compile our model using the `adam` optimizer and set the loss as the `mean_squarred_error`. \n",
        "  * This will compute the mean of the squared errors. \n",
        "* fit the model to run on `20 epochs` with a `batch size of 32`. "
      ]
    },
    {
      "cell_type": "markdown",
      "metadata": {
        "id": "af2JhGn1Ffgc"
      },
      "source": [
        "#**Overfitting and Dropout on RNN, GRU, LSTM Models**\n",
        "\n",
        "Overfitting is a serious sin in machine learning. When you train a model on your training data and apply to the test data, the accuracy of the test data usually is less than that of the training data. We know this is because the model has fitted the training data too well, including the noises in the training data. However, if overfitting just makes your prediction for the test data less effective, what’s the big deal? Why does academia and practitioners devoted decades of work to prevent overfitting?\n",
        "\n",
        "The real issue is that overfitting not only makes your model inefficient, it could make your prediction very wrong. Suppose your final model has ten variables, eight of which capturing the real patterns and the other two variables, noises. In other words, the two variables overfit noises and are useless. Suppose you are going to predict new data with your ten-variable model, and suppose the new values for the two variables are large. Guess what will happen? Your prediction will be very wrong due to the two variables and the large values in the new data. So overfitting does not just make your model ineffective, they can make your prediction very wrong.\n",
        "\n",
        "**Deep learning uses the dropout technique to control overfitting.** The dropout technique randomly drops or deactivates some neurons for a layer during each iteration. It is like some weights are set to zero. So in each iteration the model looks at a slightly different structure of itself to optimize the model. See [“Explaining Deep Learning in a Regression-Friendly Way”](https://levelup.gitconnected.com/a-tutorial-to-build-from-regression-to-deep-learning-b7354240d2d5) for more detail.\n",
        "\n",
        "Handling dropout in RNN/LSTM/GRU is also a research topic. In a feedforward neural network, dropping neurons is easier because there is no connectivity between neurons of the same layer. However, in RNN/LSTM/GRU, dropping time steps harms the ability to carry informative signals across time. What are the remedies? Pham et al. (2013) suggest applying dropout only between layers in deep-RNNs and not between sequence positions. Gal and Ghahramani (2015) suggests applying dropout to all the components of the RNN (both recurrent and non-recurrent), but retain the same dropout mask across time steps. [This paper provides a good review.](https://arxiv.org/pdf/1409.2329.pdf)\n",
        "\n",
        "Source: https://medium.com/swlh/a-technical-guide-on-rnn-lstm-gru-for-stock-price-prediction-bce2f7f30346"
      ]
    },
    {
      "cell_type": "code",
      "metadata": {
        "id": "7f4iuRVoTs7l"
      },
      "source": [
        "# Let's now import tensor for so we can build our model\n",
        "%tensorflow_version 2.x\n",
        "import tensorflow as tf"
      ],
      "execution_count": 55,
      "outputs": []
    },
    {
      "cell_type": "code",
      "metadata": {
        "id": "2X6QXPNEptrN"
      },
      "source": [
        "from tensorflow import keras"
      ],
      "execution_count": 56,
      "outputs": []
    },
    {
      "cell_type": "code",
      "metadata": {
        "id": "MghNBNNYTwcO"
      },
      "source": [
        "# Let's build our model\n",
        "model = tf.keras.models.Sequential([\n",
        "    tf.keras.layers.LSTM(units = 50, return_sequences = True, input_shape = (features.shape[1], 1)), #activation = 'relu',\n",
        "    tf.keras.layers.LSTM(units = 50, return_sequences = True), #activation = 'relu'\n",
        "    tf.keras.layers.LSTM(units = 50, return_sequences = True), #activation = 'relu'\n",
        "    #tf.keras.layers.LSTM(units = 50, return_sequences = True), #activation = 'relu'\n",
        "    tf.keras.layers.LSTM(units = 50), #activation = 'relu'\n",
        "    tf.keras.layers.Dropout(0.02),\n",
        "    tf.keras.layers.Dense(units = 1)\n",
        "])"
      ],
      "execution_count": 57,
      "outputs": []
    },
    {
      "cell_type": "code",
      "metadata": {
        "colab": {
          "base_uri": "https://localhost:8080/"
        },
        "id": "N-1CXwQzUZZn",
        "outputId": "2031137d-f26f-4dad-bee3-5325160a943e"
      },
      "source": [
        "#Let's see a summary of our model\n",
        "model.summary()"
      ],
      "execution_count": 24,
      "outputs": [
        {
          "output_type": "stream",
          "name": "stdout",
          "text": [
            "Model: \"sequential\"\n",
            "_________________________________________________________________\n",
            "Layer (type)                 Output Shape              Param #   \n",
            "=================================================================\n",
            "lstm (LSTM)                  (None, 13, 50)            10400     \n",
            "_________________________________________________________________\n",
            "lstm_1 (LSTM)                (None, 13, 50)            20200     \n",
            "_________________________________________________________________\n",
            "lstm_2 (LSTM)                (None, 13, 50)            20200     \n",
            "_________________________________________________________________\n",
            "lstm_3 (LSTM)                (None, 50)                20200     \n",
            "_________________________________________________________________\n",
            "dropout (Dropout)            (None, 50)                0         \n",
            "_________________________________________________________________\n",
            "dense (Dense)                (None, 1)                 51        \n",
            "=================================================================\n",
            "Total params: 71,051\n",
            "Trainable params: 71,051\n",
            "Non-trainable params: 0\n",
            "_________________________________________________________________\n"
          ]
        }
      ]
    },
    {
      "cell_type": "code",
      "metadata": {
        "id": "dVDGzn7YUowW"
      },
      "source": [
        "# Let's plot our model\n",
        "#tf.keras.utils.plot_model(model, to_file='my_model.png')"
      ],
      "execution_count": null,
      "outputs": []
    },
    {
      "cell_type": "markdown",
      "metadata": {
        "id": "cdKUfyFS5gL6"
      },
      "source": [
        "# Let's compile our model\n",
        "\n",
        "The compilation is the final step in creating a model. Once the compilation is done, we can move on to training phase.\n",
        "\n",
        "The model will be compiled and optimized by the **adam optimizer** and set the **loss function as mean_squarred_error**\n",
        "\n",
        "see: https://www.tutorialspoint.com/keras/keras_model_compilation.htm\n",
        "\n",
        "Keras model provides a method, compile() to compile the model. The argument and default value of the compile() method is as follows:\n",
        "\n",
        "\n",
        "```\n",
        "compile(\n",
        "   optimizer, \n",
        "   loss = None, \n",
        "   metrics = None, \n",
        "   loss_weights = None, \n",
        "   sample_weight_mode = None, \n",
        "   weighted_metrics = None, \n",
        "   target_tensors = None\n",
        ")\n",
        "```\n",
        "\n",
        "The important arguments are as follows −\n",
        "```\n",
        "loss function, Optimizer, metrics\n",
        "```\n",
        "#### Example\n",
        "```\n",
        "from keras import losses \n",
        "from keras import optimizers \n",
        "from keras import metrics \n",
        "\n",
        "model.compile(loss = 'mean_squared_error',  \n",
        "   optimizer = 'sgd', metrics = [metrics.categorical_accuracy])\n",
        "```"
      ]
    },
    {
      "cell_type": "markdown",
      "metadata": {
        "id": "YpuZlQCVVR1_"
      },
      "source": [
        "In machine learning, Loss function is used to find error or deviation in the learning process. Keras requires loss function during model compilation process.\n",
        "\n",
        "Keras provides quite a few loss function in the losses module and they are as follows −\n",
        "\n",
        "* mean_squared_error\n",
        "* mean_absolute_error\n",
        "* mean_absolute_percentage_error\n",
        "* mean_squared_logarithmic_error\n",
        "* squared_hinge\n",
        "* hinge\n",
        "* categorical_hinge\n",
        "* logcosh\n",
        "* huber_loss\n",
        "* categorical_crossentropy\n",
        "* sparse_categorical_crossentropy\n",
        "* binary_crossentropy\n",
        "* kullback_leibler_divergence\n",
        "* poisson\n",
        "* cosine_proximity\n",
        "* is_categorical_crossentropy\n",
        "\n",
        "All above loss function accepts two arguments −\n",
        "\n",
        "y_true − true labels as tensors\n",
        "\n",
        "y_pred − prediction with same shape as y_true"
      ]
    },
    {
      "cell_type": "code",
      "metadata": {
        "id": "nLzRnXp6T1sU"
      },
      "source": [
        "model.compile(optimizer = 'adam', loss = 'mean_squared_error')"
      ],
      "execution_count": 58,
      "outputs": []
    },
    {
      "cell_type": "markdown",
      "metadata": {
        "id": "ezDOXYI55i5u"
      },
      "source": [
        "# **Let's (Fit our Model = Train the Model) using fit()**\n",
        "\n",
        "In statistics, a **fit** refers to how well you approximate a target function.\n",
        "\n",
        "Models are trained by NumPy arrays using fit(). \n",
        "\n",
        "The main purpose of this fit function is used to evaluate your model on training. This can be also used for graphing model performance. It has the following syntax −\n",
        "```\n",
        "model.fit(X, y, epochs = , batch_size = )\n",
        "```\n",
        "Here,\n",
        "\n",
        "`X, y` − It is a tuple to evaluate your data.\n",
        "\n",
        "`epochs` − number of times the model is needed to be evaluated during training.\n",
        "\n",
        "`batch_size` − training instances\n",
        "\n",
        "see: https://www.tutorialspoint.com/keras/keras_model_compilation.htm"
      ]
    },
    {
      "cell_type": "code",
      "metadata": {
        "id": "zq8-EhopMbaW"
      },
      "source": [
        "# os package is needed to use callback\n",
        "import os"
      ],
      "execution_count": null,
      "outputs": []
    },
    {
      "cell_type": "code",
      "metadata": {
        "id": "1qikm9jSL6B9"
      },
      "source": [
        "# See https://www.tensorflow.org/tutorials/keras/save_and_load\n",
        "# See https://www.tensorflow.org/api_docs/python/tf/keras/callbacks/ModelCheckpoint\n",
        "# Checkpoint callback usage\n",
        "# Create a tf.keras.callbacks.ModelCheckpoint callback that saves weights only during training:\n",
        "checkpoint_path = \"training_1/cp.ckpt\"\n",
        "checkpoint_dir = os.path.dirname(checkpoint_path)\n",
        "\n",
        "# Create a callback that saves the model's weights\n",
        "cp_callback = tf.keras.callbacks.ModelCheckpoint(filepath=checkpoint_path,\n",
        "                                                 save_weights_only=True,\n",
        "                                                 verbose=1)"
      ],
      "execution_count": null,
      "outputs": []
    },
    {
      "cell_type": "code",
      "metadata": {
        "colab": {
          "base_uri": "https://localhost:8080/"
        },
        "id": "z59YK_csT5PM",
        "outputId": "6c95d5e3-cdae-435f-e558-c79565aa2a63"
      },
      "source": [
        "from time import time\n",
        "start = time()\n",
        "#history = model.fit(features, labels, epochs = 20, batch_size = 32, verbose = 1, callbacks=[cp_callback])\n",
        "history = model.fit(features, labels, epochs = 175, batch_size = 5, verbose = 1)\n",
        "end = time()"
      ],
      "execution_count": null,
      "outputs": [
        {
          "output_type": "stream",
          "name": "stdout",
          "text": [
            "Epoch 1/175\n",
            "252/252 [==============================] - 17s 30ms/step - loss: 0.0052\n",
            "Epoch 2/175\n",
            "252/252 [==============================] - 8s 30ms/step - loss: 0.0014\n",
            "Epoch 3/175\n",
            "252/252 [==============================] - 8s 30ms/step - loss: 0.0013\n",
            "Epoch 4/175\n",
            "252/252 [==============================] - 8s 30ms/step - loss: 0.0014\n",
            "Epoch 5/175\n",
            "252/252 [==============================] - 8s 30ms/step - loss: 0.0011\n",
            "Epoch 6/175\n",
            "252/252 [==============================] - 8s 30ms/step - loss: 0.0011\n",
            "Epoch 7/175\n",
            "252/252 [==============================] - 8s 30ms/step - loss: 0.0013\n",
            "Epoch 8/175\n",
            "252/252 [==============================] - 8s 30ms/step - loss: 0.0013\n",
            "Epoch 9/175\n",
            "252/252 [==============================] - 8s 30ms/step - loss: 0.0011\n",
            "Epoch 10/175\n",
            "252/252 [==============================] - 8s 30ms/step - loss: 0.0010\n",
            "Epoch 11/175\n",
            "252/252 [==============================] - 8s 31ms/step - loss: 9.5963e-04\n",
            "Epoch 12/175\n",
            "252/252 [==============================] - 8s 30ms/step - loss: 8.7087e-04\n",
            "Epoch 13/175\n",
            "252/252 [==============================] - 8s 30ms/step - loss: 6.5464e-04\n",
            "Epoch 14/175\n",
            "252/252 [==============================] - 8s 30ms/step - loss: 7.3727e-04\n",
            "Epoch 15/175\n",
            "252/252 [==============================] - 8s 30ms/step - loss: 7.5391e-04\n",
            "Epoch 16/175\n",
            "252/252 [==============================] - 7s 29ms/step - loss: 5.3053e-04\n",
            "Epoch 17/175\n",
            "252/252 [==============================] - 8s 30ms/step - loss: 4.0740e-04\n",
            "Epoch 18/175\n",
            "252/252 [==============================] - 8s 30ms/step - loss: 5.1306e-04\n",
            "Epoch 19/175\n",
            "252/252 [==============================] - 8s 30ms/step - loss: 5.3821e-04\n",
            "Epoch 20/175\n",
            "252/252 [==============================] - 7s 30ms/step - loss: 5.2788e-04\n",
            "Epoch 21/175\n",
            "252/252 [==============================] - 8s 30ms/step - loss: 3.1347e-04\n",
            "Epoch 22/175\n",
            "252/252 [==============================] - 8s 31ms/step - loss: 3.8524e-04\n",
            "Epoch 23/175\n",
            "252/252 [==============================] - 8s 31ms/step - loss: 3.8145e-04\n",
            "Epoch 24/175\n",
            "252/252 [==============================] - 8s 31ms/step - loss: 2.9187e-04\n",
            "Epoch 25/175\n",
            "252/252 [==============================] - 8s 31ms/step - loss: 2.5913e-04\n",
            "Epoch 26/175\n",
            "252/252 [==============================] - 8s 31ms/step - loss: 3.2136e-04\n",
            "Epoch 27/175\n",
            "252/252 [==============================] - 8s 32ms/step - loss: 2.7145e-04\n",
            "Epoch 28/175\n",
            "252/252 [==============================] - 8s 31ms/step - loss: 2.6361e-04\n",
            "Epoch 29/175\n",
            "252/252 [==============================] - 8s 31ms/step - loss: 2.8157e-04\n",
            "Epoch 30/175\n",
            "252/252 [==============================] - 8s 30ms/step - loss: 2.1027e-04\n",
            "Epoch 31/175\n",
            "252/252 [==============================] - 8s 31ms/step - loss: 2.6933e-04\n",
            "Epoch 32/175\n",
            "252/252 [==============================] - 8s 30ms/step - loss: 2.1709e-04\n",
            "Epoch 33/175\n",
            "252/252 [==============================] - 8s 31ms/step - loss: 2.9653e-04\n",
            "Epoch 34/175\n",
            "252/252 [==============================] - 8s 31ms/step - loss: 2.2394e-04\n",
            "Epoch 35/175\n",
            "252/252 [==============================] - 8s 31ms/step - loss: 2.6127e-04\n",
            "Epoch 36/175\n",
            "252/252 [==============================] - 8s 31ms/step - loss: 1.9817e-04\n",
            "Epoch 37/175\n",
            "252/252 [==============================] - 8s 30ms/step - loss: 2.1832e-04\n",
            "Epoch 38/175\n",
            "252/252 [==============================] - 8s 30ms/step - loss: 2.0771e-04\n",
            "Epoch 39/175\n",
            "252/252 [==============================] - 8s 30ms/step - loss: 1.9364e-04\n",
            "Epoch 40/175\n",
            "252/252 [==============================] - 8s 30ms/step - loss: 2.0452e-04\n",
            "Epoch 41/175\n",
            "252/252 [==============================] - 8s 31ms/step - loss: 2.2757e-04\n",
            "Epoch 42/175\n",
            "252/252 [==============================] - 8s 31ms/step - loss: 2.0924e-04\n",
            "Epoch 43/175\n",
            "252/252 [==============================] - 8s 31ms/step - loss: 1.8520e-04\n",
            "Epoch 44/175\n",
            "252/252 [==============================] - 8s 31ms/step - loss: 2.6971e-04\n",
            "Epoch 45/175\n",
            "252/252 [==============================] - 8s 30ms/step - loss: 2.1727e-04\n",
            "Epoch 46/175\n",
            "252/252 [==============================] - 8s 31ms/step - loss: 2.2134e-04\n",
            "Epoch 47/175\n",
            "252/252 [==============================] - 8s 30ms/step - loss: 1.5541e-04\n",
            "Epoch 48/175\n",
            "252/252 [==============================] - 8s 30ms/step - loss: 1.7163e-04\n",
            "Epoch 49/175\n",
            "252/252 [==============================] - 8s 30ms/step - loss: 1.8022e-04\n",
            "Epoch 50/175\n",
            "252/252 [==============================] - 8s 31ms/step - loss: 2.2601e-04\n",
            "Epoch 51/175\n",
            "252/252 [==============================] - 8s 31ms/step - loss: 2.1012e-04\n",
            "Epoch 52/175\n",
            "252/252 [==============================] - 8s 31ms/step - loss: 2.2808e-04\n",
            "Epoch 53/175\n",
            "252/252 [==============================] - 8s 30ms/step - loss: 2.0814e-04\n",
            "Epoch 54/175\n",
            "252/252 [==============================] - 8s 31ms/step - loss: 2.0054e-04\n",
            "Epoch 55/175\n",
            "252/252 [==============================] - 8s 30ms/step - loss: 2.2603e-04\n",
            "Epoch 56/175\n",
            "252/252 [==============================] - 8s 31ms/step - loss: 1.8862e-04\n",
            "Epoch 57/175\n",
            "252/252 [==============================] - 8s 30ms/step - loss: 1.4536e-04\n",
            "Epoch 58/175\n",
            "252/252 [==============================] - 8s 31ms/step - loss: 2.0739e-04\n",
            "Epoch 59/175\n",
            "252/252 [==============================] - 8s 30ms/step - loss: 2.0219e-04\n",
            "Epoch 60/175\n",
            "252/252 [==============================] - 8s 30ms/step - loss: 2.3186e-04\n",
            "Epoch 61/175\n",
            "252/252 [==============================] - 8s 30ms/step - loss: 2.2482e-04\n",
            "Epoch 62/175\n",
            "252/252 [==============================] - 8s 31ms/step - loss: 1.7375e-04\n",
            "Epoch 63/175\n",
            "252/252 [==============================] - 8s 31ms/step - loss: 1.8247e-04\n",
            "Epoch 64/175\n",
            "252/252 [==============================] - 8s 30ms/step - loss: 1.7530e-04\n",
            "Epoch 65/175\n",
            "141/252 [===============>..............] - ETA: 3s - loss: 2.4509e-04"
          ]
        }
      ]
    },
    {
      "cell_type": "code",
      "metadata": {
        "colab": {
          "base_uri": "https://localhost:8080/"
        },
        "id": "KRnCYFuoT8qO",
        "outputId": "29591da6-5b99-4660-f684-3f8cad4dbcef"
      },
      "source": [
        "print('Total training time {} seconds'.format(end - start))"
      ],
      "execution_count": 55,
      "outputs": [
        {
          "output_type": "stream",
          "name": "stdout",
          "text": [
            "Total training time 2128.2043952941895 seconds\n"
          ]
        }
      ]
    },
    {
      "cell_type": "code",
      "metadata": {
        "colab": {
          "base_uri": "https://localhost:8080/"
        },
        "id": "6GC_o7Lrjvlm",
        "outputId": "833effae-43d7-4f6a-9d57-d8359eb083b7"
      },
      "source": [
        "# Let's save the WHOLE model\n",
        "model.save('/content/drive/MyDrive/Nvidia_20161003to20211015_unit50505050_Epoch200_batch5_dropoutOnly002_dense1_high_NotRelu_13timesteps')"
      ],
      "execution_count": 24,
      "outputs": [
        {
          "output_type": "stream",
          "name": "stderr",
          "text": [
            "WARNING:absl:Found untraced functions such as lstm_cell_layer_call_and_return_conditional_losses, lstm_cell_layer_call_fn, lstm_cell_1_layer_call_and_return_conditional_losses, lstm_cell_1_layer_call_fn, lstm_cell_2_layer_call_and_return_conditional_losses while saving (showing 5 of 20). These functions will not be directly callable after loading.\n"
          ]
        },
        {
          "output_type": "stream",
          "name": "stdout",
          "text": [
            "INFO:tensorflow:Assets written to: /content/drive/MyDrive/Nvidia_20161003to20211015_unit50505050_Epoch200_batch5_dropoutOnly002_dense1_high_NotRelu_13timesteps/assets\n"
          ]
        },
        {
          "output_type": "stream",
          "name": "stderr",
          "text": [
            "INFO:tensorflow:Assets written to: /content/drive/MyDrive/Nvidia_20161003to20211015_unit50505050_Epoch200_batch5_dropoutOnly002_dense1_high_NotRelu_13timesteps/assets\n"
          ]
        }
      ]
    },
    {
      "cell_type": "code",
      "metadata": {
        "colab": {
          "base_uri": "https://localhost:8080/"
        },
        "id": "DTU6HYoPT9hx",
        "outputId": "f0360f27-99dc-47fe-9dc7-a80a90f23a3c"
      },
      "source": [
        "#  [samples(=inputs), days, features]\n",
        "print(features.shape)"
      ],
      "execution_count": null,
      "outputs": [
        {
          "name": "stdout",
          "output_type": "stream",
          "text": [
            "(1209, 60, 1)\n"
          ]
        }
      ]
    },
    {
      "cell_type": "markdown",
      "metadata": {
        "id": "i5V_tD1kp0F6"
      },
      "source": [
        "# Let's store our model as a **reconstructed model** to future use without training"
      ]
    },
    {
      "cell_type": "code",
      "metadata": {
        "id": "TQHkZgZipdDN"
      },
      "source": [
        "# It can be used to reconstruct the model identically.\n",
        "# see https://www.tensorflow.org/guide/keras/save_and_serialize\n",
        "reconstructed_model = keras.models.load_model(\"/content/drive/MyDrive/Nvidia_20161003to20211015_unit50505050_Epoch900_batch5_dropoutOnly002_dense1_high_NotRelu_13timesteps\")\n",
        "\n"
      ],
      "execution_count": 41,
      "outputs": []
    },
    {
      "cell_type": "markdown",
      "metadata": {
        "id": "QPzfJ-3c4uap"
      },
      "source": [
        "# Now that the model is trained, it's time to test it! \n",
        "\n",
        "* To test my model, I will get data for a future period that is not in the training data. \n",
        "* The preprocessing steps of this new data are similar to what we did to the training data.\n",
        "* Each time we test our data, we will contatenate our training data with the new test data\n",
        "* We will then use that new set of data to predict the next 5 days after the last date of this new set\n"
      ]
    },
    {
      "cell_type": "markdown",
      "metadata": {
        "id": "ZOW56BE2hKqg"
      },
      "source": [
        "* First, get the real stock prices from `2021-01-31` to `2021-06-26`\n",
        "* Second, store this new data to variable `test_stock_data` \n",
        "\n",
        "see https://ithelp.ithome.com.tw/articles/10247711"
      ]
    },
    {
      "cell_type": "code",
      "metadata": {
        "id": "ROR8baQXUA3E"
      },
      "source": [
        "# real stock prices for new period that we will use for testing our model  \n",
        "testing_start_date = '2021-10-18'\n",
        "testing_end_date = '2021-10-30'\n",
        "\n",
        "test_stock_data= nvidia_stock_prices.history(start=testing_start_date, end=testing_end_date, auto_adjust=True)"
      ],
      "execution_count": 25,
      "outputs": []
    },
    {
      "cell_type": "code",
      "metadata": {
        "colab": {
          "base_uri": "https://localhost:8080/",
          "height": 236
        },
        "id": "6FqSEqgdUPzz",
        "outputId": "2e343e09-80bc-4314-ef93-7a1de9048589"
      },
      "source": [
        "# Let's see the tail of the test data\n",
        "test_stock_data.tail()"
      ],
      "execution_count": 65,
      "outputs": [
        {
          "output_type": "execute_result",
          "data": {
            "text/html": [
              "<div>\n",
              "<style scoped>\n",
              "    .dataframe tbody tr th:only-of-type {\n",
              "        vertical-align: middle;\n",
              "    }\n",
              "\n",
              "    .dataframe tbody tr th {\n",
              "        vertical-align: top;\n",
              "    }\n",
              "\n",
              "    .dataframe thead th {\n",
              "        text-align: right;\n",
              "    }\n",
              "</style>\n",
              "<table border=\"1\" class=\"dataframe\">\n",
              "  <thead>\n",
              "    <tr style=\"text-align: right;\">\n",
              "      <th></th>\n",
              "      <th>Open</th>\n",
              "      <th>High</th>\n",
              "      <th>Low</th>\n",
              "      <th>Close</th>\n",
              "      <th>Volume</th>\n",
              "      <th>Dividends</th>\n",
              "      <th>Stock Splits</th>\n",
              "    </tr>\n",
              "    <tr>\n",
              "      <th>Date</th>\n",
              "      <th></th>\n",
              "      <th></th>\n",
              "      <th></th>\n",
              "      <th></th>\n",
              "      <th></th>\n",
              "      <th></th>\n",
              "      <th></th>\n",
              "    </tr>\n",
              "  </thead>\n",
              "  <tbody>\n",
              "    <tr>\n",
              "      <th>2021-10-18</th>\n",
              "      <td>217.490005</td>\n",
              "      <td>222.910004</td>\n",
              "      <td>216.440002</td>\n",
              "      <td>222.220001</td>\n",
              "      <td>18949400</td>\n",
              "      <td>0</td>\n",
              "      <td>0</td>\n",
              "    </tr>\n",
              "    <tr>\n",
              "      <th>2021-10-19</th>\n",
              "      <td>222.759995</td>\n",
              "      <td>223.789993</td>\n",
              "      <td>220.369995</td>\n",
              "      <td>222.899994</td>\n",
              "      <td>16147300</td>\n",
              "      <td>0</td>\n",
              "      <td>0</td>\n",
              "    </tr>\n",
              "    <tr>\n",
              "      <th>2021-10-20</th>\n",
              "      <td>223.050003</td>\n",
              "      <td>224.330002</td>\n",
              "      <td>219.820007</td>\n",
              "      <td>221.029999</td>\n",
              "      <td>14627600</td>\n",
              "      <td>0</td>\n",
              "      <td>0</td>\n",
              "    </tr>\n",
              "    <tr>\n",
              "      <th>2021-10-21</th>\n",
              "      <td>220.970001</td>\n",
              "      <td>227.110001</td>\n",
              "      <td>220.830002</td>\n",
              "      <td>226.919998</td>\n",
              "      <td>18759000</td>\n",
              "      <td>0</td>\n",
              "      <td>0</td>\n",
              "    </tr>\n",
              "    <tr>\n",
              "      <th>2021-10-22</th>\n",
              "      <td>228.229996</td>\n",
              "      <td>231.300003</td>\n",
              "      <td>225.610001</td>\n",
              "      <td>227.259995</td>\n",
              "      <td>24893400</td>\n",
              "      <td>0</td>\n",
              "      <td>0</td>\n",
              "    </tr>\n",
              "  </tbody>\n",
              "</table>\n",
              "</div>"
            ],
            "text/plain": [
              "                  Open        High  ...  Dividends  Stock Splits\n",
              "Date                                ...                         \n",
              "2021-10-18  217.490005  222.910004  ...          0             0\n",
              "2021-10-19  222.759995  223.789993  ...          0             0\n",
              "2021-10-20  223.050003  224.330002  ...          0             0\n",
              "2021-10-21  220.970001  227.110001  ...          0             0\n",
              "2021-10-22  228.229996  231.300003  ...          0             0\n",
              "\n",
              "[5 rows x 7 columns]"
            ]
          },
          "metadata": {},
          "execution_count": 65
        }
      ]
    },
    {
      "cell_type": "code",
      "metadata": {
        "colab": {
          "base_uri": "https://localhost:8080/",
          "height": 205
        },
        "id": "CRUTuhI1UMjy",
        "outputId": "4f5992d1-f697-46a4-e02d-7ab23f94c98f"
      },
      "source": [
        "# Let's see the test data\n",
        "test_stock_data"
      ],
      "execution_count": null,
      "outputs": [
        {
          "data": {
            "text/html": [
              "<div>\n",
              "<style scoped>\n",
              "    .dataframe tbody tr th:only-of-type {\n",
              "        vertical-align: middle;\n",
              "    }\n",
              "\n",
              "    .dataframe tbody tr th {\n",
              "        vertical-align: top;\n",
              "    }\n",
              "\n",
              "    .dataframe thead th {\n",
              "        text-align: right;\n",
              "    }\n",
              "</style>\n",
              "<table border=\"1\" class=\"dataframe\">\n",
              "  <thead>\n",
              "    <tr style=\"text-align: right;\">\n",
              "      <th></th>\n",
              "      <th>Open</th>\n",
              "      <th>High</th>\n",
              "      <th>Low</th>\n",
              "      <th>Close</th>\n",
              "      <th>Volume</th>\n",
              "      <th>Dividends</th>\n",
              "      <th>Stock Splits</th>\n",
              "    </tr>\n",
              "    <tr>\n",
              "      <th>Date</th>\n",
              "      <th></th>\n",
              "      <th></th>\n",
              "      <th></th>\n",
              "      <th></th>\n",
              "      <th></th>\n",
              "      <th></th>\n",
              "      <th></th>\n",
              "    </tr>\n",
              "  </thead>\n",
              "  <tbody>\n",
              "    <tr>\n",
              "      <th>2021-10-18</th>\n",
              "      <td>217.490005</td>\n",
              "      <td>222.910004</td>\n",
              "      <td>216.440002</td>\n",
              "      <td>222.220001</td>\n",
              "      <td>18949400</td>\n",
              "      <td>0</td>\n",
              "      <td>0</td>\n",
              "    </tr>\n",
              "    <tr>\n",
              "      <th>2021-10-19</th>\n",
              "      <td>222.759995</td>\n",
              "      <td>223.789993</td>\n",
              "      <td>220.369995</td>\n",
              "      <td>222.899994</td>\n",
              "      <td>16147300</td>\n",
              "      <td>0</td>\n",
              "      <td>0</td>\n",
              "    </tr>\n",
              "    <tr>\n",
              "      <th>2021-10-20</th>\n",
              "      <td>223.050003</td>\n",
              "      <td>224.330002</td>\n",
              "      <td>219.820007</td>\n",
              "      <td>221.029999</td>\n",
              "      <td>14613500</td>\n",
              "      <td>0</td>\n",
              "      <td>0</td>\n",
              "    </tr>\n",
              "    <tr>\n",
              "      <th>2021-10-21</th>\n",
              "      <td>220.970001</td>\n",
              "      <td>225.259995</td>\n",
              "      <td>220.830002</td>\n",
              "      <td>225.009995</td>\n",
              "      <td>7263727</td>\n",
              "      <td>0</td>\n",
              "      <td>0</td>\n",
              "    </tr>\n",
              "  </tbody>\n",
              "</table>\n",
              "</div>"
            ],
            "text/plain": [
              "                  Open        High  ...  Dividends  Stock Splits\n",
              "Date                                ...                         \n",
              "2021-10-18  217.490005  222.910004  ...          0             0\n",
              "2021-10-19  222.759995  223.789993  ...          0             0\n",
              "2021-10-20  223.050003  224.330002  ...          0             0\n",
              "2021-10-21  220.970001  225.259995  ...          0             0\n",
              "\n",
              "[4 rows x 7 columns]"
            ]
          },
          "execution_count": 78,
          "metadata": {},
          "output_type": "execute_result"
        }
      ]
    },
    {
      "cell_type": "code",
      "metadata": {
        "colab": {
          "base_uri": "https://localhost:8080/"
        },
        "id": "tdrHOQOUoyBM",
        "outputId": "f2be1780-6260-48bb-8100-521022b405cd"
      },
      "source": [
        "# Let's see what type our data is before we process it\n",
        "type(test_stock_data)"
      ],
      "execution_count": null,
      "outputs": [
        {
          "data": {
            "text/plain": [
              "pandas.core.frame.DataFrame"
            ]
          },
          "execution_count": 128,
          "metadata": {},
          "output_type": "execute_result"
        }
      ]
    },
    {
      "cell_type": "code",
      "metadata": {
        "colab": {
          "base_uri": "https://localhost:8080/"
        },
        "id": "QVHV7femo8EJ",
        "outputId": "eb6aaa7a-1ebf-45c9-b531-b0aa09b9f126"
      },
      "source": [
        "# let's see the shape of our data before we process it\n",
        "# We have (7 = columns) and (44 = rows) \n",
        "test_stock_data.shape"
      ],
      "execution_count": null,
      "outputs": [
        {
          "data": {
            "text/plain": [
              "(4, 7)"
            ]
          },
          "execution_count": 79,
          "metadata": {},
          "output_type": "execute_result"
        }
      ]
    },
    {
      "cell_type": "code",
      "metadata": {
        "id": "0KgYeFE_UQp0"
      },
      "source": [
        "# Let's process our test data getting only the `high prices`  \n",
        "test_stock_data_processed = test_stock_data.iloc[:, 1:2].values"
      ],
      "execution_count": 26,
      "outputs": []
    },
    {
      "cell_type": "code",
      "metadata": {
        "colab": {
          "base_uri": "https://localhost:8080/"
        },
        "id": "rqV7VY_spGN3",
        "outputId": "ba966547-8ece-4131-c357-c5a748425fa7"
      },
      "source": [
        "# Let's see our processed test data\n",
        "# Notice it is now an array of closing price only\n",
        "test_stock_data_processed"
      ],
      "execution_count": 71,
      "outputs": [
        {
          "output_type": "execute_result",
          "data": {
            "text/plain": [
              "array([[222.91000366],\n",
              "       [223.78999329],\n",
              "       [224.33000183],\n",
              "       [227.11000061],\n",
              "       [231.30000305],\n",
              "       [233.55000305],\n",
              "       [252.58999634],\n",
              "       [250.8999939 ],\n",
              "       [249.5       ]])"
            ]
          },
          "metadata": {},
          "execution_count": 71
        }
      ]
    },
    {
      "cell_type": "code",
      "metadata": {
        "colab": {
          "base_uri": "https://localhost:8080/"
        },
        "id": "JtJCI8dBpOP6",
        "outputId": "b04476c0-f738-463d-9de2-dfd0d9d66c4c"
      },
      "source": [
        "# Let's see what type the test data processed data is\n",
        "type(test_stock_data_processed)"
      ],
      "execution_count": 72,
      "outputs": [
        {
          "output_type": "execute_result",
          "data": {
            "text/plain": [
              "numpy.ndarray"
            ]
          },
          "metadata": {},
          "execution_count": 72
        }
      ]
    },
    {
      "cell_type": "code",
      "metadata": {
        "colab": {
          "base_uri": "https://localhost:8080/"
        },
        "id": "FnbrvLe_pRPD",
        "outputId": "fe3a0577-814d-458e-eb69-0f8f5499e75d"
      },
      "source": [
        "# Let's see the shape of our processed data\n",
        "# Notice we have (1 = column = our stock close price column from our test data) and \n",
        "# (111 = rows = days we have prices for our date range)\n",
        "test_stock_data_processed.shape"
      ],
      "execution_count": 73,
      "outputs": [
        {
          "output_type": "execute_result",
          "data": {
            "text/plain": [
              "(9, 1)"
            ]
          },
          "metadata": {},
          "execution_count": 73
        }
      ]
    },
    {
      "cell_type": "code",
      "metadata": {
        "id": "imMgyiZpUTWx"
      },
      "source": [
        "# We concatenate our training data and our testing data\n",
        "# IOW: we Merge the the training set(high prices) and the test set(high prices) on the 0 axis.\n",
        "all_stock_data = pd.concat((stock_data['High'], test_stock_data['High']), axis = 0)"
      ],
      "execution_count": 27,
      "outputs": []
    },
    {
      "cell_type": "code",
      "metadata": {
        "id": "RL05wEjXkQbo"
      },
      "source": [
        "# these are all done in this one step, but i separate them so that I can understand shape better\n",
        "\n",
        "#inputs = all_stock_data[len(all_stock_data) - len(test_stock_data) - 60:].values\n",
        "#inputs = inputs.reshape(-1,1)\n",
        "#inputs = sc.transform(inputs)"
      ],
      "execution_count": null,
      "outputs": []
    },
    {
      "cell_type": "code",
      "metadata": {
        "id": "4HLKg8i9kSHv"
      },
      "source": [
        "inputs = all_stock_data[len(all_stock_data) - len(test_stock_data) - 13:].values\n"
      ],
      "execution_count": 28,
      "outputs": []
    },
    {
      "cell_type": "code",
      "metadata": {
        "colab": {
          "base_uri": "https://localhost:8080/"
        },
        "id": "PxTaInG7Cv3Z",
        "outputId": "84c9e3fc-0c5f-43f2-a583-fc69bb0cd0be"
      },
      "source": [
        "inputs"
      ],
      "execution_count": 76,
      "outputs": [
        {
          "output_type": "execute_result",
          "data": {
            "text/plain": [
              "array([210.16999817, 210.66000366, 208.58999634, 205.41999817,\n",
              "       206.47999573, 207.19999695, 213.22000122, 212.05999756,\n",
              "       210.63000488, 210.57000732, 209.8999939 , 217.55000305,\n",
              "       219.30999756, 222.91000366, 223.78999329, 224.33000183,\n",
              "       227.11000061, 231.30000305, 233.55000305, 252.58999634,\n",
              "       250.8999939 , 249.5       ])"
            ]
          },
          "metadata": {},
          "execution_count": 76
        }
      ]
    },
    {
      "cell_type": "code",
      "metadata": {
        "colab": {
          "base_uri": "https://localhost:8080/"
        },
        "id": "I7SlHI9UquNh",
        "outputId": "fd0c9c23-99c9-4935-aa1d-946dda8987c3"
      },
      "source": [
        "# Let's see the shape of our input\n",
        "# Note: the shape remains the same for the reshape and transformation\n",
        "inputs.shape"
      ],
      "execution_count": 77,
      "outputs": [
        {
          "output_type": "execute_result",
          "data": {
            "text/plain": [
              "(22,)"
            ]
          },
          "metadata": {},
          "execution_count": 77
        }
      ]
    },
    {
      "cell_type": "code",
      "metadata": {
        "colab": {
          "base_uri": "https://localhost:8080/"
        },
        "id": "49rKPmAOmEab",
        "outputId": "7c4792cb-df9a-4671-9b5b-64fdbbb2ab4c"
      },
      "source": [
        "# Let's see what data is being stored in inputs at this point by doing the next 4 lines of code\n",
        "len(all_stock_data)"
      ],
      "execution_count": 37,
      "outputs": [
        {
          "output_type": "execute_result",
          "data": {
            "text/plain": [
              "1278"
            ]
          },
          "metadata": {},
          "execution_count": 37
        }
      ]
    },
    {
      "cell_type": "code",
      "metadata": {
        "colab": {
          "base_uri": "https://localhost:8080/"
        },
        "id": "QMwOi5v9mLpx",
        "outputId": "51d95f9c-2de8-4765-af73-8d6f56e9afd7"
      },
      "source": [
        "len(test_stock_data)"
      ],
      "execution_count": 38,
      "outputs": [
        {
          "output_type": "execute_result",
          "data": {
            "text/plain": [
              "9"
            ]
          },
          "metadata": {},
          "execution_count": 38
        }
      ]
    },
    {
      "cell_type": "code",
      "metadata": {
        "colab": {
          "base_uri": "https://localhost:8080/"
        },
        "id": "_Kh9siiOpO0Y",
        "outputId": "f8cb7ba3-1801-4dd3-fc1a-2ce83d397538"
      },
      "source": [
        "# Let's see the inputs at this point\n",
        "inputs"
      ],
      "execution_count": 40,
      "outputs": [
        {
          "output_type": "execute_result",
          "data": {
            "text/plain": [
              "array([210.16999817, 210.66000366, 208.58999634, 205.41999817,\n",
              "       206.47999573, 207.19999695, 213.22000122, 212.05999756,\n",
              "       210.63000488, 210.57000732, 209.8999939 , 217.55000305,\n",
              "       219.30999756, 222.91000366, 223.78999329, 224.33000183,\n",
              "       227.11000061, 231.30000305, 233.55000305, 252.58999634,\n",
              "       250.8999939 , 249.5       ])"
            ]
          },
          "metadata": {},
          "execution_count": 40
        }
      ]
    },
    {
      "cell_type": "code",
      "metadata": {
        "id": "6UyIWAnsUYJd"
      },
      "source": [
        "# Let's reshape the inputs so we have rows and 1 column\n",
        "inputs = inputs.reshape(-1,1)"
      ],
      "execution_count": 29,
      "outputs": []
    },
    {
      "cell_type": "code",
      "metadata": {
        "colab": {
          "base_uri": "https://localhost:8080/"
        },
        "id": "0hD7QkQvpfqf",
        "outputId": "e4bbed47-066f-458e-9793-7a6d55adc9eb"
      },
      "source": [
        "# Let's see the inputs now that it has been reshaped\n",
        "inputs"
      ],
      "execution_count": 42,
      "outputs": [
        {
          "output_type": "execute_result",
          "data": {
            "text/plain": [
              "array([[210.16999817],\n",
              "       [210.66000366],\n",
              "       [208.58999634],\n",
              "       [205.41999817],\n",
              "       [206.47999573],\n",
              "       [207.19999695],\n",
              "       [213.22000122],\n",
              "       [212.05999756],\n",
              "       [210.63000488],\n",
              "       [210.57000732],\n",
              "       [209.8999939 ],\n",
              "       [217.55000305],\n",
              "       [219.30999756],\n",
              "       [222.91000366],\n",
              "       [223.78999329],\n",
              "       [224.33000183],\n",
              "       [227.11000061],\n",
              "       [231.30000305],\n",
              "       [233.55000305],\n",
              "       [252.58999634],\n",
              "       [250.8999939 ],\n",
              "       [249.5       ]])"
            ]
          },
          "metadata": {},
          "execution_count": 42
        }
      ]
    },
    {
      "cell_type": "code",
      "metadata": {
        "id": "DZAkb4p1peLe"
      },
      "source": [
        "# Let's tranform the inputs using MinMaxScaler; which scales features of X according to feature_range which is (0,1)\n",
        "inputs = sc.transform(inputs)"
      ],
      "execution_count": 30,
      "outputs": []
    },
    {
      "cell_type": "code",
      "metadata": {
        "colab": {
          "base_uri": "https://localhost:8080/"
        },
        "id": "_cq0Yi1Np51d",
        "outputId": "04098ebb-f247-4a76-a07c-07b439780f5d"
      },
      "source": [
        "# Let's see the inputs now\n",
        "inputs"
      ],
      "execution_count": 80,
      "outputs": [
        {
          "output_type": "execute_result",
          "data": {
            "text/plain": [
              "array([[0.90559449],\n",
              "       [0.90788236],\n",
              "       [0.89821736],\n",
              "       [0.88341643],\n",
              "       [0.88836563],\n",
              "       [0.89172736],\n",
              "       [0.91983516],\n",
              "       [0.91441902],\n",
              "       [0.90774229],\n",
              "       [0.90746216],\n",
              "       [0.90433383],\n",
              "       [0.94005222],\n",
              "       [0.94826974],\n",
              "       [0.96507841],\n",
              "       [0.96918714],\n",
              "       [0.97170847],\n",
              "       [0.98468847],\n",
              "       [1.00425186],\n",
              "       [1.01475726],\n",
              "       [1.10365622],\n",
              "       [1.09576549],\n",
              "       [1.08922883]])"
            ]
          },
          "metadata": {},
          "execution_count": 80
        }
      ]
    },
    {
      "cell_type": "code",
      "metadata": {
        "colab": {
          "base_uri": "https://localhost:8080/"
        },
        "id": "hQlSJjsmr_hu",
        "outputId": "c47ce3e6-ddff-4291-e7e1-6f9f53593330"
      },
      "source": [
        "#Let's see the shape\n",
        "inputs.shape"
      ],
      "execution_count": 59,
      "outputs": [
        {
          "output_type": "execute_result",
          "data": {
            "text/plain": [
              "(22, 1)"
            ]
          },
          "metadata": {},
          "execution_count": 59
        }
      ]
    },
    {
      "cell_type": "code",
      "metadata": {
        "id": "sOG0tjEUUcTB"
      },
      "source": [
        "X_test = []\n",
        "for i in range(13, len(inputs)):\n",
        "    X_test.append(inputs[i-13:i, 0])\n",
        "\n",
        "X_test = np.array(X_test)\n",
        "\n",
        "# at this point in the program, X_test.shape =9, 13 (2D tensor)\n",
        "# but we need a 3D tensor, so we need to reshape\n",
        "# reshape(array to be reshaped, new shape)\n",
        "# X_test.shape[0]= 9\n",
        "# X_test.shape[1] = 13\n",
        "# thus, X_test.shape = 9, 13, 1\n",
        "X_test = np.reshape(X_test, (X_test.shape[0], X_test.shape[1], 1))"
      ],
      "execution_count": 31,
      "outputs": []
    },
    {
      "cell_type": "code",
      "metadata": {
        "colab": {
          "base_uri": "https://localhost:8080/"
        },
        "id": "TEJy9JzzsvOJ",
        "outputId": "098b5225-edfc-4272-81eb-b657cebfd362"
      },
      "source": [
        "# Let's see what shape X_test is now that we reshaped it\n",
        "# recall, that our test_stock_data was 111\n",
        "# Thus, we now have a 3D tensor for our test data\n",
        "X_test.shape"
      ],
      "execution_count": 82,
      "outputs": [
        {
          "output_type": "execute_result",
          "data": {
            "text/plain": [
              "(9, 13, 1)"
            ]
          },
          "metadata": {},
          "execution_count": 82
        }
      ]
    },
    {
      "cell_type": "code",
      "metadata": {
        "id": "2hi5U3OGVu1n"
      },
      "source": [
        "# Loads the weights\n",
        "#model.load_weights(checkpoint_path)"
      ],
      "execution_count": null,
      "outputs": []
    },
    {
      "cell_type": "code",
      "metadata": {
        "colab": {
          "base_uri": "https://localhost:8080/"
        },
        "id": "ZQ9c4nYwUiBF",
        "outputId": "03674d11-b2a5-4817-f9be-e58e62b7d164"
      },
      "source": [
        "# Let's test the LSTM Model with the test dataset (= high prices, from which we created a 3D tensor called X_test)\n",
        "predicted_stock_price = model.predict(X_test) # use this when using original model\n",
        "#predicted_stock_price = reconstructed_model.predict(X_test) # use this when using reconstructed model\n",
        "\n",
        "# Let's see the predictions in their transformed state of range (0,1)\n",
        "predicted_stock_price"
      ],
      "execution_count": 32,
      "outputs": [
        {
          "output_type": "execute_result",
          "data": {
            "text/plain": [
              "array([[0.96285963],\n",
              "       [0.9737202 ],\n",
              "       [0.9802097 ],\n",
              "       [0.9840033 ],\n",
              "       [0.99482906],\n",
              "       [1.0144368 ],\n",
              "       [1.0209497 ],\n",
              "       [1.0957228 ],\n",
              "       [1.0914282 ],\n",
              "       [1.0672208 ]], dtype=float32)"
            ]
          },
          "metadata": {},
          "execution_count": 32
        }
      ]
    },
    {
      "cell_type": "code",
      "metadata": {
        "colab": {
          "base_uri": "https://localhost:8080/"
        },
        "id": "B9mtYgZUt4sg",
        "outputId": "917f0aac-6526-45ca-f918-bfad8d745ff3"
      },
      "source": [
        "# Let's inverse_transform from MinMax to the stock prices values\n",
        "# this inverses transformation so that we can see the actual predicted prices\n",
        "predicted_stock_price = sc.inverse_transform(predicted_stock_price)\n",
        "predicted_stock_price"
      ],
      "execution_count": 33,
      "outputs": [
        {
          "output_type": "execute_result",
          "data": {
            "text/plain": [
              "array([[222.4348 ],\n",
              "       [224.76086],\n",
              "       [226.15077],\n",
              "       [226.96326],\n",
              "       [229.28188],\n",
              "       [233.48138],\n",
              "       [234.87628],\n",
              "       [250.89085],\n",
              "       [249.97105],\n",
              "       [244.78642]], dtype=float32)"
            ]
          },
          "metadata": {},
          "execution_count": 33
        }
      ]
    },
    {
      "cell_type": "markdown",
      "metadata": {
        "id": "pi-7nJEhub7J"
      },
      "source": [
        "# **Let's Plot our test results**"
      ]
    },
    {
      "cell_type": "code",
      "metadata": {
        "colab": {
          "base_uri": "https://localhost:8080/",
          "height": 404
        },
        "id": "uDFiOWTBUkL2",
        "outputId": "5d37b52b-b59f-4d8e-9f7a-86dd40261181"
      },
      "source": [
        "plt.figure(figsize=(10,6))  \n",
        "plt.plot(test_stock_data_processed, color='blue', label='Actual Nvidia Stock Price')  \n",
        "plt.plot(predicted_stock_price, color='red', label='Predicted Nvidia Stock Price')  \n",
        "plt.title('Nvidia Stock Price Prediction')  \n",
        "plt.xlabel('Date')  \n",
        "plt.ylabel('Nvidia Stock Price')  \n",
        "plt.legend()  \n",
        "plt.show()  "
      ],
      "execution_count": 54,
      "outputs": [
        {
          "output_type": "display_data",
          "data": {
            "image/png": "[encoded data removed]",
            "text/plain": [
              "<Figure size 720x432 with 1 Axes>"
            ]
          },
          "metadata": {
            "needs_background": "light"
          }
        }
      ]
    },
    {
      "cell_type": "markdown",
      "metadata": {
        "id": "sqXYC6J4ul2C"
      },
      "source": [
        "# **Let's compare the \"true high prices\" vs \"predicted prices\" in a df**"
      ]
    },
    {
      "cell_type": "code",
      "metadata": {
        "colab": {
          "base_uri": "https://localhost:8080/"
        },
        "id": "NEFM6gLXmdm1",
        "outputId": "d53c5d1d-36f8-4551-f1e6-c0163a5f6d8d"
      },
      "source": [
        "# Let's see the Model's predicted stock prices\n",
        "predicted_stock_price"
      ],
      "execution_count": null,
      "outputs": [
        {
          "data": {
            "text/plain": [
              "array([[220.19948],\n",
              "       [223.95972]], dtype=float32)"
            ]
          },
          "execution_count": 135,
          "metadata": {},
          "output_type": "execute_result"
        }
      ]
    },
    {
      "cell_type": "code",
      "metadata": {
        "colab": {
          "base_uri": "https://localhost:8080/"
        },
        "id": "Drv4EbsJm1t0",
        "outputId": "c64c5fe1-b4c1-4449-a4a5-92e201164268"
      },
      "source": [
        "# Let's see what type of data the predicted stock price type is\n",
        "type(predicted_stock_price)"
      ],
      "execution_count": null,
      "outputs": [
        {
          "data": {
            "text/plain": [
              "numpy.ndarray"
            ]
          },
          "execution_count": 136,
          "metadata": {},
          "output_type": "execute_result"
        }
      ]
    },
    {
      "cell_type": "code",
      "metadata": {
        "id": "yf9urAhCqnFv"
      },
      "source": [
        "# Let's reshape our predicted stock price and store it in another variable just in case it is shaped wrong\n",
        "predicted_prices= predicted_stock_price.reshape(-1,1)"
      ],
      "execution_count": null,
      "outputs": []
    },
    {
      "cell_type": "code",
      "metadata": {
        "colab": {
          "base_uri": "https://localhost:8080/"
        },
        "id": "Ef5HTq9FrE0A",
        "outputId": "bbbefe3f-04ab-4903-ad7c-7c595f925402"
      },
      "source": [
        "# Let's see the predicted_prices now\n",
        "predicted_prices"
      ],
      "execution_count": null,
      "outputs": [
        {
          "data": {
            "text/plain": [
              "array([[220.19948],\n",
              "       [223.95972]], dtype=float32)"
            ]
          },
          "execution_count": 138,
          "metadata": {},
          "output_type": "execute_result"
        }
      ]
    },
    {
      "cell_type": "code",
      "metadata": {
        "id": "WrJpaNvsm4jd"
      },
      "source": [
        "# Let's convert predicted_prices array above to a df and call it prediction and create a column titled \"Predicted Price\"\n",
        "prediction = pd.DataFrame(predicted_prices, columns = ['Predicted Price'])\n"
      ],
      "execution_count": null,
      "outputs": []
    },
    {
      "cell_type": "code",
      "metadata": {
        "colab": {
          "base_uri": "https://localhost:8080/",
          "height": 112
        },
        "id": "wXCpud73w4U6",
        "outputId": "242d331a-61fc-45cb-8625-6243850abe4d"
      },
      "source": [
        "# Let's see our prediction dataframe\n",
        "prediction"
      ],
      "execution_count": null,
      "outputs": [
        {
          "data": {
            "text/html": [
              "<div>\n",
              "<style scoped>\n",
              "    .dataframe tbody tr th:only-of-type {\n",
              "        vertical-align: middle;\n",
              "    }\n",
              "\n",
              "    .dataframe tbody tr th {\n",
              "        vertical-align: top;\n",
              "    }\n",
              "\n",
              "    .dataframe thead th {\n",
              "        text-align: right;\n",
              "    }\n",
              "</style>\n",
              "<table border=\"1\" class=\"dataframe\">\n",
              "  <thead>\n",
              "    <tr style=\"text-align: right;\">\n",
              "      <th></th>\n",
              "      <th>Predicted Price</th>\n",
              "    </tr>\n",
              "  </thead>\n",
              "  <tbody>\n",
              "    <tr>\n",
              "      <th>0</th>\n",
              "      <td>216.095551</td>\n",
              "    </tr>\n",
              "    <tr>\n",
              "      <th>1</th>\n",
              "      <td>219.822800</td>\n",
              "    </tr>\n",
              "  </tbody>\n",
              "</table>\n",
              "</div>"
            ],
            "text/plain": [
              "   Predicted Price\n",
              "0       216.095551\n",
              "1       219.822800"
            ]
          },
          "execution_count": 76,
          "metadata": {},
          "output_type": "execute_result"
        }
      ]
    },
    {
      "cell_type": "code",
      "metadata": {
        "colab": {
          "base_uri": "https://localhost:8080/"
        },
        "id": "usUFCbcHlcBy",
        "outputId": "3e94cf02-2579-4e65-883f-db7ff6723b52"
      },
      "source": [
        "# Recall that our test_stock_data_processed is Palantir's closing prices between 2021-8-16 to 2021-08-19\n",
        "# These are the true high prices\n",
        "test_stock_data_processed"
      ],
      "execution_count": null,
      "outputs": [
        {
          "data": {
            "text/plain": [
              "array([[222.91000366],\n",
              "       [223.77999878]])"
            ]
          },
          "execution_count": 140,
          "metadata": {},
          "output_type": "execute_result"
        }
      ]
    },
    {
      "cell_type": "code",
      "metadata": {
        "id": "GeNdqcAalzIc"
      },
      "source": [
        "# Let's store the test stock data array above as a df and name it closing_prices\n",
        "true_high_closing_prices = pd.DataFrame(test_stock_data_processed, columns = ['Nvidia True Closing Price'])"
      ],
      "execution_count": null,
      "outputs": []
    },
    {
      "cell_type": "code",
      "metadata": {
        "colab": {
          "base_uri": "https://localhost:8080/",
          "height": 112
        },
        "id": "2nXXaAeGmAu1",
        "outputId": "137d0d6a-f7b2-402c-f2d0-ad532c34c8d5"
      },
      "source": [
        "# Let's look at the df\n",
        "true_high_closing_prices"
      ],
      "execution_count": null,
      "outputs": [
        {
          "data": {
            "text/html": [
              "<div>\n",
              "<style scoped>\n",
              "    .dataframe tbody tr th:only-of-type {\n",
              "        vertical-align: middle;\n",
              "    }\n",
              "\n",
              "    .dataframe tbody tr th {\n",
              "        vertical-align: top;\n",
              "    }\n",
              "\n",
              "    .dataframe thead th {\n",
              "        text-align: right;\n",
              "    }\n",
              "</style>\n",
              "<table border=\"1\" class=\"dataframe\">\n",
              "  <thead>\n",
              "    <tr style=\"text-align: right;\">\n",
              "      <th></th>\n",
              "      <th>Nvidia True Closing Price</th>\n",
              "    </tr>\n",
              "  </thead>\n",
              "  <tbody>\n",
              "    <tr>\n",
              "      <th>0</th>\n",
              "      <td>222.910004</td>\n",
              "    </tr>\n",
              "    <tr>\n",
              "      <th>1</th>\n",
              "      <td>223.779999</td>\n",
              "    </tr>\n",
              "  </tbody>\n",
              "</table>\n",
              "</div>"
            ],
            "text/plain": [
              "   Nvidia True Closing Price\n",
              "0                 222.910004\n",
              "1                 223.779999"
            ]
          },
          "execution_count": 142,
          "metadata": {},
          "output_type": "execute_result"
        }
      ]
    },
    {
      "cell_type": "code",
      "metadata": {
        "id": "l5yhC834mEBt"
      },
      "source": [
        "# Let's Join the two DataFrames \n",
        "# we are joing our True prices and predicted prices so we can compare them\n",
        "# see for more detail: https://www.geeksforgeeks.org/how-to-combine-two-dataframe-in-python-pandas/\n",
        "result = pd.concat([true_high_closing_prices, prediction], axis=1, join='inner')\n"
      ],
      "execution_count": null,
      "outputs": []
    },
    {
      "cell_type": "code",
      "metadata": {
        "colab": {
          "base_uri": "https://localhost:8080/",
          "height": 112
        },
        "id": "Ds277xd_r6WE",
        "outputId": "e1d4b4f9-f17f-490e-9ee8-f7e101077138"
      },
      "source": [
        "# Let's see the combined df\n",
        "result\n"
      ],
      "execution_count": null,
      "outputs": [
        {
          "data": {
            "text/html": [
              "<div>\n",
              "<style scoped>\n",
              "    .dataframe tbody tr th:only-of-type {\n",
              "        vertical-align: middle;\n",
              "    }\n",
              "\n",
              "    .dataframe tbody tr th {\n",
              "        vertical-align: top;\n",
              "    }\n",
              "\n",
              "    .dataframe thead th {\n",
              "        text-align: right;\n",
              "    }\n",
              "</style>\n",
              "<table border=\"1\" class=\"dataframe\">\n",
              "  <thead>\n",
              "    <tr style=\"text-align: right;\">\n",
              "      <th></th>\n",
              "      <th>Nvidia True Closing Price</th>\n",
              "      <th>Predicted Price</th>\n",
              "    </tr>\n",
              "  </thead>\n",
              "  <tbody>\n",
              "    <tr>\n",
              "      <th>0</th>\n",
              "      <td>222.910004</td>\n",
              "      <td>220.199478</td>\n",
              "    </tr>\n",
              "    <tr>\n",
              "      <th>1</th>\n",
              "      <td>223.779999</td>\n",
              "      <td>223.959717</td>\n",
              "    </tr>\n",
              "  </tbody>\n",
              "</table>\n",
              "</div>"
            ],
            "text/plain": [
              "   Nvidia True Closing Price  Predicted Price\n",
              "0                 222.910004       220.199478\n",
              "1                 223.779999       223.959717"
            ]
          },
          "execution_count": 144,
          "metadata": {},
          "output_type": "execute_result"
        }
      ]
    },
    {
      "cell_type": "code",
      "metadata": {
        "id": "3sEUL7a2yz4F"
      },
      "source": [
        "# Let's add another column called \"Val_Diff\" to our resulft df that takes the difference \n",
        "# between the first column called \"Palantri True Closing Price\" and the second column called \"Predicted Price\"\n",
        "result['Val_Diff'] = result['Nvidia True Closing Price'] - result['Predicted Price']"
      ],
      "execution_count": null,
      "outputs": []
    },
    {
      "cell_type": "code",
      "metadata": {
        "colab": {
          "base_uri": "https://localhost:8080/",
          "height": 112
        },
        "id": "sfIzvhSiy7l3",
        "outputId": "d16397c1-0600-4ac1-cb42-48a462c16c56"
      },
      "source": [
        "# Let's see how result df looks like now with the new column that calculates the difference\n",
        "result"
      ],
      "execution_count": null,
      "outputs": [
        {
          "data": {
            "text/html": [
              "<div>\n",
              "<style scoped>\n",
              "    .dataframe tbody tr th:only-of-type {\n",
              "        vertical-align: middle;\n",
              "    }\n",
              "\n",
              "    .dataframe tbody tr th {\n",
              "        vertical-align: top;\n",
              "    }\n",
              "\n",
              "    .dataframe thead th {\n",
              "        text-align: right;\n",
              "    }\n",
              "</style>\n",
              "<table border=\"1\" class=\"dataframe\">\n",
              "  <thead>\n",
              "    <tr style=\"text-align: right;\">\n",
              "      <th></th>\n",
              "      <th>Nvidia True Closing Price</th>\n",
              "      <th>Predicted Price</th>\n",
              "      <th>Val_Diff</th>\n",
              "    </tr>\n",
              "  </thead>\n",
              "  <tbody>\n",
              "    <tr>\n",
              "      <th>0</th>\n",
              "      <td>222.910004</td>\n",
              "      <td>220.199478</td>\n",
              "      <td>2.710526</td>\n",
              "    </tr>\n",
              "    <tr>\n",
              "      <th>1</th>\n",
              "      <td>223.779999</td>\n",
              "      <td>223.959717</td>\n",
              "      <td>-0.179718</td>\n",
              "    </tr>\n",
              "  </tbody>\n",
              "</table>\n",
              "</div>"
            ],
            "text/plain": [
              "   Nvidia True Closing Price  Predicted Price  Val_Diff\n",
              "0                 222.910004       220.199478  2.710526\n",
              "1                 223.779999       223.959717 -0.179718"
            ]
          },
          "execution_count": 146,
          "metadata": {},
          "output_type": "execute_result"
        }
      ]
    },
    {
      "cell_type": "code",
      "metadata": {
        "id": "Qn4JxqK91y1E"
      },
      "source": [
        "# Let's store the results of this test to csv \n",
        "result.to_csv('/content/drive/MyDrive/Nvidia_Aug_to_Aug_test_result_Dense5_TrainingDateStart_Epoch500_Batch5.csv')\n"
      ],
      "execution_count": null,
      "outputs": []
    },
    {
      "cell_type": "markdown",
      "metadata": {
        "id": "pq7wZGGWRiXt"
      },
      "source": [
        "#**What If I want to predict prices for the next 5 days?**\n",
        "\n",
        "See: https://thinkingneuron.com/predicting-stock-prices-using-deep-learning-lstm-model-in-python/\n",
        "\n",
        "The model which we have built above uses the last 10 days prices and predicts the next day’s price because we have trained our model with many past examples of the same granularity as shown below\n",
        "\n",
        "`last 35 days prices–> 11th day price`\n",
        "\n",
        "Now if we want to predict the next 5 days or next 20 days prices, then we need to train the model with similar examples from the past like shown below\n",
        "\n",
        "`last 35 days prices–> Next 5 days prices`\n",
        "\n",
        "This is also known as **Multi-Step time series prediction**, where we predict multiple time steps ahead.\n",
        "\n",
        "To achieve this, it will require small modifications in the data preparation step and in the LSTM model both.\n",
        "\n",
        "However, keep in mind, the further you predict, the lesser accurate you might be, because stock prices are volatile and no one can know what is going to happen after 35 days! What kind of news will come? which might affect the prices of this stock!\n",
        "\n",
        "Hence, it is recommended to predict for as less time steps as possible, for example next 2 days or next 5 days at max.\n",
        "\n",
        "\n",
        "\n",
        "---\n",
        "\n",
        "#**Data Preparation for Multi Step LSTM**\n",
        "\n",
        "I am showing how to prepare the data for predicting next 5 days. The same code can be easily modified to predict next 10 days or 35 days as well.\n",
        "\n",
        "\n"
      ]
    },
    {
      "cell_type": "code",
      "metadata": {
        "colab": {
          "base_uri": "https://localhost:8080/"
        },
        "id": "asfOBDWnZ0ix",
        "outputId": "c1307f32-8298-42c1-8135-1ab02f2c7f8f"
      },
      "source": [
        "# Considering the Full Data again which we extracted above\n",
        "# Printing the last 10 values\n",
        "FullData=test_stock_data[['Close']].values\n",
        "print('Original Prices')\n",
        "print(FullData[-13:])\n",
        " \n",
        "print('###################')\n",
        " \n",
        "# Printing last 10 values of the scaled data which we have created above for the last model\n",
        "# Here I am changing the shape of the data to one dimensional array because\n",
        "# for Multi step data preparation we need to X input in this fashion\n",
        "X=sc.transform(FullData)\n",
        "X=X.reshape(X.shape[0],)\n",
        "print('Scaled Prices')\n",
        "print(X[-10:])"
      ],
      "execution_count": 32,
      "outputs": [
        {
          "output_type": "stream",
          "name": "stdout",
          "text": [
            "Original Prices\n",
            "[[222.22000122]\n",
            " [222.8999939 ]\n",
            " [221.02999878]\n",
            " [226.91999817]\n",
            " [227.25999451]\n",
            " [231.66000366]\n",
            " [247.16999817]\n",
            " [244.50999451]\n",
            " [247.40939331]]\n",
            "###################\n",
            "Scaled Prices\n",
            "[0.96185674 0.96503167 0.95630054 0.98380133 0.9853888  1.00593273\n",
            " 1.0783499  1.06593017 1.07946765]\n"
          ]
        }
      ]
    },
    {
      "cell_type": "markdown",
      "metadata": {
        "id": "PIWAOZGV3fky"
      },
      "source": [
        "# Predicting the Next 5 Days **High** price based on the high prices of the last 13 days\n"
      ]
    },
    {
      "cell_type": "code",
      "metadata": {
        "colab": {
          "base_uri": "https://localhost:8080/"
        },
        "id": "EsqIXbu7kmc3",
        "outputId": "d135a3fd-1166-4e9d-ad16-0ae1222b03fe"
      },
      "source": [
        "#=========================================================================\n",
        "# Use this if test data is greater than 13 datapoints\n",
        "\n",
        "#FullData = test_stock_data[['High']].values\n",
        "\n",
        "#=========================================================================\n",
        "# Use this if test data is less than 13 datapoints\n",
        "\n",
        "# Since test_stock_data only has less than 13 datapoints (rows) in it, we don't\n",
        "# have enough data to get the last 13 days worth of prices;\n",
        "# therefore, we will have to use the all_stock_data which hold the \n",
        "# training dataset and the test dataset\n",
        "\n",
        "# Again, since testing data is small, this is how we will actually do it\n",
        "# use line immediately below if we have ran a test first and \n",
        "# variable all_stock_data had been created(=a concatenation of training and test data), \n",
        "#FullData = all_stock_data.values \n",
        "\n",
        "#===========================================================================\n",
        "# Use this of we did not run a test at all\n",
        "\n",
        "# Since we did not run a test at all, we don't have the variable all_stock_data.values, \n",
        "# use this line instead to get the high values of the stock_data which \n",
        "# only contains the training data\n",
        "FullData=stock_data[['High']].values\n",
        "#=====================================================================\n",
        "\n",
        "# the rest is fine\n",
        "Last13Days = FullData[-14:]\n",
        "Last13Days\n",
        "\n",
        "# Normalizing the data just like we did for training the model\n",
        "# Reshaping the data to (-1,1) because its a single entry\n",
        "Last13Days = Last13Days.reshape(-1, 1)\n",
        "\n",
        "# Scaling the data on the same level on which model was trained\n",
        "X_test = sc.transform(Last13Days)\n",
        "\n",
        "# or we could have done it line so, 2 steps in 1\n",
        "#Last13Days=sc.transform(Last13Days.reshape(-1,1))\n",
        "  \n",
        "NumberofSamples = 1\n",
        "\n",
        "# Choosing TimeSteps as 13 because we have used the same for training\n",
        "# notice that currently X_test.shape = (13, 1)\n",
        "# 13 rows and 1 column\n",
        "TimeSteps = X_test.shape[0] # =13\n",
        "NumberofFeatures = X_test.shape[1] # =1\n",
        "\n",
        "# Reshaping the data as 3D input / Changing the shape of the data to 3D\n",
        "X_test = X_test.reshape(NumberofSamples, TimeSteps, NumberofFeatures) # now that we reshaped it, X_test.shape = (1, 13, 1)\n",
        " \n",
        "# Generating the predictions for next 5 days\n",
        "#Next5DaysUsingLast13 = model.predict(X_test) # use this when using the final model rather than the reconstructed one\n",
        "Next5DaysUsingLast13 = reconstructed_model.predict(X_test) # use this when using the reconstructed model\n",
        "\n",
        "# Generating the predicted prices in original scale\n",
        "Next5DaysUsingLast13 = sc.inverse_transform(Next5DaysUsingLast13)\n",
        "\n",
        "# Let's see the array of the predicted prices for the next 5 days\n",
        "Next5DaysUsingLast13"
      ],
      "execution_count": 63,
      "outputs": [
        {
          "output_type": "execute_result",
          "data": {
            "text/plain": [
              "array([[215.53554]], dtype=float32)"
            ]
          },
          "metadata": {},
          "execution_count": 63
        }
      ]
    },
    {
      "cell_type": "markdown",
      "metadata": {
        "id": "IdubhbdTkAS-"
      },
      "source": [
        "**TESTING TESTING**"
      ]
    },
    {
      "cell_type": "code",
      "metadata": {
        "colab": {
          "base_uri": "https://localhost:8080/"
        },
        "id": "YO9zHcvpkKBG",
        "outputId": "43519093-9c05-4ca5-f445-67e4498bd6a3"
      },
      "source": [
        "FullData = test_stock_data[['High']].values\n",
        "Last13Days = FullData[-13:]\n",
        "Last13Days\n",
        "\n",
        "Last13Days = Last13Days.reshape(-1, 1)\n",
        "\n",
        "X_test = sc.transform(Last13Days)\n",
        "\n",
        "NumberofSamples = 1\n",
        "TimeSteps = X_test.shape[0] # =13\n",
        "NumberofFeatures = X_test.shape[1] # =1\n",
        "X_test = X_test.reshape(NumberofSamples, TimeSteps, NumberofFeatures)\n",
        "\n",
        "\n",
        "\n",
        "Next5DaysUsingLast13 = reconstructed_model.predict(X_test)\n",
        "Next5DaysUsingLast13 = sc.inverse_transform(Next5DaysUsingLast13)\n",
        "Next5DaysUsingLast13\n"
      ],
      "execution_count": null,
      "outputs": [
        {
          "data": {
            "text/plain": [
              "array([[211.6737]], dtype=float32)"
            ]
          },
          "execution_count": 68,
          "metadata": {},
          "output_type": "execute_result"
        }
      ]
    },
    {
      "cell_type": "code",
      "metadata": {
        "id": "vRYT3TP3j8Dz"
      },
      "source": [
        "# Making predictions on test data\n",
        "Last10DaysPrices=array([1376.2, 1371.75,1387.15,1370.5 ,1344.95, \n",
        "                   1312.05, 1316.65, 1339.45, 1339.7 ,1340.85])\n",
        " \n",
        "# Reshaping the data to (-1,1 )because its a single entry\n",
        "Last10DaysPrices=Last10DaysPrices.reshape(-1, 1)\n",
        " \n",
        "# Scaling the data on the same level on which model was trained\n",
        "X_test=DataScaler.transform(Last10DaysPrices)\n",
        " \n",
        "NumberofSamples=1\n",
        "TimeSteps=X_test.shape[0]\n",
        "NumberofFeatures=X_test.shape[1]\n",
        "# Reshaping the data as 3D input\n",
        "X_test=X_test.reshape(NumberofSamples,TimeSteps,NumberofFeatures)\n",
        " \n",
        "# Generating the predictions for next 5 days\n",
        "Next5DaysPrice = regressor.predict(X_test)\n",
        " \n",
        "# Generating the prices in original scale\n",
        "Next5DaysPrice = DataScaler.inverse_transform(Next5DaysPrice)\n",
        "Next5DaysPrice"
      ],
      "execution_count": null,
      "outputs": []
    },
    {
      "cell_type": "code",
      "metadata": {
        "colab": {
          "base_uri": "https://localhost:8080/"
        },
        "id": "kcM1Kj4R7y-y",
        "outputId": "b35fee51-a34d-4b99-9a94-c1107fac2f7d"
      },
      "source": [
        "Last13Days"
      ],
      "execution_count": null,
      "outputs": [
        {
          "data": {
            "text/plain": [
              "array([[222.77000427],\n",
              "       [223.21000671],\n",
              "       [214.33000183],\n",
              "       [214.25      ],\n",
              "       [219.6000061 ],\n",
              "       [225.3500061 ],\n",
              "       [221.49000549],\n",
              "       [217.99000549],\n",
              "       [214.19000244],\n",
              "       [210.16999817],\n",
              "       [210.66000366],\n",
              "       [208.58999634],\n",
              "       [205.41999817],\n",
              "       [206.47999573],\n",
              "       [207.19999695],\n",
              "       [213.22000122],\n",
              "       [212.05999756]])"
            ]
          },
          "execution_count": 58,
          "metadata": {},
          "output_type": "execute_result"
        }
      ]
    },
    {
      "cell_type": "code",
      "metadata": {
        "colab": {
          "base_uri": "https://localhost:8080/"
        },
        "id": "kvsWAOZEvAj3",
        "outputId": "34d45d5b-c3dd-4fc4-9d50-f5115a54e6cf"
      },
      "source": [
        "# this demonstrates how test dataset does not have enough datapoints; \n",
        "# hence the need to use the all dataset\n",
        "# Let's see the dates and prices for the last 13 days\n",
        "get_all_high_prices = test_stock_data['High']\n",
        "get_last_13 = get_all_high_prices[-4:]\n",
        "print(get_last_13)"
      ],
      "execution_count": null,
      "outputs": [
        {
          "name": "stdout",
          "output_type": "stream",
          "text": [
            "Date\n",
            "2021-10-05    206.479996\n",
            "2021-10-06    207.199997\n",
            "2021-10-07    213.220001\n",
            "2021-10-08    212.059998\n",
            "Name: High, dtype: float64\n"
          ]
        }
      ]
    },
    {
      "cell_type": "code",
      "metadata": {
        "colab": {
          "base_uri": "https://localhost:8080/"
        },
        "id": "-EOtKQaFROJt",
        "outputId": "8a063fd1-4d68-431b-97aa-c3ef7801a28b"
      },
      "source": [
        "NumberofFeatures"
      ],
      "execution_count": null,
      "outputs": [
        {
          "data": {
            "text/plain": [
              "1"
            ]
          },
          "execution_count": 62,
          "metadata": {},
          "output_type": "execute_result"
        }
      ]
    },
    {
      "cell_type": "code",
      "metadata": {
        "colab": {
          "base_uri": "https://localhost:8080/",
          "height": 376
        },
        "id": "otoQtZvdmlKb",
        "outputId": "e09ef52d-8ba3-4760-eae5-278ee3fe310e"
      },
      "source": [
        "columns= ['Predicted Prices for Next 5 days using last 13']\n",
        "predicted_prices = pd.DataFrame(np.reshape(Next5DaysUsingLast13, (5,len(Next5DaysUsingLast13))),columns=columns)"
      ],
      "execution_count": null,
      "outputs": [
        {
          "ename": "ValueError",
          "evalue": "ignored",
          "output_type": "error",
          "traceback": [
            "\u001b[0;31m---------------------------------------------------------------------------\u001b[0m",
            "\u001b[0;31mValueError\u001b[0m                                Traceback (most recent call last)",
            "\u001b[0;32m<ipython-input-60-764fe722d102>\u001b[0m in \u001b[0;36m<module>\u001b[0;34m()\u001b[0m\n\u001b[1;32m      1\u001b[0m \u001b[0mcolumns\u001b[0m\u001b[0;34m=\u001b[0m \u001b[0;34m[\u001b[0m\u001b[0;34m'Predicted Prices for Next 5 days using last 13'\u001b[0m\u001b[0;34m]\u001b[0m\u001b[0;34m\u001b[0m\u001b[0;34m\u001b[0m\u001b[0m\n\u001b[0;32m----> 2\u001b[0;31m \u001b[0mpredicted_prices\u001b[0m \u001b[0;34m=\u001b[0m \u001b[0mpd\u001b[0m\u001b[0;34m.\u001b[0m\u001b[0mDataFrame\u001b[0m\u001b[0;34m(\u001b[0m\u001b[0mnp\u001b[0m\u001b[0;34m.\u001b[0m\u001b[0mreshape\u001b[0m\u001b[0;34m(\u001b[0m\u001b[0mNext5DaysUsingLast13\u001b[0m\u001b[0;34m,\u001b[0m \u001b[0;34m(\u001b[0m\u001b[0;36m5\u001b[0m\u001b[0;34m,\u001b[0m\u001b[0mlen\u001b[0m\u001b[0;34m(\u001b[0m\u001b[0mNext5DaysUsingLast13\u001b[0m\u001b[0;34m)\u001b[0m\u001b[0;34m)\u001b[0m\u001b[0;34m)\u001b[0m\u001b[0;34m,\u001b[0m\u001b[0mcolumns\u001b[0m\u001b[0;34m=\u001b[0m\u001b[0mcolumns\u001b[0m\u001b[0;34m)\u001b[0m\u001b[0;34m\u001b[0m\u001b[0;34m\u001b[0m\u001b[0m\n\u001b[0m",
            "\u001b[0;32m<__array_function__ internals>\u001b[0m in \u001b[0;36mreshape\u001b[0;34m(*args, **kwargs)\u001b[0m\n",
            "\u001b[0;32m/usr/local/lib/python3.7/dist-packages/numpy/core/fromnumeric.py\u001b[0m in \u001b[0;36mreshape\u001b[0;34m(a, newshape, order)\u001b[0m\n\u001b[1;32m    297\u001b[0m            [5, 6]])\n\u001b[1;32m    298\u001b[0m     \"\"\"\n\u001b[0;32m--> 299\u001b[0;31m     \u001b[0;32mreturn\u001b[0m \u001b[0m_wrapfunc\u001b[0m\u001b[0;34m(\u001b[0m\u001b[0ma\u001b[0m\u001b[0;34m,\u001b[0m \u001b[0;34m'reshape'\u001b[0m\u001b[0;34m,\u001b[0m \u001b[0mnewshape\u001b[0m\u001b[0;34m,\u001b[0m \u001b[0morder\u001b[0m\u001b[0;34m=\u001b[0m\u001b[0morder\u001b[0m\u001b[0;34m)\u001b[0m\u001b[0;34m\u001b[0m\u001b[0;34m\u001b[0m\u001b[0m\n\u001b[0m\u001b[1;32m    300\u001b[0m \u001b[0;34m\u001b[0m\u001b[0m\n\u001b[1;32m    301\u001b[0m \u001b[0;34m\u001b[0m\u001b[0m\n",
            "\u001b[0;32m/usr/local/lib/python3.7/dist-packages/numpy/core/fromnumeric.py\u001b[0m in \u001b[0;36m_wrapfunc\u001b[0;34m(obj, method, *args, **kwds)\u001b[0m\n\u001b[1;32m     56\u001b[0m \u001b[0;34m\u001b[0m\u001b[0m\n\u001b[1;32m     57\u001b[0m     \u001b[0;32mtry\u001b[0m\u001b[0;34m:\u001b[0m\u001b[0;34m\u001b[0m\u001b[0;34m\u001b[0m\u001b[0m\n\u001b[0;32m---> 58\u001b[0;31m         \u001b[0;32mreturn\u001b[0m \u001b[0mbound\u001b[0m\u001b[0;34m(\u001b[0m\u001b[0;34m*\u001b[0m\u001b[0margs\u001b[0m\u001b[0;34m,\u001b[0m \u001b[0;34m**\u001b[0m\u001b[0mkwds\u001b[0m\u001b[0;34m)\u001b[0m\u001b[0;34m\u001b[0m\u001b[0;34m\u001b[0m\u001b[0m\n\u001b[0m\u001b[1;32m     59\u001b[0m     \u001b[0;32mexcept\u001b[0m \u001b[0mTypeError\u001b[0m\u001b[0;34m:\u001b[0m\u001b[0;34m\u001b[0m\u001b[0;34m\u001b[0m\u001b[0m\n\u001b[1;32m     60\u001b[0m         \u001b[0;31m# A TypeError occurs if the object does have such a method in its\u001b[0m\u001b[0;34m\u001b[0m\u001b[0;34m\u001b[0m\u001b[0;34m\u001b[0m\u001b[0m\n",
            "\u001b[0;31mValueError\u001b[0m: cannot reshape array of size 1 into shape (5,1)"
          ]
        }
      ]
    },
    {
      "cell_type": "code",
      "metadata": {
        "colab": {
          "base_uri": "https://localhost:8080/",
          "height": 189
        },
        "id": "TYZmYRMjnqWV",
        "outputId": "3153f52f-80cb-4e18-b6da-dd095cb594b3"
      },
      "source": [
        "# Let's plot our predicted prices\n",
        "predicted_prices"
      ],
      "execution_count": null,
      "outputs": [
        {
          "ename": "NameError",
          "evalue": "ignored",
          "output_type": "error",
          "traceback": [
            "\u001b[0;31m---------------------------------------------------------------------------\u001b[0m",
            "\u001b[0;31mNameError\u001b[0m                                 Traceback (most recent call last)",
            "\u001b[0;32m<ipython-input-59-4315b450384d>\u001b[0m in \u001b[0;36m<module>\u001b[0;34m()\u001b[0m\n\u001b[1;32m      1\u001b[0m \u001b[0;31m# Let's plot our predicted prices\u001b[0m\u001b[0;34m\u001b[0m\u001b[0;34m\u001b[0m\u001b[0;34m\u001b[0m\u001b[0m\n\u001b[0;32m----> 2\u001b[0;31m \u001b[0mpredicted_prices\u001b[0m\u001b[0;34m\u001b[0m\u001b[0;34m\u001b[0m\u001b[0m\n\u001b[0m",
            "\u001b[0;31mNameError\u001b[0m: name 'predicted_prices' is not defined"
          ]
        }
      ]
    },
    {
      "cell_type": "code",
      "metadata": {
        "id": "iwamA4pXDzkh"
      },
      "source": [
        "# Let's convert our prediction to csv if needed\n",
        "predicted_prices.to_csv('/content/drive/MyDrive/Palantir_Aug09_to_Aug13_predictions.csv')"
      ],
      "execution_count": null,
      "outputs": []
    },
    {
      "cell_type": "markdown",
      "metadata": {
        "id": "9biEbhJu_iDb"
      },
      "source": [
        "# Let's get the real high prices for the next 5 days so we can compare them to our predicted prices"
      ]
    },
    {
      "cell_type": "code",
      "metadata": {
        "id": "_4Ui12ZZ_gwj"
      },
      "source": [
        "# real stock prices from 5 days  \n",
        "\n",
        "testing_start_date = '2021-08-14'\n",
        "testing_end_date = '2021-08-21'\n",
        "\n",
        "hum_stock_data= nvidia_stock_prices.history(start=testing_start_date, end=testing_end_date, auto_adjust=True)"
      ],
      "execution_count": null,
      "outputs": []
    },
    {
      "cell_type": "code",
      "metadata": {
        "colab": {
          "base_uri": "https://localhost:8080/",
          "height": 236
        },
        "id": "8vdey1X_AUgg",
        "outputId": "6c398c3c-1b61-4685-b2c8-b94d51e01b21"
      },
      "source": [
        "hum_stock_data"
      ],
      "execution_count": null,
      "outputs": [
        {
          "data": {
            "text/html": [
              "<div>\n",
              "<style scoped>\n",
              "    .dataframe tbody tr th:only-of-type {\n",
              "        vertical-align: middle;\n",
              "    }\n",
              "\n",
              "    .dataframe tbody tr th {\n",
              "        vertical-align: top;\n",
              "    }\n",
              "\n",
              "    .dataframe thead th {\n",
              "        text-align: right;\n",
              "    }\n",
              "</style>\n",
              "<table border=\"1\" class=\"dataframe\">\n",
              "  <thead>\n",
              "    <tr style=\"text-align: right;\">\n",
              "      <th></th>\n",
              "      <th>Open</th>\n",
              "      <th>High</th>\n",
              "      <th>Low</th>\n",
              "      <th>Close</th>\n",
              "      <th>Volume</th>\n",
              "      <th>Dividends</th>\n",
              "      <th>Stock Splits</th>\n",
              "    </tr>\n",
              "    <tr>\n",
              "      <th>Date</th>\n",
              "      <th></th>\n",
              "      <th></th>\n",
              "      <th></th>\n",
              "      <th></th>\n",
              "      <th></th>\n",
              "      <th></th>\n",
              "      <th></th>\n",
              "    </tr>\n",
              "  </thead>\n",
              "  <tbody>\n",
              "    <tr>\n",
              "      <th>2021-08-16</th>\n",
              "      <td>201.350006</td>\n",
              "      <td>202.869995</td>\n",
              "      <td>194.529999</td>\n",
              "      <td>199.500000</td>\n",
              "      <td>21087600</td>\n",
              "      <td>0</td>\n",
              "      <td>0</td>\n",
              "    </tr>\n",
              "    <tr>\n",
              "      <th>2021-08-17</th>\n",
              "      <td>196.850006</td>\n",
              "      <td>197.699997</td>\n",
              "      <td>192.669998</td>\n",
              "      <td>194.580002</td>\n",
              "      <td>20458500</td>\n",
              "      <td>0</td>\n",
              "      <td>0</td>\n",
              "    </tr>\n",
              "    <tr>\n",
              "      <th>2021-08-18</th>\n",
              "      <td>195.000000</td>\n",
              "      <td>196.339996</td>\n",
              "      <td>190.000000</td>\n",
              "      <td>190.399994</td>\n",
              "      <td>28591300</td>\n",
              "      <td>0</td>\n",
              "      <td>0</td>\n",
              "    </tr>\n",
              "    <tr>\n",
              "      <th>2021-08-19</th>\n",
              "      <td>194.940002</td>\n",
              "      <td>204.949997</td>\n",
              "      <td>187.619995</td>\n",
              "      <td>197.979996</td>\n",
              "      <td>76655500</td>\n",
              "      <td>0</td>\n",
              "      <td>0</td>\n",
              "    </tr>\n",
              "    <tr>\n",
              "      <th>2021-08-20</th>\n",
              "      <td>199.910004</td>\n",
              "      <td>208.650604</td>\n",
              "      <td>199.330002</td>\n",
              "      <td>208.160004</td>\n",
              "      <td>67574131</td>\n",
              "      <td>0</td>\n",
              "      <td>0</td>\n",
              "    </tr>\n",
              "  </tbody>\n",
              "</table>\n",
              "</div>"
            ],
            "text/plain": [
              "                  Open        High  ...  Dividends  Stock Splits\n",
              "Date                                ...                         \n",
              "2021-08-16  201.350006  202.869995  ...          0             0\n",
              "2021-08-17  196.850006  197.699997  ...          0             0\n",
              "2021-08-18  195.000000  196.339996  ...          0             0\n",
              "2021-08-19  194.940002  204.949997  ...          0             0\n",
              "2021-08-20  199.910004  208.650604  ...          0             0\n",
              "\n",
              "[5 rows x 7 columns]"
            ]
          },
          "execution_count": 211,
          "metadata": {},
          "output_type": "execute_result"
        }
      ]
    },
    {
      "cell_type": "code",
      "metadata": {
        "id": "cQXz5DpbAb51"
      },
      "source": [
        "real_high = hum_stock_data['High']"
      ],
      "execution_count": null,
      "outputs": []
    },
    {
      "cell_type": "code",
      "metadata": {
        "colab": {
          "base_uri": "https://localhost:8080/"
        },
        "id": "qmNkLUsyAk1k",
        "outputId": "03010820-2e44-4eca-e1c3-128328543ef1"
      },
      "source": [
        "print(real_high)"
      ],
      "execution_count": null,
      "outputs": [
        {
          "name": "stdout",
          "output_type": "stream",
          "text": [
            "Date\n",
            "2021-08-16    202.869995\n",
            "2021-08-17    197.699997\n",
            "2021-08-18    196.339996\n",
            "2021-08-19    204.949997\n",
            "2021-08-20    208.650604\n",
            "Name: High, dtype: float64\n"
          ]
        }
      ]
    },
    {
      "cell_type": "code",
      "metadata": {
        "colab": {
          "base_uri": "https://localhost:8080/"
        },
        "id": "FybJNNXDBVFn",
        "outputId": "0be70fdb-4078-4f20-b6a4-3df1bf2be05a"
      },
      "source": [
        "# Let's get the real high prices into an array of values\n",
        "real_prices_of_future5days_using_last_13= real_high.values\n",
        "real_prices_of_future5days_using_last_13"
      ],
      "execution_count": null,
      "outputs": [
        {
          "data": {
            "text/plain": [
              "array([202.86999512, 197.69999695, 196.33999634, 204.94999695,\n",
              "       208.65060425])"
            ]
          },
          "execution_count": 215,
          "metadata": {},
          "output_type": "execute_result"
        }
      ]
    },
    {
      "cell_type": "code",
      "metadata": {
        "colab": {
          "base_uri": "https://localhost:8080/",
          "height": 205
        },
        "id": "eYH6N_2cAo7Z",
        "outputId": "4278ccff-7635-4ede-d6d4-068ac08680ce"
      },
      "source": [
        "columns=['Actual prices for Next 5 Days using last 13']\n",
        "actual_prices = pd.DataFrame(real_prices_of_future5days_using_last_13, columns=columns)\n",
        "actual_prices"
      ],
      "execution_count": null,
      "outputs": [
        {
          "data": {
            "text/html": [
              "<div>\n",
              "<style scoped>\n",
              "    .dataframe tbody tr th:only-of-type {\n",
              "        vertical-align: middle;\n",
              "    }\n",
              "\n",
              "    .dataframe tbody tr th {\n",
              "        vertical-align: top;\n",
              "    }\n",
              "\n",
              "    .dataframe thead th {\n",
              "        text-align: right;\n",
              "    }\n",
              "</style>\n",
              "<table border=\"1\" class=\"dataframe\">\n",
              "  <thead>\n",
              "    <tr style=\"text-align: right;\">\n",
              "      <th></th>\n",
              "      <th>Actual prices for Next 5 Days using last 13</th>\n",
              "    </tr>\n",
              "  </thead>\n",
              "  <tbody>\n",
              "    <tr>\n",
              "      <th>0</th>\n",
              "      <td>202.869995</td>\n",
              "    </tr>\n",
              "    <tr>\n",
              "      <th>1</th>\n",
              "      <td>197.699997</td>\n",
              "    </tr>\n",
              "    <tr>\n",
              "      <th>2</th>\n",
              "      <td>196.339996</td>\n",
              "    </tr>\n",
              "    <tr>\n",
              "      <th>3</th>\n",
              "      <td>204.949997</td>\n",
              "    </tr>\n",
              "    <tr>\n",
              "      <th>4</th>\n",
              "      <td>208.650604</td>\n",
              "    </tr>\n",
              "  </tbody>\n",
              "</table>\n",
              "</div>"
            ],
            "text/plain": [
              "   Actual prices for Next 5 Days using last 13\n",
              "0                                   202.869995\n",
              "1                                   197.699997\n",
              "2                                   196.339996\n",
              "3                                   204.949997\n",
              "4                                   208.650604"
            ]
          },
          "execution_count": 216,
          "metadata": {},
          "output_type": "execute_result"
        }
      ]
    },
    {
      "cell_type": "code",
      "metadata": {
        "colab": {
          "base_uri": "https://localhost:8080/",
          "height": 205
        },
        "id": "szjTm7IEtYYi",
        "outputId": "b6c10ca3-f89e-4598-f687-327fa9908ee9"
      },
      "source": [
        "# Let's concatenate our actual prices and our predicted prices for the future 5 days\n",
        "results = pd.concat([actual_prices, predicted_prices], axis=1, join='inner')\n",
        "results"
      ],
      "execution_count": null,
      "outputs": [
        {
          "data": {
            "text/html": [
              "<div>\n",
              "<style scoped>\n",
              "    .dataframe tbody tr th:only-of-type {\n",
              "        vertical-align: middle;\n",
              "    }\n",
              "\n",
              "    .dataframe tbody tr th {\n",
              "        vertical-align: top;\n",
              "    }\n",
              "\n",
              "    .dataframe thead th {\n",
              "        text-align: right;\n",
              "    }\n",
              "</style>\n",
              "<table border=\"1\" class=\"dataframe\">\n",
              "  <thead>\n",
              "    <tr style=\"text-align: right;\">\n",
              "      <th></th>\n",
              "      <th>Actual prices for Next 5 Days using last 13</th>\n",
              "      <th>Predicted Prices for Next 5 days using last 13</th>\n",
              "    </tr>\n",
              "  </thead>\n",
              "  <tbody>\n",
              "    <tr>\n",
              "      <th>0</th>\n",
              "      <td>202.869995</td>\n",
              "      <td>202.218323</td>\n",
              "    </tr>\n",
              "    <tr>\n",
              "      <th>1</th>\n",
              "      <td>197.699997</td>\n",
              "      <td>202.218323</td>\n",
              "    </tr>\n",
              "    <tr>\n",
              "      <th>2</th>\n",
              "      <td>196.339996</td>\n",
              "      <td>202.218338</td>\n",
              "    </tr>\n",
              "    <tr>\n",
              "      <th>3</th>\n",
              "      <td>204.949997</td>\n",
              "      <td>202.218338</td>\n",
              "    </tr>\n",
              "    <tr>\n",
              "      <th>4</th>\n",
              "      <td>208.650604</td>\n",
              "      <td>202.218323</td>\n",
              "    </tr>\n",
              "  </tbody>\n",
              "</table>\n",
              "</div>"
            ],
            "text/plain": [
              "   Actual prices for Next 5 Days using last 13  Predicted Prices for Next 5 days using last 13\n",
              "0                                   202.869995                                      202.218323\n",
              "1                                   197.699997                                      202.218323\n",
              "2                                   196.339996                                      202.218338\n",
              "3                                   204.949997                                      202.218338\n",
              "4                                   208.650604                                      202.218323"
            ]
          },
          "execution_count": 217,
          "metadata": {},
          "output_type": "execute_result"
        }
      ]
    },
    {
      "cell_type": "code",
      "metadata": {
        "colab": {
          "base_uri": "https://localhost:8080/",
          "height": 205
        },
        "id": "Isw2Ih9stlQW",
        "outputId": "30293605-7672-4c49-9153-c296a1bcfe18"
      },
      "source": [
        "df = pd.DataFrame(results)\n",
        "\n",
        "# Let's include another column showing the difference between true price and predicted price\n",
        "df['Val_Diff'] = df['Actual prices for Next 5 Days using last 13'] - df['Predicted Prices for Next 5 days using last 13']\n",
        "df"
      ],
      "execution_count": null,
      "outputs": [
        {
          "data": {
            "text/html": [
              "<div>\n",
              "<style scoped>\n",
              "    .dataframe tbody tr th:only-of-type {\n",
              "        vertical-align: middle;\n",
              "    }\n",
              "\n",
              "    .dataframe tbody tr th {\n",
              "        vertical-align: top;\n",
              "    }\n",
              "\n",
              "    .dataframe thead th {\n",
              "        text-align: right;\n",
              "    }\n",
              "</style>\n",
              "<table border=\"1\" class=\"dataframe\">\n",
              "  <thead>\n",
              "    <tr style=\"text-align: right;\">\n",
              "      <th></th>\n",
              "      <th>Actual prices for Next 5 Days using last 13</th>\n",
              "      <th>Predicted Prices for Next 5 days using last 13</th>\n",
              "      <th>Val_Diff</th>\n",
              "    </tr>\n",
              "  </thead>\n",
              "  <tbody>\n",
              "    <tr>\n",
              "      <th>0</th>\n",
              "      <td>202.869995</td>\n",
              "      <td>202.218323</td>\n",
              "      <td>0.651672</td>\n",
              "    </tr>\n",
              "    <tr>\n",
              "      <th>1</th>\n",
              "      <td>197.699997</td>\n",
              "      <td>202.218323</td>\n",
              "      <td>-4.518326</td>\n",
              "    </tr>\n",
              "    <tr>\n",
              "      <th>2</th>\n",
              "      <td>196.339996</td>\n",
              "      <td>202.218338</td>\n",
              "      <td>-5.878342</td>\n",
              "    </tr>\n",
              "    <tr>\n",
              "      <th>3</th>\n",
              "      <td>204.949997</td>\n",
              "      <td>202.218338</td>\n",
              "      <td>2.731659</td>\n",
              "    </tr>\n",
              "    <tr>\n",
              "      <th>4</th>\n",
              "      <td>208.650604</td>\n",
              "      <td>202.218323</td>\n",
              "      <td>6.432281</td>\n",
              "    </tr>\n",
              "  </tbody>\n",
              "</table>\n",
              "</div>"
            ],
            "text/plain": [
              "   Actual prices for Next 5 Days using last 13  ...  Val_Diff\n",
              "0                                   202.869995  ...  0.651672\n",
              "1                                   197.699997  ... -4.518326\n",
              "2                                   196.339996  ... -5.878342\n",
              "3                                   204.949997  ...  2.731659\n",
              "4                                   208.650604  ...  6.432281\n",
              "\n",
              "[5 rows x 3 columns]"
            ]
          },
          "execution_count": 218,
          "metadata": {},
          "output_type": "execute_result"
        }
      ]
    },
    {
      "cell_type": "code",
      "metadata": {
        "id": "9XztrEYEFbDj"
      },
      "source": [
        "# Let's convert our prediction to csv\n",
        "df.to_csv('/content/drive/MyDrive/Palantir_Aug09_to_Aug13_predictions_last13_starttraining20201024_to_20210515.csv')"
      ],
      "execution_count": null,
      "outputs": []
    },
    {
      "cell_type": "markdown",
      "metadata": {
        "id": "EY3_WUZC32z1"
      },
      "source": [
        "# Predicting the Next 5 Days **High** price based on the high prices of the last 10 days\n",
        "* We get to see that using last 10 days results in a bad prediction"
      ]
    },
    {
      "cell_type": "code",
      "metadata": {
        "colab": {
          "base_uri": "https://localhost:8080/"
        },
        "id": "Kqul4VHfj7LD",
        "outputId": "5d7286b2-cee9-4c8e-876f-147ac506fe4b"
      },
      "source": [
        "#===============================================================\n",
        "# We won't use the test dataset (code below) to get our last 13 real prices\n",
        "# because it only has 4 datapoints\n",
        "#FullData=test_stock_data[['High']].values\n",
        "\n",
        "# Let's get the high prices of the last 10 days from all the data\n",
        "#Last10Days=FullData[-10:]\n",
        "#Last10Days\n",
        " \n",
        "# Reshaping the data to (-1,1 )because its a single entry\n",
        "#Last10Days = Last10Days.reshape(-1, 1)\n",
        "#================================================================\n",
        "\n",
        "# We will need to use the all_stock_data dataset\n",
        "# because it contains the last concatenation of the original\n",
        "# training data from '2020-10-24' to '2021-08-15' and \n",
        "# the test data from '2021-08-16' to '2021-08-19\n",
        "# This represents ALL of our current data\n",
        "\n",
        "FullData = all_stock_data.values\n",
        "Last10Days = FullData[-10:]\n",
        "\n",
        "# Reshaping the data to (-1,1) because its a single entry\n",
        "Last10Days = Last10Days.reshape(-1, 1)\n",
        "\n",
        "# Scaling the data on the same level on which model was trained\n",
        "X_test=sc.transform(Last10Days)\n",
        " \n",
        "NumberofSamples=1\n",
        "TimeSteps=X_test.shape[0]\n",
        "NumberofFeatures=X_test.shape[1]\n",
        "# Reshaping the data as 3D input\n",
        "X_test=X_test.reshape(NumberofSamples,TimeSteps,NumberofFeatures)\n",
        " \n",
        "# Generating the predictions for next 5 days\n",
        "Next5DaysUsingLast10 = model.predict(X_test)\n",
        " \n",
        "# Generating the prices in original scale\n",
        "Next5DaysUsingLast10 = sc.inverse_transform(Next5DaysUsingLast10)\n",
        "Next5DaysUsingLast10"
      ],
      "execution_count": null,
      "outputs": [
        {
          "name": "stdout",
          "output_type": "stream",
          "text": [
            "WARNING:tensorflow:5 out of the last 7 calls to <function Model.make_predict_function.<locals>.predict_function at 0x7f67b5cb65f0> triggered tf.function retracing. Tracing is expensive and the excessive number of tracings could be due to (1) creating @tf.function repeatedly in a loop, (2) passing tensors with different shapes, (3) passing Python objects instead of tensors. For (1), please define your @tf.function outside of the loop. For (2), @tf.function has experimental_relax_shapes=True option that relaxes argument shapes that can avoid unnecessary retracing. For (3), please refer to https://www.tensorflow.org/guide/function#controlling_retracing and https://www.tensorflow.org/api_docs/python/tf/function for  more details.\n"
          ]
        },
        {
          "name": "stderr",
          "output_type": "stream",
          "text": [
            "WARNING:tensorflow:5 out of the last 7 calls to <function Model.make_predict_function.<locals>.predict_function at 0x7f67b5cb65f0> triggered tf.function retracing. Tracing is expensive and the excessive number of tracings could be due to (1) creating @tf.function repeatedly in a loop, (2) passing tensors with different shapes, (3) passing Python objects instead of tensors. For (1), please define your @tf.function outside of the loop. For (2), @tf.function has experimental_relax_shapes=True option that relaxes argument shapes that can avoid unnecessary retracing. For (3), please refer to https://www.tensorflow.org/guide/function#controlling_retracing and https://www.tensorflow.org/api_docs/python/tf/function for  more details.\n"
          ]
        },
        {
          "data": {
            "text/plain": [
              "array([[205.22101, 205.22101, 205.221  , 205.221  , 205.22101]],\n",
              "      dtype=float32)"
            ]
          },
          "execution_count": 202,
          "metadata": {},
          "output_type": "execute_result"
        }
      ]
    },
    {
      "cell_type": "code",
      "metadata": {
        "id": "pwZ3gTEJmEJw"
      },
      "source": [
        "columns= ['Predicted Prices for Next 5 days using last 10']\n",
        "predicted_prices_using_last10 = pd.DataFrame(np.reshape(Next5DaysUsingLast10, (5,len(Next5DaysUsingLast10))),columns=columns)"
      ],
      "execution_count": null,
      "outputs": []
    },
    {
      "cell_type": "code",
      "metadata": {
        "colab": {
          "base_uri": "https://localhost:8080/",
          "height": 205
        },
        "id": "Ydiav13amWlj",
        "outputId": "e6aa0e18-e7fe-4f50-b6ae-0b50ed4f83fa"
      },
      "source": [
        "predicted_prices_using_last10"
      ],
      "execution_count": null,
      "outputs": [
        {
          "data": {
            "text/html": [
              "<div>\n",
              "<style scoped>\n",
              "    .dataframe tbody tr th:only-of-type {\n",
              "        vertical-align: middle;\n",
              "    }\n",
              "\n",
              "    .dataframe tbody tr th {\n",
              "        vertical-align: top;\n",
              "    }\n",
              "\n",
              "    .dataframe thead th {\n",
              "        text-align: right;\n",
              "    }\n",
              "</style>\n",
              "<table border=\"1\" class=\"dataframe\">\n",
              "  <thead>\n",
              "    <tr style=\"text-align: right;\">\n",
              "      <th></th>\n",
              "      <th>Predicted Prices for Next 5 days using last 10</th>\n",
              "    </tr>\n",
              "  </thead>\n",
              "  <tbody>\n",
              "    <tr>\n",
              "      <th>0</th>\n",
              "      <td>205.221008</td>\n",
              "    </tr>\n",
              "    <tr>\n",
              "      <th>1</th>\n",
              "      <td>205.221008</td>\n",
              "    </tr>\n",
              "    <tr>\n",
              "      <th>2</th>\n",
              "      <td>205.220993</td>\n",
              "    </tr>\n",
              "    <tr>\n",
              "      <th>3</th>\n",
              "      <td>205.220993</td>\n",
              "    </tr>\n",
              "    <tr>\n",
              "      <th>4</th>\n",
              "      <td>205.221008</td>\n",
              "    </tr>\n",
              "  </tbody>\n",
              "</table>\n",
              "</div>"
            ],
            "text/plain": [
              "   Predicted Prices for Next 5 days using last 10\n",
              "0                                      205.221008\n",
              "1                                      205.221008\n",
              "2                                      205.220993\n",
              "3                                      205.220993\n",
              "4                                      205.221008"
            ]
          },
          "execution_count": 204,
          "metadata": {},
          "output_type": "execute_result"
        }
      ]
    },
    {
      "cell_type": "code",
      "metadata": {
        "colab": {
          "base_uri": "https://localhost:8080/"
        },
        "id": "vypCNHYeMAzq",
        "outputId": "85a1cb63-d46a-4a53-a54c-e22173e80421"
      },
      "source": [
        "print(real_high)"
      ],
      "execution_count": null,
      "outputs": [
        {
          "name": "stdout",
          "output_type": "stream",
          "text": [
            "Date\n",
            "2021-08-09    205.080002\n",
            "2021-08-10    204.300003\n",
            "2021-08-11    200.490005\n",
            "2021-08-12    200.289993\n",
            "2021-08-13    202.139999\n",
            "Name: High, dtype: float64\n"
          ]
        }
      ]
    },
    {
      "cell_type": "code",
      "metadata": {
        "colab": {
          "base_uri": "https://localhost:8080/"
        },
        "id": "xnihri52MGVe",
        "outputId": "87d09c5d-d9ab-4eba-d845-5a2acc5bb368"
      },
      "source": [
        "# Let's get the real high prices into an array of values\n",
        "real_prices_of_future5days_using_last_10= real_high.values\n",
        "real_prices_of_future5days_using_last_10"
      ],
      "execution_count": null,
      "outputs": [
        {
          "data": {
            "text/plain": [
              "array([205.08000183, 204.30000305, 200.49000549, 200.28999329,\n",
              "       202.13999939])"
            ]
          },
          "execution_count": 206,
          "metadata": {},
          "output_type": "execute_result"
        }
      ]
    },
    {
      "cell_type": "code",
      "metadata": {
        "colab": {
          "base_uri": "https://localhost:8080/",
          "height": 205
        },
        "id": "rPSK18mCMpbm",
        "outputId": "5fef4b55-63f0-48e1-8f54-0c2a1788bd4e"
      },
      "source": [
        "columns=['Actual prices for Next 5 Days']\n",
        "actual_prices = pd.DataFrame(real_prices_of_future5days_using_last_10, columns=columns)\n",
        "actual_prices"
      ],
      "execution_count": null,
      "outputs": [
        {
          "data": {
            "text/html": [
              "<div>\n",
              "<style scoped>\n",
              "    .dataframe tbody tr th:only-of-type {\n",
              "        vertical-align: middle;\n",
              "    }\n",
              "\n",
              "    .dataframe tbody tr th {\n",
              "        vertical-align: top;\n",
              "    }\n",
              "\n",
              "    .dataframe thead th {\n",
              "        text-align: right;\n",
              "    }\n",
              "</style>\n",
              "<table border=\"1\" class=\"dataframe\">\n",
              "  <thead>\n",
              "    <tr style=\"text-align: right;\">\n",
              "      <th></th>\n",
              "      <th>Actual prices for Next 5 Days</th>\n",
              "    </tr>\n",
              "  </thead>\n",
              "  <tbody>\n",
              "    <tr>\n",
              "      <th>0</th>\n",
              "      <td>205.080002</td>\n",
              "    </tr>\n",
              "    <tr>\n",
              "      <th>1</th>\n",
              "      <td>204.300003</td>\n",
              "    </tr>\n",
              "    <tr>\n",
              "      <th>2</th>\n",
              "      <td>200.490005</td>\n",
              "    </tr>\n",
              "    <tr>\n",
              "      <th>3</th>\n",
              "      <td>200.289993</td>\n",
              "    </tr>\n",
              "    <tr>\n",
              "      <th>4</th>\n",
              "      <td>202.139999</td>\n",
              "    </tr>\n",
              "  </tbody>\n",
              "</table>\n",
              "</div>"
            ],
            "text/plain": [
              "   Actual prices for Next 5 Days\n",
              "0                     205.080002\n",
              "1                     204.300003\n",
              "2                     200.490005\n",
              "3                     200.289993\n",
              "4                     202.139999"
            ]
          },
          "execution_count": 207,
          "metadata": {},
          "output_type": "execute_result"
        }
      ]
    },
    {
      "cell_type": "code",
      "metadata": {
        "colab": {
          "base_uri": "https://localhost:8080/",
          "height": 205
        },
        "id": "9I0xMQhfmpAa",
        "outputId": "6fad3845-6871-47cd-a0b9-9aa1ae475dd8"
      },
      "source": [
        "results = pd.concat([actual_prices, predicted_prices_using_last10], axis=1, join='inner')\n",
        "results"
      ],
      "execution_count": null,
      "outputs": [
        {
          "data": {
            "text/html": [
              "<div>\n",
              "<style scoped>\n",
              "    .dataframe tbody tr th:only-of-type {\n",
              "        vertical-align: middle;\n",
              "    }\n",
              "\n",
              "    .dataframe tbody tr th {\n",
              "        vertical-align: top;\n",
              "    }\n",
              "\n",
              "    .dataframe thead th {\n",
              "        text-align: right;\n",
              "    }\n",
              "</style>\n",
              "<table border=\"1\" class=\"dataframe\">\n",
              "  <thead>\n",
              "    <tr style=\"text-align: right;\">\n",
              "      <th></th>\n",
              "      <th>Actual prices for Next 5 Days</th>\n",
              "      <th>Predicted Prices for Next 5 days using last 10</th>\n",
              "    </tr>\n",
              "  </thead>\n",
              "  <tbody>\n",
              "    <tr>\n",
              "      <th>0</th>\n",
              "      <td>205.080002</td>\n",
              "      <td>205.221008</td>\n",
              "    </tr>\n",
              "    <tr>\n",
              "      <th>1</th>\n",
              "      <td>204.300003</td>\n",
              "      <td>205.221008</td>\n",
              "    </tr>\n",
              "    <tr>\n",
              "      <th>2</th>\n",
              "      <td>200.490005</td>\n",
              "      <td>205.220993</td>\n",
              "    </tr>\n",
              "    <tr>\n",
              "      <th>3</th>\n",
              "      <td>200.289993</td>\n",
              "      <td>205.220993</td>\n",
              "    </tr>\n",
              "    <tr>\n",
              "      <th>4</th>\n",
              "      <td>202.139999</td>\n",
              "      <td>205.221008</td>\n",
              "    </tr>\n",
              "  </tbody>\n",
              "</table>\n",
              "</div>"
            ],
            "text/plain": [
              "   Actual prices for Next 5 Days  Predicted Prices for Next 5 days using last 10\n",
              "0                     205.080002                                      205.221008\n",
              "1                     204.300003                                      205.221008\n",
              "2                     200.490005                                      205.220993\n",
              "3                     200.289993                                      205.220993\n",
              "4                     202.139999                                      205.221008"
            ]
          },
          "execution_count": 208,
          "metadata": {},
          "output_type": "execute_result"
        }
      ]
    },
    {
      "cell_type": "code",
      "metadata": {
        "colab": {
          "base_uri": "https://localhost:8080/",
          "height": 205
        },
        "id": "vNJcM2ihmzK5",
        "outputId": "0c9d18a5-a793-4c0a-f583-9edf698aab5a"
      },
      "source": [
        "df = pd.DataFrame(results)\n",
        "\n",
        "# Let's include another column showing the difference between true price and predicted price\n",
        "df['Val_Diff'] = df['Actual prices for Next 5 Days'] - df['Predicted Prices for Next 5 days using last 10']\n",
        "df"
      ],
      "execution_count": null,
      "outputs": [
        {
          "data": {
            "text/html": [
              "<div>\n",
              "<style scoped>\n",
              "    .dataframe tbody tr th:only-of-type {\n",
              "        vertical-align: middle;\n",
              "    }\n",
              "\n",
              "    .dataframe tbody tr th {\n",
              "        vertical-align: top;\n",
              "    }\n",
              "\n",
              "    .dataframe thead th {\n",
              "        text-align: right;\n",
              "    }\n",
              "</style>\n",
              "<table border=\"1\" class=\"dataframe\">\n",
              "  <thead>\n",
              "    <tr style=\"text-align: right;\">\n",
              "      <th></th>\n",
              "      <th>Actual prices for Next 5 Days</th>\n",
              "      <th>Predicted Prices for Next 5 days using last 10</th>\n",
              "      <th>Val_Diff</th>\n",
              "    </tr>\n",
              "  </thead>\n",
              "  <tbody>\n",
              "    <tr>\n",
              "      <th>0</th>\n",
              "      <td>205.080002</td>\n",
              "      <td>205.221008</td>\n",
              "      <td>-0.141006</td>\n",
              "    </tr>\n",
              "    <tr>\n",
              "      <th>1</th>\n",
              "      <td>204.300003</td>\n",
              "      <td>205.221008</td>\n",
              "      <td>-0.921005</td>\n",
              "    </tr>\n",
              "    <tr>\n",
              "      <th>2</th>\n",
              "      <td>200.490005</td>\n",
              "      <td>205.220993</td>\n",
              "      <td>-4.730988</td>\n",
              "    </tr>\n",
              "    <tr>\n",
              "      <th>3</th>\n",
              "      <td>200.289993</td>\n",
              "      <td>205.220993</td>\n",
              "      <td>-4.931000</td>\n",
              "    </tr>\n",
              "    <tr>\n",
              "      <th>4</th>\n",
              "      <td>202.139999</td>\n",
              "      <td>205.221008</td>\n",
              "      <td>-3.081009</td>\n",
              "    </tr>\n",
              "  </tbody>\n",
              "</table>\n",
              "</div>"
            ],
            "text/plain": [
              "   Actual prices for Next 5 Days  ...  Val_Diff\n",
              "0                     205.080002  ... -0.141006\n",
              "1                     204.300003  ... -0.921005\n",
              "2                     200.490005  ... -4.730988\n",
              "3                     200.289993  ... -4.931000\n",
              "4                     202.139999  ... -3.081009\n",
              "\n",
              "[5 rows x 3 columns]"
            ]
          },
          "execution_count": 209,
          "metadata": {},
          "output_type": "execute_result"
        }
      ]
    },
    {
      "cell_type": "code",
      "metadata": {
        "id": "5aQcIHC0zeuq"
      },
      "source": [
        "# Let's convert our prediction to csv \n",
        "# this prediction is based on using the last 10 real prices\n",
        "#df.to_csv('/content/drive/MyDrive/Using_last10_Aug09_to_Aug14_predictions.csv')"
      ],
      "execution_count": null,
      "outputs": []
    }
  ]
}